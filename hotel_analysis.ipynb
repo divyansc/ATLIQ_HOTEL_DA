{
 "cells": [
  {
   "cell_type": "markdown",
   "id": "7bf614c8",
   "metadata": {},
   "source": [
    "<h2 align="\center\" style="color: blue;">AtliQ Hotels Data Analysis<h2>"
   ]
  },
  {
   "cell_type": "markdown",
   "id": "8ea1d551",
   "metadata": {},
   "source": [
    "### Importing Libraries"
   ]
  },
  {
   "cell_type": "code",
   "execution_count": 191,
   "id": "0991e139",
   "metadata": {},
   "outputs": [],
   "source": [
    "import pandas as pd\n",
    "import matplotlib.pyplot as plt"
   ]
  },
  {
   "cell_type": "markdown",
   "id": "31cf7740",
   "metadata": {},
   "source": [
    "***\n",
    "### 1. Data Import and Data Exploration\n",
    "***"
   ]
  },
  {
   "cell_type": "markdown",
   "id": "b7440319",
   "metadata": {},
   "source": [
    "### Datasets\n",
    "We have 5 csv files \n",
    "\n",
    "   + dim_date.csv  \n",
    "   + dim_hotels.csv\n",
    "   + dim_rooms.csv\n",
    "   + fact_aggregated_bookings\n",
    "   + fact_bookings.csv"
   ]
  },
  {
   "cell_type": "markdown",
   "id": "ebba463a",
   "metadata": {},
   "source": [
    "**Read bookings data in a datagrame**"
   ]
  },
  {
   "cell_type": "code",
   "execution_count": 19,
   "id": "8c3b061a",
   "metadata": {},
   "outputs": [],
   "source": [
    "df_bookings = pd.read_csv(\"datasets/fact_bookings.csv\")"
   ]
  },
  {
   "cell_type": "markdown",
   "id": "7c9f37ec",
   "metadata": {},
   "source": [
    "**Explore bookings data**"
   ]
  },
  {
   "cell_type": "code",
   "execution_count": 30,
   "id": "c152194a",
   "metadata": {},
   "outputs": [
    {
     "data": {
      "text/html": [
       "<div>\n",
       "<style scoped>\n",
       "    .dataframe tbody tr th:only-of-type {\n",
       "        vertical-align: middle;\n",
       "    }\n",
       "\n",
       "    .dataframe tbody tr th {\n",
       "        vertical-align: top;\n",
       "    }\n",
       "\n",
       "    .dataframe thead th {\n",
       "        text-align: right;\n",
       "    }\n",
       "</style>\n",
       "<table border=\"1\" class=\"dataframe\">\n",
       "  <thead>\n",
       "    <tr style=\"text-align: right;\">\n",
       "      <th></th>\n",
       "      <th>booking_id</th>\n",
       "      <th>property_id</th>\n",
       "      <th>booking_date</th>\n",
       "      <th>check_in_date</th>\n",
       "      <th>checkout_date</th>\n",
       "      <th>no_guests</th>\n",
       "      <th>room_category</th>\n",
       "      <th>booking_platform</th>\n",
       "      <th>ratings_given</th>\n",
       "      <th>booking_status</th>\n",
       "      <th>revenue_generated</th>\n",
       "      <th>revenue_realized</th>\n",
       "    </tr>\n",
       "  </thead>\n",
       "  <tbody>\n",
       "    <tr>\n",
       "      <th>0</th>\n",
       "      <td>May012216558RT11</td>\n",
       "      <td>16558</td>\n",
       "      <td>27-04-22</td>\n",
       "      <td>1/5/2022</td>\n",
       "      <td>2/5/2022</td>\n",
       "      <td>-3.0</td>\n",
       "      <td>RT1</td>\n",
       "      <td>direct online</td>\n",
       "      <td>1.0</td>\n",
       "      <td>Checked Out</td>\n",
       "      <td>10010</td>\n",
       "      <td>10010</td>\n",
       "    </tr>\n",
       "    <tr>\n",
       "      <th>1</th>\n",
       "      <td>May012216558RT12</td>\n",
       "      <td>16558</td>\n",
       "      <td>30-04-22</td>\n",
       "      <td>1/5/2022</td>\n",
       "      <td>2/5/2022</td>\n",
       "      <td>2.0</td>\n",
       "      <td>RT1</td>\n",
       "      <td>others</td>\n",
       "      <td>NaN</td>\n",
       "      <td>Cancelled</td>\n",
       "      <td>9100</td>\n",
       "      <td>3640</td>\n",
       "    </tr>\n",
       "    <tr>\n",
       "      <th>2</th>\n",
       "      <td>May012216558RT13</td>\n",
       "      <td>16558</td>\n",
       "      <td>28-04-22</td>\n",
       "      <td>1/5/2022</td>\n",
       "      <td>4/5/2022</td>\n",
       "      <td>2.0</td>\n",
       "      <td>RT1</td>\n",
       "      <td>logtrip</td>\n",
       "      <td>5.0</td>\n",
       "      <td>Checked Out</td>\n",
       "      <td>9100000</td>\n",
       "      <td>9100</td>\n",
       "    </tr>\n",
       "    <tr>\n",
       "      <th>3</th>\n",
       "      <td>May012216558RT14</td>\n",
       "      <td>16558</td>\n",
       "      <td>28-04-22</td>\n",
       "      <td>1/5/2022</td>\n",
       "      <td>2/5/2022</td>\n",
       "      <td>-2.0</td>\n",
       "      <td>RT1</td>\n",
       "      <td>others</td>\n",
       "      <td>NaN</td>\n",
       "      <td>Cancelled</td>\n",
       "      <td>9100</td>\n",
       "      <td>3640</td>\n",
       "    </tr>\n",
       "  </tbody>\n",
       "</table>\n",
       "</div>"
      ],
      "text/plain": [
       "         booking_id  property_id booking_date check_in_date checkout_date  \\\n",
       "0  May012216558RT11        16558     27-04-22      1/5/2022      2/5/2022   \n",
       "1  May012216558RT12        16558     30-04-22      1/5/2022      2/5/2022   \n",
       "2  May012216558RT13        16558     28-04-22      1/5/2022      4/5/2022   \n",
       "3  May012216558RT14        16558     28-04-22      1/5/2022      2/5/2022   \n",
       "\n",
       "   no_guests room_category booking_platform  ratings_given booking_status  \\\n",
       "0       -3.0           RT1    direct online            1.0    Checked Out   \n",
       "1        2.0           RT1           others            NaN      Cancelled   \n",
       "2        2.0           RT1          logtrip            5.0    Checked Out   \n",
       "3       -2.0           RT1           others            NaN      Cancelled   \n",
       "\n",
       "   revenue_generated  revenue_realized  \n",
       "0              10010             10010  \n",
       "1               9100              3640  \n",
       "2            9100000              9100  \n",
       "3               9100              3640  "
      ]
     },
     "execution_count": 30,
     "metadata": {},
     "output_type": "execute_result"
    }
   ],
   "source": [
    "df_bookings.head(4)"
   ]
  },
  {
   "cell_type": "code",
   "execution_count": 3,
   "id": "0d0dd540",
   "metadata": {},
   "outputs": [
    {
     "data": {
      "text/plain": [
       "(134590, 12)"
      ]
     },
     "execution_count": 3,
     "metadata": {},
     "output_type": "execute_result"
    }
   ],
   "source": [
    "df_bookings.shape"
   ]
  },
  {
   "cell_type": "code",
   "execution_count": 4,
   "id": "f94f0e20",
   "metadata": {},
   "outputs": [
    {
     "data": {
      "text/plain": [
       "array(['RT1', 'RT2', 'RT3', 'RT4'], dtype=object)"
      ]
     },
     "execution_count": 4,
     "metadata": {},
     "output_type": "execute_result"
    }
   ],
   "source": [
    "df_bookings.room_category.unique()"
   ]
  },
  {
   "cell_type": "code",
   "execution_count": 5,
   "id": "92264b68",
   "metadata": {},
   "outputs": [
    {
     "data": {
      "text/plain": [
       "array(['direct online', 'others', 'logtrip', 'tripster', 'makeyourtrip',\n",
       "       'journey', 'direct offline'], dtype=object)"
      ]
     },
     "execution_count": 5,
     "metadata": {},
     "output_type": "execute_result"
    }
   ],
   "source": [
    "df_bookings.booking_platform.unique()"
   ]
  },
  {
   "cell_type": "code",
   "execution_count": 6,
   "id": "e73ac93f",
   "metadata": {},
   "outputs": [
    {
     "data": {
      "text/plain": [
       "others            55066\n",
       "makeyourtrip      26898\n",
       "logtrip           14756\n",
       "direct online     13379\n",
       "tripster           9630\n",
       "journey            8106\n",
       "direct offline     6755\n",
       "Name: booking_platform, dtype: int64"
      ]
     },
     "execution_count": 6,
     "metadata": {},
     "output_type": "execute_result"
    }
   ],
   "source": [
    "df_bookings.booking_platform.value_counts()"
   ]
  },
  {
   "cell_type": "code",
   "execution_count": 39,
   "id": "5320d71d",
   "metadata": {},
   "outputs": [
    {
     "data": {
      "image/png": "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\n",
      "text/plain": [
       "<Figure size 640x480 with 1 Axes>"
      ]
     },
     "metadata": {},
     "output_type": "display_data"
    }
   ],
   "source": [
    "df_bookings.booking_platform.value_counts().plot(kind=\"barh\")\n",
    "plt.xticks(rotation=45)\n",
    "plt.show()"
   ]
  },
  {
   "cell_type": "code",
   "execution_count": 15,
   "id": "d8575129",
   "metadata": {},
   "outputs": [
    {
     "data": {
      "text/html": [
       "<div>\n",
       "<style scoped>\n",
       "    .dataframe tbody tr th:only-of-type {\n",
       "        vertical-align: middle;\n",
       "    }\n",
       "\n",
       "    .dataframe tbody tr th {\n",
       "        vertical-align: top;\n",
       "    }\n",
       "\n",
       "    .dataframe thead th {\n",
       "        text-align: right;\n",
       "    }\n",
       "</style>\n",
       "<table border=\"1\" class=\"dataframe\">\n",
       "  <thead>\n",
       "    <tr style=\"text-align: right;\">\n",
       "      <th></th>\n",
       "      <th>property_id</th>\n",
       "      <th>no_guests</th>\n",
       "      <th>ratings_given</th>\n",
       "      <th>revenue_generated</th>\n",
       "      <th>revenue_realized</th>\n",
       "    </tr>\n",
       "  </thead>\n",
       "  <tbody>\n",
       "    <tr>\n",
       "      <th>count</th>\n",
       "      <td>134590.000000</td>\n",
       "      <td>134587.000000</td>\n",
       "      <td>56683.000000</td>\n",
       "      <td>1.345900e+05</td>\n",
       "      <td>134590.000000</td>\n",
       "    </tr>\n",
       "    <tr>\n",
       "      <th>mean</th>\n",
       "      <td>18061.113493</td>\n",
       "      <td>2.036170</td>\n",
       "      <td>3.619004</td>\n",
       "      <td>1.537805e+04</td>\n",
       "      <td>12696.123256</td>\n",
       "    </tr>\n",
       "    <tr>\n",
       "      <th>std</th>\n",
       "      <td>1093.055847</td>\n",
       "      <td>1.034885</td>\n",
       "      <td>1.235009</td>\n",
       "      <td>9.303604e+04</td>\n",
       "      <td>6928.108124</td>\n",
       "    </tr>\n",
       "    <tr>\n",
       "      <th>min</th>\n",
       "      <td>16558.000000</td>\n",
       "      <td>-17.000000</td>\n",
       "      <td>1.000000</td>\n",
       "      <td>6.500000e+03</td>\n",
       "      <td>2600.000000</td>\n",
       "    </tr>\n",
       "    <tr>\n",
       "      <th>25%</th>\n",
       "      <td>17558.000000</td>\n",
       "      <td>1.000000</td>\n",
       "      <td>3.000000</td>\n",
       "      <td>9.900000e+03</td>\n",
       "      <td>7600.000000</td>\n",
       "    </tr>\n",
       "    <tr>\n",
       "      <th>50%</th>\n",
       "      <td>17564.000000</td>\n",
       "      <td>2.000000</td>\n",
       "      <td>4.000000</td>\n",
       "      <td>1.350000e+04</td>\n",
       "      <td>11700.000000</td>\n",
       "    </tr>\n",
       "    <tr>\n",
       "      <th>75%</th>\n",
       "      <td>18563.000000</td>\n",
       "      <td>2.000000</td>\n",
       "      <td>5.000000</td>\n",
       "      <td>1.800000e+04</td>\n",
       "      <td>15300.000000</td>\n",
       "    </tr>\n",
       "    <tr>\n",
       "      <th>max</th>\n",
       "      <td>19563.000000</td>\n",
       "      <td>6.000000</td>\n",
       "      <td>5.000000</td>\n",
       "      <td>2.856000e+07</td>\n",
       "      <td>45220.000000</td>\n",
       "    </tr>\n",
       "  </tbody>\n",
       "</table>\n",
       "</div>"
      ],
      "text/plain": [
       "         property_id      no_guests  ratings_given  revenue_generated  \\\n",
       "count  134590.000000  134587.000000   56683.000000       1.345900e+05   \n",
       "mean    18061.113493       2.036170       3.619004       1.537805e+04   \n",
       "std      1093.055847       1.034885       1.235009       9.303604e+04   \n",
       "min     16558.000000     -17.000000       1.000000       6.500000e+03   \n",
       "25%     17558.000000       1.000000       3.000000       9.900000e+03   \n",
       "50%     17564.000000       2.000000       4.000000       1.350000e+04   \n",
       "75%     18563.000000       2.000000       5.000000       1.800000e+04   \n",
       "max     19563.000000       6.000000       5.000000       2.856000e+07   \n",
       "\n",
       "       revenue_realized  \n",
       "count     134590.000000  \n",
       "mean       12696.123256  \n",
       "std         6928.108124  \n",
       "min         2600.000000  \n",
       "25%         7600.000000  \n",
       "50%        11700.000000  \n",
       "75%        15300.000000  \n",
       "max        45220.000000  "
      ]
     },
     "execution_count": 15,
     "metadata": {},
     "output_type": "execute_result"
    }
   ],
   "source": [
    "df_bookings.describe()"
   ]
  },
  {
   "cell_type": "code",
   "execution_count": 16,
   "id": "9cd24016",
   "metadata": {},
   "outputs": [
    {
     "data": {
      "text/plain": [
       "(6500, 28560000)"
      ]
     },
     "execution_count": 16,
     "metadata": {},
     "output_type": "execute_result"
    }
   ],
   "source": [
    "df_bookings.revenue_generated.min(),df_bookings.revenue_generated.max()"
   ]
  },
  {
   "cell_type": "markdown",
   "id": "fcdf0e26",
   "metadata": {},
   "source": [
    "**Reads remaining files**"
   ]
  },
  {
   "cell_type": "code",
   "execution_count": 4,
   "id": "1ca29286",
   "metadata": {},
   "outputs": [],
   "source": [
    "df_hotel = pd.read_csv(\"datasets/dim_hotels.csv\")\n",
    "df_room = pd.read_csv(\"datasets/dim_rooms.csv\")\n",
    "df_date = pd.read_csv(\"datasets/dim_date.csv\")\n",
    "df_agg_booking = pd.read_csv(\"datasets/fact_aggregated_bookings.csv\")"
   ]
  },
  {
   "cell_type": "code",
   "execution_count": 21,
   "id": "8b52b8e2",
   "metadata": {},
   "outputs": [
    {
     "data": {
      "text/plain": [
       "(25, 4)"
      ]
     },
     "execution_count": 21,
     "metadata": {},
     "output_type": "execute_result"
    }
   ],
   "source": [
    "df_hotel.shape"
   ]
  },
  {
   "cell_type": "code",
   "execution_count": 22,
   "id": "b12a7e77",
   "metadata": {},
   "outputs": [
    {
     "data": {
      "text/html": [
       "<div>\n",
       "<style scoped>\n",
       "    .dataframe tbody tr th:only-of-type {\n",
       "        vertical-align: middle;\n",
       "    }\n",
       "\n",
       "    .dataframe tbody tr th {\n",
       "        vertical-align: top;\n",
       "    }\n",
       "\n",
       "    .dataframe thead th {\n",
       "        text-align: right;\n",
       "    }\n",
       "</style>\n",
       "<table border=\"1\" class=\"dataframe\">\n",
       "  <thead>\n",
       "    <tr style=\"text-align: right;\">\n",
       "      <th></th>\n",
       "      <th>property_id</th>\n",
       "      <th>property_name</th>\n",
       "      <th>category</th>\n",
       "      <th>city</th>\n",
       "    </tr>\n",
       "  </thead>\n",
       "  <tbody>\n",
       "    <tr>\n",
       "      <th>0</th>\n",
       "      <td>16558</td>\n",
       "      <td>Atliq Grands</td>\n",
       "      <td>Luxury</td>\n",
       "      <td>Delhi</td>\n",
       "    </tr>\n",
       "    <tr>\n",
       "      <th>1</th>\n",
       "      <td>16559</td>\n",
       "      <td>Atliq Exotica</td>\n",
       "      <td>Luxury</td>\n",
       "      <td>Mumbai</td>\n",
       "    </tr>\n",
       "    <tr>\n",
       "      <th>2</th>\n",
       "      <td>16560</td>\n",
       "      <td>Atliq City</td>\n",
       "      <td>Business</td>\n",
       "      <td>Delhi</td>\n",
       "    </tr>\n",
       "    <tr>\n",
       "      <th>3</th>\n",
       "      <td>16561</td>\n",
       "      <td>Atliq Blu</td>\n",
       "      <td>Luxury</td>\n",
       "      <td>Delhi</td>\n",
       "    </tr>\n",
       "  </tbody>\n",
       "</table>\n",
       "</div>"
      ],
      "text/plain": [
       "   property_id  property_name  category    city\n",
       "0        16558   Atliq Grands    Luxury   Delhi\n",
       "1        16559  Atliq Exotica    Luxury  Mumbai\n",
       "2        16560     Atliq City  Business   Delhi\n",
       "3        16561      Atliq Blu    Luxury   Delhi"
      ]
     },
     "execution_count": 22,
     "metadata": {},
     "output_type": "execute_result"
    }
   ],
   "source": [
    "df_hotel.head(4)"
   ]
  },
  {
   "cell_type": "code",
   "execution_count": 28,
   "id": "a8a15c13",
   "metadata": {},
   "outputs": [
    {
     "data": {
      "text/plain": [
       "Luxury      16\n",
       "Business     9\n",
       "Name: category, dtype: int64"
      ]
     },
     "execution_count": 28,
     "metadata": {},
     "output_type": "execute_result"
    }
   ],
   "source": [
    "df_hotel.category.value_counts()"
   ]
  },
  {
   "cell_type": "code",
   "execution_count": 34,
   "id": "43da5cbc",
   "metadata": {},
   "outputs": [
    {
     "data": {
      "text/plain": [
       "Mumbai       8\n",
       "Hyderabad    6\n",
       "Bangalore    6\n",
       "Delhi        5\n",
       "Name: city, dtype: int64"
      ]
     },
     "execution_count": 34,
     "metadata": {},
     "output_type": "execute_result"
    }
   ],
   "source": [
    "df_hotel.city.value_counts()"
   ]
  },
  {
   "cell_type": "code",
   "execution_count": 51,
   "id": "21acd772",
   "metadata": {},
   "outputs": [
    {
     "data": {
      "image/png": "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\n",
      "text/plain": [
       "<Figure size 640x480 with 1 Axes>"
      ]
     },
     "metadata": {},
     "output_type": "display_data"
    }
   ],
   "source": [
    "df_hotel.city.value_counts().plot(kind = \"bar\", x='cities', y='no.of hotels', legend=False)\n",
    "plt.xticks(rotation=45)\n",
    "plt.xlabel(\"cities\")\n",
    "plt.ylabel(\"no.of hotels\")\n",
    "plt.show()"
   ]
  },
  {
   "cell_type": "markdown",
   "id": "c5d0deb9",
   "metadata": {},
   "source": [
    "**Explore aggregate bookings**"
   ]
  },
  {
   "cell_type": "code",
   "execution_count": 52,
   "id": "a1281f20",
   "metadata": {},
   "outputs": [
    {
     "data": {
      "text/html": [
       "<div>\n",
       "<style scoped>\n",
       "    .dataframe tbody tr th:only-of-type {\n",
       "        vertical-align: middle;\n",
       "    }\n",
       "\n",
       "    .dataframe tbody tr th {\n",
       "        vertical-align: top;\n",
       "    }\n",
       "\n",
       "    .dataframe thead th {\n",
       "        text-align: right;\n",
       "    }\n",
       "</style>\n",
       "<table border=\"1\" class=\"dataframe\">\n",
       "  <thead>\n",
       "    <tr style=\"text-align: right;\">\n",
       "      <th></th>\n",
       "      <th>property_id</th>\n",
       "      <th>check_in_date</th>\n",
       "      <th>room_category</th>\n",
       "      <th>successful_bookings</th>\n",
       "      <th>capacity</th>\n",
       "    </tr>\n",
       "  </thead>\n",
       "  <tbody>\n",
       "    <tr>\n",
       "      <th>0</th>\n",
       "      <td>16559</td>\n",
       "      <td>1-May-22</td>\n",
       "      <td>RT1</td>\n",
       "      <td>25</td>\n",
       "      <td>30.0</td>\n",
       "    </tr>\n",
       "    <tr>\n",
       "      <th>1</th>\n",
       "      <td>19562</td>\n",
       "      <td>1-May-22</td>\n",
       "      <td>RT1</td>\n",
       "      <td>28</td>\n",
       "      <td>30.0</td>\n",
       "    </tr>\n",
       "    <tr>\n",
       "      <th>2</th>\n",
       "      <td>19563</td>\n",
       "      <td>1-May-22</td>\n",
       "      <td>RT1</td>\n",
       "      <td>23</td>\n",
       "      <td>30.0</td>\n",
       "    </tr>\n",
       "    <tr>\n",
       "      <th>3</th>\n",
       "      <td>17558</td>\n",
       "      <td>1-May-22</td>\n",
       "      <td>RT1</td>\n",
       "      <td>30</td>\n",
       "      <td>19.0</td>\n",
       "    </tr>\n",
       "  </tbody>\n",
       "</table>\n",
       "</div>"
      ],
      "text/plain": [
       "   property_id check_in_date room_category  successful_bookings  capacity\n",
       "0        16559      1-May-22           RT1                   25      30.0\n",
       "1        19562      1-May-22           RT1                   28      30.0\n",
       "2        19563      1-May-22           RT1                   23      30.0\n",
       "3        17558      1-May-22           RT1                   30      19.0"
      ]
     },
     "execution_count": 52,
     "metadata": {},
     "output_type": "execute_result"
    }
   ],
   "source": [
    "df_agg_booking.head(4)"
   ]
  },
  {
   "cell_type": "code",
   "execution_count": 53,
   "id": "398309ca",
   "metadata": {},
   "outputs": [
    {
     "data": {
      "text/plain": [
       "array([16559, 19562, 19563, 17558, 16558, 17560, 19558, 19560, 17561,\n",
       "       16560, 16561, 16562, 16563, 17559, 17562, 17563, 18558, 18559,\n",
       "       18561, 18562, 18563, 19559, 19561, 17564, 18560], dtype=int64)"
      ]
     },
     "execution_count": 53,
     "metadata": {},
     "output_type": "execute_result"
    }
   ],
   "source": [
    "df_agg_booking.property_id.unique()"
   ]
  },
  {
   "cell_type": "code",
   "execution_count": 54,
   "id": "22a6a84f",
   "metadata": {},
   "outputs": [
    {
     "data": {
      "text/plain": [
       "array(['RT1', 'RT2', 'RT3', 'RT4'], dtype=object)"
      ]
     },
     "execution_count": 54,
     "metadata": {},
     "output_type": "execute_result"
    }
   ],
   "source": [
    "df_agg_booking.room_category.unique()"
   ]
  },
  {
   "cell_type": "markdown",
   "id": "1713f8bf",
   "metadata": {},
   "source": [
    "#### total bookings per property"
   ]
  },
  {
   "cell_type": "code",
   "execution_count": 56,
   "id": "b30f7e0b",
   "metadata": {},
   "outputs": [
    {
     "data": {
      "text/plain": [
       "property_id\n",
       "16558    3153\n",
       "16559    7338\n",
       "16560    4693\n",
       "16561    4418\n",
       "16562    4820\n",
       "16563    7211\n",
       "17558    5053\n",
       "17559    6142\n",
       "17560    6013\n",
       "17561    5183\n",
       "17562    3424\n",
       "17563    6337\n",
       "17564    3982\n",
       "18558    4475\n",
       "18559    5256\n",
       "18560    6638\n",
       "18561    6458\n",
       "18562    7333\n",
       "18563    4737\n",
       "19558    4400\n",
       "19559    4729\n",
       "19560    6079\n",
       "19561    5736\n",
       "19562    5812\n",
       "19563    5413\n",
       "Name: successful_bookings, dtype: int64"
      ]
     },
     "execution_count": 56,
     "metadata": {},
     "output_type": "execute_result"
    }
   ],
   "source": [
    "total_bookings = df_agg_booking.groupby(\"property_id\")['successful_bookings'].sum()\n",
    "total_bookings"
   ]
  },
  {
   "cell_type": "markdown",
   "id": "c9cc98d8",
   "metadata": {},
   "source": [
    "#### days when bookings greater than capacity"
   ]
  },
  {
   "cell_type": "code",
   "execution_count": 59,
   "id": "1b36004c",
   "metadata": {},
   "outputs": [
    {
     "data": {
      "text/html": [
       "<div>\n",
       "<style scoped>\n",
       "    .dataframe tbody tr th:only-of-type {\n",
       "        vertical-align: middle;\n",
       "    }\n",
       "\n",
       "    .dataframe tbody tr th {\n",
       "        vertical-align: top;\n",
       "    }\n",
       "\n",
       "    .dataframe thead th {\n",
       "        text-align: right;\n",
       "    }\n",
       "</style>\n",
       "<table border=\"1\" class=\"dataframe\">\n",
       "  <thead>\n",
       "    <tr style=\"text-align: right;\">\n",
       "      <th></th>\n",
       "      <th>property_id</th>\n",
       "      <th>check_in_date</th>\n",
       "      <th>room_category</th>\n",
       "      <th>successful_bookings</th>\n",
       "      <th>capacity</th>\n",
       "    </tr>\n",
       "  </thead>\n",
       "  <tbody>\n",
       "    <tr>\n",
       "      <th>3</th>\n",
       "      <td>17558</td>\n",
       "      <td>1-May-22</td>\n",
       "      <td>RT1</td>\n",
       "      <td>30</td>\n",
       "      <td>19.0</td>\n",
       "    </tr>\n",
       "    <tr>\n",
       "      <th>12</th>\n",
       "      <td>16563</td>\n",
       "      <td>1-May-22</td>\n",
       "      <td>RT1</td>\n",
       "      <td>100</td>\n",
       "      <td>41.0</td>\n",
       "    </tr>\n",
       "    <tr>\n",
       "      <th>4136</th>\n",
       "      <td>19558</td>\n",
       "      <td>11-Jun-22</td>\n",
       "      <td>RT2</td>\n",
       "      <td>50</td>\n",
       "      <td>39.0</td>\n",
       "    </tr>\n",
       "    <tr>\n",
       "      <th>6209</th>\n",
       "      <td>19560</td>\n",
       "      <td>2-Jul-22</td>\n",
       "      <td>RT1</td>\n",
       "      <td>123</td>\n",
       "      <td>26.0</td>\n",
       "    </tr>\n",
       "    <tr>\n",
       "      <th>8522</th>\n",
       "      <td>19559</td>\n",
       "      <td>25-Jul-22</td>\n",
       "      <td>RT1</td>\n",
       "      <td>35</td>\n",
       "      <td>24.0</td>\n",
       "    </tr>\n",
       "    <tr>\n",
       "      <th>9194</th>\n",
       "      <td>18563</td>\n",
       "      <td>31-Jul-22</td>\n",
       "      <td>RT4</td>\n",
       "      <td>20</td>\n",
       "      <td>18.0</td>\n",
       "    </tr>\n",
       "  </tbody>\n",
       "</table>\n",
       "</div>"
      ],
      "text/plain": [
       "      property_id check_in_date room_category  successful_bookings  capacity\n",
       "3           17558      1-May-22           RT1                   30      19.0\n",
       "12          16563      1-May-22           RT1                  100      41.0\n",
       "4136        19558     11-Jun-22           RT2                   50      39.0\n",
       "6209        19560      2-Jul-22           RT1                  123      26.0\n",
       "8522        19559     25-Jul-22           RT1                   35      24.0\n",
       "9194        18563     31-Jul-22           RT4                   20      18.0"
      ]
     },
     "execution_count": 59,
     "metadata": {},
     "output_type": "execute_result"
    }
   ],
   "source": [
    "df_agg_booking[df_agg_booking.successful_bookings > df_agg_booking.capacity]"
   ]
  },
  {
   "cell_type": "markdown",
   "id": "3d103c68",
   "metadata": {},
   "source": [
    "#### properties that has maximum capacity"
   ]
  },
  {
   "cell_type": "code",
   "execution_count": 63,
   "id": "6055c91e",
   "metadata": {},
   "outputs": [
    {
     "data": {
      "text/plain": [
       "50.0"
      ]
     },
     "execution_count": 63,
     "metadata": {},
     "output_type": "execute_result"
    }
   ],
   "source": [
    "max_capacity = df_agg_booking.capacity.max()\n",
    "max_capacity"
   ]
  },
  {
   "cell_type": "code",
   "execution_count": 64,
   "id": "6c147483",
   "metadata": {},
   "outputs": [
    {
     "data": {
      "text/html": [
       "<div>\n",
       "<style scoped>\n",
       "    .dataframe tbody tr th:only-of-type {\n",
       "        vertical-align: middle;\n",
       "    }\n",
       "\n",
       "    .dataframe tbody tr th {\n",
       "        vertical-align: top;\n",
       "    }\n",
       "\n",
       "    .dataframe thead th {\n",
       "        text-align: right;\n",
       "    }\n",
       "</style>\n",
       "<table border=\"1\" class=\"dataframe\">\n",
       "  <thead>\n",
       "    <tr style=\"text-align: right;\">\n",
       "      <th></th>\n",
       "      <th>property_id</th>\n",
       "      <th>check_in_date</th>\n",
       "      <th>room_category</th>\n",
       "      <th>successful_bookings</th>\n",
       "      <th>capacity</th>\n",
       "    </tr>\n",
       "  </thead>\n",
       "  <tbody>\n",
       "    <tr>\n",
       "      <th>27</th>\n",
       "      <td>17558</td>\n",
       "      <td>1-May-22</td>\n",
       "      <td>RT2</td>\n",
       "      <td>38</td>\n",
       "      <td>50.0</td>\n",
       "    </tr>\n",
       "    <tr>\n",
       "      <th>128</th>\n",
       "      <td>17558</td>\n",
       "      <td>2-May-22</td>\n",
       "      <td>RT2</td>\n",
       "      <td>27</td>\n",
       "      <td>50.0</td>\n",
       "    </tr>\n",
       "    <tr>\n",
       "      <th>229</th>\n",
       "      <td>17558</td>\n",
       "      <td>3-May-22</td>\n",
       "      <td>RT2</td>\n",
       "      <td>26</td>\n",
       "      <td>50.0</td>\n",
       "    </tr>\n",
       "    <tr>\n",
       "      <th>328</th>\n",
       "      <td>17558</td>\n",
       "      <td>4-May-22</td>\n",
       "      <td>RT2</td>\n",
       "      <td>27</td>\n",
       "      <td>50.0</td>\n",
       "    </tr>\n",
       "    <tr>\n",
       "      <th>428</th>\n",
       "      <td>17558</td>\n",
       "      <td>5-May-22</td>\n",
       "      <td>RT2</td>\n",
       "      <td>29</td>\n",
       "      <td>50.0</td>\n",
       "    </tr>\n",
       "    <tr>\n",
       "      <th>...</th>\n",
       "      <td>...</td>\n",
       "      <td>...</td>\n",
       "      <td>...</td>\n",
       "      <td>...</td>\n",
       "      <td>...</td>\n",
       "    </tr>\n",
       "    <tr>\n",
       "      <th>8728</th>\n",
       "      <td>17558</td>\n",
       "      <td>27-Jul-22</td>\n",
       "      <td>RT2</td>\n",
       "      <td>22</td>\n",
       "      <td>50.0</td>\n",
       "    </tr>\n",
       "    <tr>\n",
       "      <th>8828</th>\n",
       "      <td>17558</td>\n",
       "      <td>28-Jul-22</td>\n",
       "      <td>RT2</td>\n",
       "      <td>21</td>\n",
       "      <td>50.0</td>\n",
       "    </tr>\n",
       "    <tr>\n",
       "      <th>8928</th>\n",
       "      <td>17558</td>\n",
       "      <td>29-Jul-22</td>\n",
       "      <td>RT2</td>\n",
       "      <td>23</td>\n",
       "      <td>50.0</td>\n",
       "    </tr>\n",
       "    <tr>\n",
       "      <th>9028</th>\n",
       "      <td>17558</td>\n",
       "      <td>30-Jul-22</td>\n",
       "      <td>RT2</td>\n",
       "      <td>32</td>\n",
       "      <td>50.0</td>\n",
       "    </tr>\n",
       "    <tr>\n",
       "      <th>9128</th>\n",
       "      <td>17558</td>\n",
       "      <td>31-Jul-22</td>\n",
       "      <td>RT2</td>\n",
       "      <td>30</td>\n",
       "      <td>50.0</td>\n",
       "    </tr>\n",
       "  </tbody>\n",
       "</table>\n",
       "<p>92 rows × 5 columns</p>\n",
       "</div>"
      ],
      "text/plain": [
       "      property_id check_in_date room_category  successful_bookings  capacity\n",
       "27          17558      1-May-22           RT2                   38      50.0\n",
       "128         17558      2-May-22           RT2                   27      50.0\n",
       "229         17558      3-May-22           RT2                   26      50.0\n",
       "328         17558      4-May-22           RT2                   27      50.0\n",
       "428         17558      5-May-22           RT2                   29      50.0\n",
       "...           ...           ...           ...                  ...       ...\n",
       "8728        17558     27-Jul-22           RT2                   22      50.0\n",
       "8828        17558     28-Jul-22           RT2                   21      50.0\n",
       "8928        17558     29-Jul-22           RT2                   23      50.0\n",
       "9028        17558     30-Jul-22           RT2                   32      50.0\n",
       "9128        17558     31-Jul-22           RT2                   30      50.0\n",
       "\n",
       "[92 rows x 5 columns]"
      ]
     },
     "execution_count": 64,
     "metadata": {},
     "output_type": "execute_result"
    }
   ],
   "source": [
    "df_agg_booking[df_agg_booking.capacity == max_capacity]"
   ]
  },
  {
   "cell_type": "markdown",
   "id": "88306a92",
   "metadata": {},
   "source": [
    "***\n",
    "### 2. Data Cleaning\n",
    "***"
   ]
  },
  {
   "cell_type": "code",
   "execution_count": 65,
   "id": "af73399e",
   "metadata": {},
   "outputs": [
    {
     "data": {
      "text/html": [
       "<div>\n",
       "<style scoped>\n",
       "    .dataframe tbody tr th:only-of-type {\n",
       "        vertical-align: middle;\n",
       "    }\n",
       "\n",
       "    .dataframe tbody tr th {\n",
       "        vertical-align: top;\n",
       "    }\n",
       "\n",
       "    .dataframe thead th {\n",
       "        text-align: right;\n",
       "    }\n",
       "</style>\n",
       "<table border=\"1\" class=\"dataframe\">\n",
       "  <thead>\n",
       "    <tr style=\"text-align: right;\">\n",
       "      <th></th>\n",
       "      <th>property_id</th>\n",
       "      <th>no_guests</th>\n",
       "      <th>ratings_given</th>\n",
       "      <th>revenue_generated</th>\n",
       "      <th>revenue_realized</th>\n",
       "    </tr>\n",
       "  </thead>\n",
       "  <tbody>\n",
       "    <tr>\n",
       "      <th>count</th>\n",
       "      <td>134590.000000</td>\n",
       "      <td>134587.000000</td>\n",
       "      <td>56683.000000</td>\n",
       "      <td>1.345900e+05</td>\n",
       "      <td>134590.000000</td>\n",
       "    </tr>\n",
       "    <tr>\n",
       "      <th>mean</th>\n",
       "      <td>18061.113493</td>\n",
       "      <td>2.036170</td>\n",
       "      <td>3.619004</td>\n",
       "      <td>1.537805e+04</td>\n",
       "      <td>12696.123256</td>\n",
       "    </tr>\n",
       "    <tr>\n",
       "      <th>std</th>\n",
       "      <td>1093.055847</td>\n",
       "      <td>1.034885</td>\n",
       "      <td>1.235009</td>\n",
       "      <td>9.303604e+04</td>\n",
       "      <td>6928.108124</td>\n",
       "    </tr>\n",
       "    <tr>\n",
       "      <th>min</th>\n",
       "      <td>16558.000000</td>\n",
       "      <td>-17.000000</td>\n",
       "      <td>1.000000</td>\n",
       "      <td>6.500000e+03</td>\n",
       "      <td>2600.000000</td>\n",
       "    </tr>\n",
       "    <tr>\n",
       "      <th>25%</th>\n",
       "      <td>17558.000000</td>\n",
       "      <td>1.000000</td>\n",
       "      <td>3.000000</td>\n",
       "      <td>9.900000e+03</td>\n",
       "      <td>7600.000000</td>\n",
       "    </tr>\n",
       "    <tr>\n",
       "      <th>50%</th>\n",
       "      <td>17564.000000</td>\n",
       "      <td>2.000000</td>\n",
       "      <td>4.000000</td>\n",
       "      <td>1.350000e+04</td>\n",
       "      <td>11700.000000</td>\n",
       "    </tr>\n",
       "    <tr>\n",
       "      <th>75%</th>\n",
       "      <td>18563.000000</td>\n",
       "      <td>2.000000</td>\n",
       "      <td>5.000000</td>\n",
       "      <td>1.800000e+04</td>\n",
       "      <td>15300.000000</td>\n",
       "    </tr>\n",
       "    <tr>\n",
       "      <th>max</th>\n",
       "      <td>19563.000000</td>\n",
       "      <td>6.000000</td>\n",
       "      <td>5.000000</td>\n",
       "      <td>2.856000e+07</td>\n",
       "      <td>45220.000000</td>\n",
       "    </tr>\n",
       "  </tbody>\n",
       "</table>\n",
       "</div>"
      ],
      "text/plain": [
       "         property_id      no_guests  ratings_given  revenue_generated  \\\n",
       "count  134590.000000  134587.000000   56683.000000       1.345900e+05   \n",
       "mean    18061.113493       2.036170       3.619004       1.537805e+04   \n",
       "std      1093.055847       1.034885       1.235009       9.303604e+04   \n",
       "min     16558.000000     -17.000000       1.000000       6.500000e+03   \n",
       "25%     17558.000000       1.000000       3.000000       9.900000e+03   \n",
       "50%     17564.000000       2.000000       4.000000       1.350000e+04   \n",
       "75%     18563.000000       2.000000       5.000000       1.800000e+04   \n",
       "max     19563.000000       6.000000       5.000000       2.856000e+07   \n",
       "\n",
       "       revenue_realized  \n",
       "count     134590.000000  \n",
       "mean       12696.123256  \n",
       "std         6928.108124  \n",
       "min         2600.000000  \n",
       "25%         7600.000000  \n",
       "50%        11700.000000  \n",
       "75%        15300.000000  \n",
       "max        45220.000000  "
      ]
     },
     "execution_count": 65,
     "metadata": {},
     "output_type": "execute_result"
    }
   ],
   "source": [
    "df_bookings.describe()"
   ]
  },
  {
   "cell_type": "markdown",
   "id": "1df03771",
   "metadata": {},
   "source": [
    "**(1). Cleaning invalid guests**"
   ]
  },
  {
   "cell_type": "code",
   "execution_count": 66,
   "id": "8594ebaf",
   "metadata": {},
   "outputs": [
    {
     "data": {
      "text/html": [
       "<div>\n",
       "<style scoped>\n",
       "    .dataframe tbody tr th:only-of-type {\n",
       "        vertical-align: middle;\n",
       "    }\n",
       "\n",
       "    .dataframe tbody tr th {\n",
       "        vertical-align: top;\n",
       "    }\n",
       "\n",
       "    .dataframe thead th {\n",
       "        text-align: right;\n",
       "    }\n",
       "</style>\n",
       "<table border=\"1\" class=\"dataframe\">\n",
       "  <thead>\n",
       "    <tr style=\"text-align: right;\">\n",
       "      <th></th>\n",
       "      <th>booking_id</th>\n",
       "      <th>property_id</th>\n",
       "      <th>booking_date</th>\n",
       "      <th>check_in_date</th>\n",
       "      <th>checkout_date</th>\n",
       "      <th>no_guests</th>\n",
       "      <th>room_category</th>\n",
       "      <th>booking_platform</th>\n",
       "      <th>ratings_given</th>\n",
       "      <th>booking_status</th>\n",
       "      <th>revenue_generated</th>\n",
       "      <th>revenue_realized</th>\n",
       "    </tr>\n",
       "  </thead>\n",
       "  <tbody>\n",
       "    <tr>\n",
       "      <th>0</th>\n",
       "      <td>May012216558RT11</td>\n",
       "      <td>16558</td>\n",
       "      <td>27-04-22</td>\n",
       "      <td>1/5/2022</td>\n",
       "      <td>2/5/2022</td>\n",
       "      <td>-3.0</td>\n",
       "      <td>RT1</td>\n",
       "      <td>direct online</td>\n",
       "      <td>1.0</td>\n",
       "      <td>Checked Out</td>\n",
       "      <td>10010</td>\n",
       "      <td>10010</td>\n",
       "    </tr>\n",
       "    <tr>\n",
       "      <th>3</th>\n",
       "      <td>May012216558RT14</td>\n",
       "      <td>16558</td>\n",
       "      <td>28-04-22</td>\n",
       "      <td>1/5/2022</td>\n",
       "      <td>2/5/2022</td>\n",
       "      <td>-2.0</td>\n",
       "      <td>RT1</td>\n",
       "      <td>others</td>\n",
       "      <td>NaN</td>\n",
       "      <td>Cancelled</td>\n",
       "      <td>9100</td>\n",
       "      <td>3640</td>\n",
       "    </tr>\n",
       "    <tr>\n",
       "      <th>17924</th>\n",
       "      <td>May122218559RT44</td>\n",
       "      <td>18559</td>\n",
       "      <td>12/5/2022</td>\n",
       "      <td>12/5/2022</td>\n",
       "      <td>14-05-22</td>\n",
       "      <td>-10.0</td>\n",
       "      <td>RT4</td>\n",
       "      <td>direct online</td>\n",
       "      <td>NaN</td>\n",
       "      <td>No Show</td>\n",
       "      <td>20900</td>\n",
       "      <td>20900</td>\n",
       "    </tr>\n",
       "    <tr>\n",
       "      <th>18020</th>\n",
       "      <td>May122218561RT22</td>\n",
       "      <td>18561</td>\n",
       "      <td>8/5/2022</td>\n",
       "      <td>12/5/2022</td>\n",
       "      <td>14-05-22</td>\n",
       "      <td>-12.0</td>\n",
       "      <td>RT2</td>\n",
       "      <td>makeyourtrip</td>\n",
       "      <td>NaN</td>\n",
       "      <td>Cancelled</td>\n",
       "      <td>9000</td>\n",
       "      <td>3600</td>\n",
       "    </tr>\n",
       "    <tr>\n",
       "      <th>18119</th>\n",
       "      <td>May122218562RT311</td>\n",
       "      <td>18562</td>\n",
       "      <td>5/5/2022</td>\n",
       "      <td>12/5/2022</td>\n",
       "      <td>17-05-22</td>\n",
       "      <td>-6.0</td>\n",
       "      <td>RT3</td>\n",
       "      <td>direct offline</td>\n",
       "      <td>5.0</td>\n",
       "      <td>Checked Out</td>\n",
       "      <td>16800</td>\n",
       "      <td>16800</td>\n",
       "    </tr>\n",
       "    <tr>\n",
       "      <th>18121</th>\n",
       "      <td>May122218562RT313</td>\n",
       "      <td>18562</td>\n",
       "      <td>10/5/2022</td>\n",
       "      <td>12/5/2022</td>\n",
       "      <td>17-05-22</td>\n",
       "      <td>-4.0</td>\n",
       "      <td>RT3</td>\n",
       "      <td>direct online</td>\n",
       "      <td>NaN</td>\n",
       "      <td>Cancelled</td>\n",
       "      <td>14400</td>\n",
       "      <td>5760</td>\n",
       "    </tr>\n",
       "    <tr>\n",
       "      <th>56715</th>\n",
       "      <td>Jun082218562RT12</td>\n",
       "      <td>18562</td>\n",
       "      <td>5/6/2022</td>\n",
       "      <td>8/6/2022</td>\n",
       "      <td>13-06-22</td>\n",
       "      <td>-17.0</td>\n",
       "      <td>RT1</td>\n",
       "      <td>others</td>\n",
       "      <td>NaN</td>\n",
       "      <td>Checked Out</td>\n",
       "      <td>6500</td>\n",
       "      <td>6500</td>\n",
       "    </tr>\n",
       "    <tr>\n",
       "      <th>119765</th>\n",
       "      <td>Jul202219560RT220</td>\n",
       "      <td>19560</td>\n",
       "      <td>19-07-22</td>\n",
       "      <td>20-07-22</td>\n",
       "      <td>22-07-22</td>\n",
       "      <td>-1.0</td>\n",
       "      <td>RT2</td>\n",
       "      <td>others</td>\n",
       "      <td>NaN</td>\n",
       "      <td>Checked Out</td>\n",
       "      <td>13500</td>\n",
       "      <td>13500</td>\n",
       "    </tr>\n",
       "    <tr>\n",
       "      <th>134586</th>\n",
       "      <td>Jul312217564RT47</td>\n",
       "      <td>17564</td>\n",
       "      <td>30-07-22</td>\n",
       "      <td>31-07-22</td>\n",
       "      <td>1/8/2022</td>\n",
       "      <td>-4.0</td>\n",
       "      <td>RT4</td>\n",
       "      <td>logtrip</td>\n",
       "      <td>2.0</td>\n",
       "      <td>Checked Out</td>\n",
       "      <td>38760</td>\n",
       "      <td>38760</td>\n",
       "    </tr>\n",
       "  </tbody>\n",
       "</table>\n",
       "</div>"
      ],
      "text/plain": [
       "               booking_id  property_id booking_date check_in_date  \\\n",
       "0        May012216558RT11        16558     27-04-22      1/5/2022   \n",
       "3        May012216558RT14        16558     28-04-22      1/5/2022   \n",
       "17924    May122218559RT44        18559    12/5/2022     12/5/2022   \n",
       "18020    May122218561RT22        18561     8/5/2022     12/5/2022   \n",
       "18119   May122218562RT311        18562     5/5/2022     12/5/2022   \n",
       "18121   May122218562RT313        18562    10/5/2022     12/5/2022   \n",
       "56715    Jun082218562RT12        18562     5/6/2022      8/6/2022   \n",
       "119765  Jul202219560RT220        19560     19-07-22      20-07-22   \n",
       "134586   Jul312217564RT47        17564     30-07-22      31-07-22   \n",
       "\n",
       "       checkout_date  no_guests room_category booking_platform  ratings_given  \\\n",
       "0           2/5/2022       -3.0           RT1    direct online            1.0   \n",
       "3           2/5/2022       -2.0           RT1           others            NaN   \n",
       "17924       14-05-22      -10.0           RT4    direct online            NaN   \n",
       "18020       14-05-22      -12.0           RT2     makeyourtrip            NaN   \n",
       "18119       17-05-22       -6.0           RT3   direct offline            5.0   \n",
       "18121       17-05-22       -4.0           RT3    direct online            NaN   \n",
       "56715       13-06-22      -17.0           RT1           others            NaN   \n",
       "119765      22-07-22       -1.0           RT2           others            NaN   \n",
       "134586      1/8/2022       -4.0           RT4          logtrip            2.0   \n",
       "\n",
       "       booking_status  revenue_generated  revenue_realized  \n",
       "0         Checked Out              10010             10010  \n",
       "3           Cancelled               9100              3640  \n",
       "17924         No Show              20900             20900  \n",
       "18020       Cancelled               9000              3600  \n",
       "18119     Checked Out              16800             16800  \n",
       "18121       Cancelled              14400              5760  \n",
       "56715     Checked Out               6500              6500  \n",
       "119765    Checked Out              13500             13500  \n",
       "134586    Checked Out              38760             38760  "
      ]
     },
     "execution_count": 66,
     "metadata": {},
     "output_type": "execute_result"
    }
   ],
   "source": [
    "df_bookings[df_bookings.no_guests <=0 ]"
   ]
  },
  {
   "cell_type": "markdown",
   "id": "0d9f8758",
   "metadata": {},
   "source": [
    "<b>=></b> With the above result we can see that number of guests having less than zero value represents the data error. So, we can ignore these records."
   ]
  },
  {
   "cell_type": "code",
   "execution_count": 67,
   "id": "3deb9ce6",
   "metadata": {},
   "outputs": [
    {
     "data": {
      "text/html": [
       "<div>\n",
       "<style scoped>\n",
       "    .dataframe tbody tr th:only-of-type {\n",
       "        vertical-align: middle;\n",
       "    }\n",
       "\n",
       "    .dataframe tbody tr th {\n",
       "        vertical-align: top;\n",
       "    }\n",
       "\n",
       "    .dataframe thead th {\n",
       "        text-align: right;\n",
       "    }\n",
       "</style>\n",
       "<table border=\"1\" class=\"dataframe\">\n",
       "  <thead>\n",
       "    <tr style=\"text-align: right;\">\n",
       "      <th></th>\n",
       "      <th>booking_id</th>\n",
       "      <th>property_id</th>\n",
       "      <th>booking_date</th>\n",
       "      <th>check_in_date</th>\n",
       "      <th>checkout_date</th>\n",
       "      <th>no_guests</th>\n",
       "      <th>room_category</th>\n",
       "      <th>booking_platform</th>\n",
       "      <th>ratings_given</th>\n",
       "      <th>booking_status</th>\n",
       "      <th>revenue_generated</th>\n",
       "      <th>revenue_realized</th>\n",
       "    </tr>\n",
       "  </thead>\n",
       "  <tbody>\n",
       "    <tr>\n",
       "      <th>1</th>\n",
       "      <td>May012216558RT12</td>\n",
       "      <td>16558</td>\n",
       "      <td>30-04-22</td>\n",
       "      <td>1/5/2022</td>\n",
       "      <td>2/5/2022</td>\n",
       "      <td>2.0</td>\n",
       "      <td>RT1</td>\n",
       "      <td>others</td>\n",
       "      <td>NaN</td>\n",
       "      <td>Cancelled</td>\n",
       "      <td>9100</td>\n",
       "      <td>3640</td>\n",
       "    </tr>\n",
       "    <tr>\n",
       "      <th>2</th>\n",
       "      <td>May012216558RT13</td>\n",
       "      <td>16558</td>\n",
       "      <td>28-04-22</td>\n",
       "      <td>1/5/2022</td>\n",
       "      <td>4/5/2022</td>\n",
       "      <td>2.0</td>\n",
       "      <td>RT1</td>\n",
       "      <td>logtrip</td>\n",
       "      <td>5.0</td>\n",
       "      <td>Checked Out</td>\n",
       "      <td>9100000</td>\n",
       "      <td>9100</td>\n",
       "    </tr>\n",
       "    <tr>\n",
       "      <th>4</th>\n",
       "      <td>May012216558RT15</td>\n",
       "      <td>16558</td>\n",
       "      <td>27-04-22</td>\n",
       "      <td>1/5/2022</td>\n",
       "      <td>2/5/2022</td>\n",
       "      <td>4.0</td>\n",
       "      <td>RT1</td>\n",
       "      <td>direct online</td>\n",
       "      <td>5.0</td>\n",
       "      <td>Checked Out</td>\n",
       "      <td>10920</td>\n",
       "      <td>10920</td>\n",
       "    </tr>\n",
       "    <tr>\n",
       "      <th>5</th>\n",
       "      <td>May012216558RT16</td>\n",
       "      <td>16558</td>\n",
       "      <td>1/5/2022</td>\n",
       "      <td>1/5/2022</td>\n",
       "      <td>3/5/2022</td>\n",
       "      <td>2.0</td>\n",
       "      <td>RT1</td>\n",
       "      <td>others</td>\n",
       "      <td>4.0</td>\n",
       "      <td>Checked Out</td>\n",
       "      <td>9100</td>\n",
       "      <td>9100</td>\n",
       "    </tr>\n",
       "    <tr>\n",
       "      <th>6</th>\n",
       "      <td>May012216558RT17</td>\n",
       "      <td>16558</td>\n",
       "      <td>28-04-22</td>\n",
       "      <td>1/5/2022</td>\n",
       "      <td>6/5/2022</td>\n",
       "      <td>2.0</td>\n",
       "      <td>RT1</td>\n",
       "      <td>others</td>\n",
       "      <td>NaN</td>\n",
       "      <td>Cancelled</td>\n",
       "      <td>9100</td>\n",
       "      <td>3640</td>\n",
       "    </tr>\n",
       "    <tr>\n",
       "      <th>...</th>\n",
       "      <td>...</td>\n",
       "      <td>...</td>\n",
       "      <td>...</td>\n",
       "      <td>...</td>\n",
       "      <td>...</td>\n",
       "      <td>...</td>\n",
       "      <td>...</td>\n",
       "      <td>...</td>\n",
       "      <td>...</td>\n",
       "      <td>...</td>\n",
       "      <td>...</td>\n",
       "      <td>...</td>\n",
       "    </tr>\n",
       "    <tr>\n",
       "      <th>134584</th>\n",
       "      <td>Jul312217564RT45</td>\n",
       "      <td>17564</td>\n",
       "      <td>30-07-22</td>\n",
       "      <td>31-07-22</td>\n",
       "      <td>1/8/2022</td>\n",
       "      <td>2.0</td>\n",
       "      <td>RT4</td>\n",
       "      <td>others</td>\n",
       "      <td>2.0</td>\n",
       "      <td>Checked Out</td>\n",
       "      <td>32300</td>\n",
       "      <td>32300</td>\n",
       "    </tr>\n",
       "    <tr>\n",
       "      <th>134585</th>\n",
       "      <td>Jul312217564RT46</td>\n",
       "      <td>17564</td>\n",
       "      <td>29-07-22</td>\n",
       "      <td>31-07-22</td>\n",
       "      <td>3/8/2022</td>\n",
       "      <td>1.0</td>\n",
       "      <td>RT4</td>\n",
       "      <td>makeyourtrip</td>\n",
       "      <td>2.0</td>\n",
       "      <td>Checked Out</td>\n",
       "      <td>32300</td>\n",
       "      <td>32300</td>\n",
       "    </tr>\n",
       "    <tr>\n",
       "      <th>134587</th>\n",
       "      <td>Jul312217564RT48</td>\n",
       "      <td>17564</td>\n",
       "      <td>30-07-22</td>\n",
       "      <td>31-07-22</td>\n",
       "      <td>2/8/2022</td>\n",
       "      <td>1.0</td>\n",
       "      <td>RT4</td>\n",
       "      <td>tripster</td>\n",
       "      <td>NaN</td>\n",
       "      <td>Cancelled</td>\n",
       "      <td>32300</td>\n",
       "      <td>12920</td>\n",
       "    </tr>\n",
       "    <tr>\n",
       "      <th>134588</th>\n",
       "      <td>Jul312217564RT49</td>\n",
       "      <td>17564</td>\n",
       "      <td>29-07-22</td>\n",
       "      <td>31-07-22</td>\n",
       "      <td>1/8/2022</td>\n",
       "      <td>2.0</td>\n",
       "      <td>RT4</td>\n",
       "      <td>logtrip</td>\n",
       "      <td>2.0</td>\n",
       "      <td>Checked Out</td>\n",
       "      <td>32300</td>\n",
       "      <td>32300</td>\n",
       "    </tr>\n",
       "    <tr>\n",
       "      <th>134589</th>\n",
       "      <td>Jul312217564RT410</td>\n",
       "      <td>17564</td>\n",
       "      <td>31-07-22</td>\n",
       "      <td>31-07-22</td>\n",
       "      <td>1/8/2022</td>\n",
       "      <td>2.0</td>\n",
       "      <td>RT4</td>\n",
       "      <td>makeyourtrip</td>\n",
       "      <td>NaN</td>\n",
       "      <td>Cancelled</td>\n",
       "      <td>32300</td>\n",
       "      <td>12920</td>\n",
       "    </tr>\n",
       "  </tbody>\n",
       "</table>\n",
       "<p>134578 rows × 12 columns</p>\n",
       "</div>"
      ],
      "text/plain": [
       "               booking_id  property_id booking_date check_in_date  \\\n",
       "1        May012216558RT12        16558     30-04-22      1/5/2022   \n",
       "2        May012216558RT13        16558     28-04-22      1/5/2022   \n",
       "4        May012216558RT15        16558     27-04-22      1/5/2022   \n",
       "5        May012216558RT16        16558     1/5/2022      1/5/2022   \n",
       "6        May012216558RT17        16558     28-04-22      1/5/2022   \n",
       "...                   ...          ...          ...           ...   \n",
       "134584   Jul312217564RT45        17564     30-07-22      31-07-22   \n",
       "134585   Jul312217564RT46        17564     29-07-22      31-07-22   \n",
       "134587   Jul312217564RT48        17564     30-07-22      31-07-22   \n",
       "134588   Jul312217564RT49        17564     29-07-22      31-07-22   \n",
       "134589  Jul312217564RT410        17564     31-07-22      31-07-22   \n",
       "\n",
       "       checkout_date  no_guests room_category booking_platform  ratings_given  \\\n",
       "1           2/5/2022        2.0           RT1           others            NaN   \n",
       "2           4/5/2022        2.0           RT1          logtrip            5.0   \n",
       "4           2/5/2022        4.0           RT1    direct online            5.0   \n",
       "5           3/5/2022        2.0           RT1           others            4.0   \n",
       "6           6/5/2022        2.0           RT1           others            NaN   \n",
       "...              ...        ...           ...              ...            ...   \n",
       "134584      1/8/2022        2.0           RT4           others            2.0   \n",
       "134585      3/8/2022        1.0           RT4     makeyourtrip            2.0   \n",
       "134587      2/8/2022        1.0           RT4         tripster            NaN   \n",
       "134588      1/8/2022        2.0           RT4          logtrip            2.0   \n",
       "134589      1/8/2022        2.0           RT4     makeyourtrip            NaN   \n",
       "\n",
       "       booking_status  revenue_generated  revenue_realized  \n",
       "1           Cancelled               9100              3640  \n",
       "2         Checked Out            9100000              9100  \n",
       "4         Checked Out              10920             10920  \n",
       "5         Checked Out               9100              9100  \n",
       "6           Cancelled               9100              3640  \n",
       "...               ...                ...               ...  \n",
       "134584    Checked Out              32300             32300  \n",
       "134585    Checked Out              32300             32300  \n",
       "134587      Cancelled              32300             12920  \n",
       "134588    Checked Out              32300             32300  \n",
       "134589      Cancelled              32300             12920  \n",
       "\n",
       "[134578 rows x 12 columns]"
      ]
     },
     "execution_count": 67,
     "metadata": {},
     "output_type": "execute_result"
    }
   ],
   "source": [
    "df_bookings = df_bookings[df_bookings.no_guests > 0]\n",
    "df_bookings"
   ]
  },
  {
   "cell_type": "code",
   "execution_count": 68,
   "id": "6d3fa50e",
   "metadata": {},
   "outputs": [
    {
     "data": {
      "text/plain": [
       "(134578, 12)"
      ]
     },
     "execution_count": 68,
     "metadata": {},
     "output_type": "execute_result"
    }
   ],
   "source": [
    "df_bookings.shape"
   ]
  },
  {
   "cell_type": "markdown",
   "id": "3e2ab4b0",
   "metadata": {},
   "source": [
    "#### (2). Outlier removal of revenue generated (Using 3- std.deviation)"
   ]
  },
  {
   "cell_type": "code",
   "execution_count": 69,
   "id": "4ddd96c0",
   "metadata": {},
   "outputs": [
    {
     "data": {
      "text/plain": [
       "(6500, 28560000)"
      ]
     },
     "execution_count": 69,
     "metadata": {},
     "output_type": "execute_result"
    }
   ],
   "source": [
    "df_bookings.revenue_generated.min() , df_bookings.revenue_generated.max()"
   ]
  },
  {
   "cell_type": "markdown",
   "id": "29dc1582",
   "metadata": {},
   "source": [
    "With above data we analyse that for one booking the revenue_generated is too extreme which states that there is an error."
   ]
  },
  {
   "cell_type": "code",
   "execution_count": 73,
   "id": "82242564",
   "metadata": {},
   "outputs": [],
   "source": [
    "avg,std = df_bookings.revenue_generated.mean(),df_bookings.revenue_generated.std()"
   ]
  },
  {
   "cell_type": "code",
   "execution_count": 74,
   "id": "4b4d8450",
   "metadata": {},
   "outputs": [
    {
     "data": {
      "text/plain": [
       "(15378.036937686695, 93040.15493143328)"
      ]
     },
     "execution_count": 74,
     "metadata": {},
     "output_type": "execute_result"
    }
   ],
   "source": [
    "avg,std"
   ]
  },
  {
   "cell_type": "code",
   "execution_count": 76,
   "id": "07580f36",
   "metadata": {},
   "outputs": [
    {
     "data": {
      "text/plain": [
       "294498.50173198653"
      ]
     },
     "execution_count": 76,
     "metadata": {},
     "output_type": "execute_result"
    }
   ],
   "source": [
    "max_limit = avg + 3*std\n",
    "max_limit"
   ]
  },
  {
   "cell_type": "code",
   "execution_count": 77,
   "id": "85982fae",
   "metadata": {},
   "outputs": [
    {
     "data": {
      "text/plain": [
       "-263742.4278566132"
      ]
     },
     "execution_count": 77,
     "metadata": {},
     "output_type": "execute_result"
    }
   ],
   "source": [
    "min_limit = avg - 3*std\n",
    "min_limit"
   ]
  },
  {
   "cell_type": "code",
   "execution_count": 78,
   "id": "1da89f07",
   "metadata": {},
   "outputs": [
    {
     "data": {
      "text/html": [
       "<div>\n",
       "<style scoped>\n",
       "    .dataframe tbody tr th:only-of-type {\n",
       "        vertical-align: middle;\n",
       "    }\n",
       "\n",
       "    .dataframe tbody tr th {\n",
       "        vertical-align: top;\n",
       "    }\n",
       "\n",
       "    .dataframe thead th {\n",
       "        text-align: right;\n",
       "    }\n",
       "</style>\n",
       "<table border=\"1\" class=\"dataframe\">\n",
       "  <thead>\n",
       "    <tr style=\"text-align: right;\">\n",
       "      <th></th>\n",
       "      <th>booking_id</th>\n",
       "      <th>property_id</th>\n",
       "      <th>booking_date</th>\n",
       "      <th>check_in_date</th>\n",
       "      <th>checkout_date</th>\n",
       "      <th>no_guests</th>\n",
       "      <th>room_category</th>\n",
       "      <th>booking_platform</th>\n",
       "      <th>ratings_given</th>\n",
       "      <th>booking_status</th>\n",
       "      <th>revenue_generated</th>\n",
       "      <th>revenue_realized</th>\n",
       "    </tr>\n",
       "  </thead>\n",
       "  <tbody>\n",
       "  </tbody>\n",
       "</table>\n",
       "</div>"
      ],
      "text/plain": [
       "Empty DataFrame\n",
       "Columns: [booking_id, property_id, booking_date, check_in_date, checkout_date, no_guests, room_category, booking_platform, ratings_given, booking_status, revenue_generated, revenue_realized]\n",
       "Index: []"
      ]
     },
     "execution_count": 78,
     "metadata": {},
     "output_type": "execute_result"
    }
   ],
   "source": [
    "#checking for negative value if there is any\n",
    "df_bookings[df_bookings.revenue_generated<0]"
   ]
  },
  {
   "cell_type": "markdown",
   "id": "5360cd3c",
   "metadata": {},
   "source": [
    "<b>=></b> We conclude that revenue generated should not be negative"
   ]
  },
  {
   "cell_type": "code",
   "execution_count": 80,
   "id": "3b411b6a",
   "metadata": {},
   "outputs": [
    {
     "data": {
      "text/html": [
       "<div>\n",
       "<style scoped>\n",
       "    .dataframe tbody tr th:only-of-type {\n",
       "        vertical-align: middle;\n",
       "    }\n",
       "\n",
       "    .dataframe tbody tr th {\n",
       "        vertical-align: top;\n",
       "    }\n",
       "\n",
       "    .dataframe thead th {\n",
       "        text-align: right;\n",
       "    }\n",
       "</style>\n",
       "<table border=\"1\" class=\"dataframe\">\n",
       "  <thead>\n",
       "    <tr style=\"text-align: right;\">\n",
       "      <th></th>\n",
       "      <th>booking_id</th>\n",
       "      <th>property_id</th>\n",
       "      <th>booking_date</th>\n",
       "      <th>check_in_date</th>\n",
       "      <th>checkout_date</th>\n",
       "      <th>no_guests</th>\n",
       "      <th>room_category</th>\n",
       "      <th>booking_platform</th>\n",
       "      <th>ratings_given</th>\n",
       "      <th>booking_status</th>\n",
       "      <th>revenue_generated</th>\n",
       "      <th>revenue_realized</th>\n",
       "    </tr>\n",
       "  </thead>\n",
       "  <tbody>\n",
       "    <tr>\n",
       "      <th>2</th>\n",
       "      <td>May012216558RT13</td>\n",
       "      <td>16558</td>\n",
       "      <td>28-04-22</td>\n",
       "      <td>1/5/2022</td>\n",
       "      <td>4/5/2022</td>\n",
       "      <td>2.0</td>\n",
       "      <td>RT1</td>\n",
       "      <td>logtrip</td>\n",
       "      <td>5.0</td>\n",
       "      <td>Checked Out</td>\n",
       "      <td>9100000</td>\n",
       "      <td>9100</td>\n",
       "    </tr>\n",
       "    <tr>\n",
       "      <th>111</th>\n",
       "      <td>May012216559RT32</td>\n",
       "      <td>16559</td>\n",
       "      <td>29-04-22</td>\n",
       "      <td>1/5/2022</td>\n",
       "      <td>2/5/2022</td>\n",
       "      <td>6.0</td>\n",
       "      <td>RT3</td>\n",
       "      <td>direct online</td>\n",
       "      <td>NaN</td>\n",
       "      <td>Checked Out</td>\n",
       "      <td>28560000</td>\n",
       "      <td>28560</td>\n",
       "    </tr>\n",
       "    <tr>\n",
       "      <th>315</th>\n",
       "      <td>May012216562RT22</td>\n",
       "      <td>16562</td>\n",
       "      <td>28-04-22</td>\n",
       "      <td>1/5/2022</td>\n",
       "      <td>4/5/2022</td>\n",
       "      <td>2.0</td>\n",
       "      <td>RT2</td>\n",
       "      <td>direct offline</td>\n",
       "      <td>3.0</td>\n",
       "      <td>Checked Out</td>\n",
       "      <td>12600000</td>\n",
       "      <td>12600</td>\n",
       "    </tr>\n",
       "    <tr>\n",
       "      <th>562</th>\n",
       "      <td>May012217559RT118</td>\n",
       "      <td>17559</td>\n",
       "      <td>26-04-22</td>\n",
       "      <td>1/5/2022</td>\n",
       "      <td>2/5/2022</td>\n",
       "      <td>2.0</td>\n",
       "      <td>RT1</td>\n",
       "      <td>others</td>\n",
       "      <td>NaN</td>\n",
       "      <td>Cancelled</td>\n",
       "      <td>2000000</td>\n",
       "      <td>4420</td>\n",
       "    </tr>\n",
       "    <tr>\n",
       "      <th>129176</th>\n",
       "      <td>Jul282216562RT26</td>\n",
       "      <td>16562</td>\n",
       "      <td>21-07-22</td>\n",
       "      <td>28-07-22</td>\n",
       "      <td>29-07-22</td>\n",
       "      <td>2.0</td>\n",
       "      <td>RT2</td>\n",
       "      <td>direct online</td>\n",
       "      <td>3.0</td>\n",
       "      <td>Checked Out</td>\n",
       "      <td>10000000</td>\n",
       "      <td>12600</td>\n",
       "    </tr>\n",
       "  </tbody>\n",
       "</table>\n",
       "</div>"
      ],
      "text/plain": [
       "               booking_id  property_id booking_date check_in_date  \\\n",
       "2        May012216558RT13        16558     28-04-22      1/5/2022   \n",
       "111      May012216559RT32        16559     29-04-22      1/5/2022   \n",
       "315      May012216562RT22        16562     28-04-22      1/5/2022   \n",
       "562     May012217559RT118        17559     26-04-22      1/5/2022   \n",
       "129176   Jul282216562RT26        16562     21-07-22      28-07-22   \n",
       "\n",
       "       checkout_date  no_guests room_category booking_platform  ratings_given  \\\n",
       "2           4/5/2022        2.0           RT1          logtrip            5.0   \n",
       "111         2/5/2022        6.0           RT3    direct online            NaN   \n",
       "315         4/5/2022        2.0           RT2   direct offline            3.0   \n",
       "562         2/5/2022        2.0           RT1           others            NaN   \n",
       "129176      29-07-22        2.0           RT2    direct online            3.0   \n",
       "\n",
       "       booking_status  revenue_generated  revenue_realized  \n",
       "2         Checked Out            9100000              9100  \n",
       "111       Checked Out           28560000             28560  \n",
       "315       Checked Out           12600000             12600  \n",
       "562         Cancelled            2000000              4420  \n",
       "129176    Checked Out           10000000             12600  "
      ]
     },
     "execution_count": 80,
     "metadata": {},
     "output_type": "execute_result"
    }
   ],
   "source": [
    "df_bookings[df_bookings.revenue_generated>max_limit]"
   ]
  },
  {
   "cell_type": "code",
   "execution_count": 81,
   "id": "f593ddf1",
   "metadata": {},
   "outputs": [
    {
     "data": {
      "text/plain": [
       "(134573, 12)"
      ]
     },
     "execution_count": 81,
     "metadata": {},
     "output_type": "execute_result"
    }
   ],
   "source": [
    "df_bookings=df_bookings[df_bookings.revenue_generated<=max_limit]\n",
    "df_bookings.shape"
   ]
  },
  {
   "cell_type": "markdown",
   "id": "bceb24e1",
   "metadata": {},
   "source": [
    "#### (3). Perform cleaning on revenue realised column"
   ]
  },
  {
   "cell_type": "code",
   "execution_count": 82,
   "id": "785025f9",
   "metadata": {},
   "outputs": [
    {
     "data": {
      "text/plain": [
       "count    134573.000000\n",
       "mean      12695.983585\n",
       "std        6927.791692\n",
       "min        2600.000000\n",
       "25%        7600.000000\n",
       "50%       11700.000000\n",
       "75%       15300.000000\n",
       "max       45220.000000\n",
       "Name: revenue_realized, dtype: float64"
      ]
     },
     "execution_count": 82,
     "metadata": {},
     "output_type": "execute_result"
    }
   ],
   "source": [
    "df_bookings.revenue_realized.describe()"
   ]
  },
  {
   "cell_type": "code",
   "execution_count": 83,
   "id": "0cef8181",
   "metadata": {},
   "outputs": [
    {
     "data": {
      "text/plain": [
       "33479.3586618449"
      ]
     },
     "execution_count": 83,
     "metadata": {},
     "output_type": "execute_result"
    }
   ],
   "source": [
    "max_limit = df_bookings.revenue_realized.mean() + 3* df_bookings.revenue_realized.std()\n",
    "max_limit"
   ]
  },
  {
   "cell_type": "code",
   "execution_count": 84,
   "id": "0f9936ab",
   "metadata": {},
   "outputs": [
    {
     "data": {
      "text/html": [
       "<div>\n",
       "<style scoped>\n",
       "    .dataframe tbody tr th:only-of-type {\n",
       "        vertical-align: middle;\n",
       "    }\n",
       "\n",
       "    .dataframe tbody tr th {\n",
       "        vertical-align: top;\n",
       "    }\n",
       "\n",
       "    .dataframe thead th {\n",
       "        text-align: right;\n",
       "    }\n",
       "</style>\n",
       "<table border=\"1\" class=\"dataframe\">\n",
       "  <thead>\n",
       "    <tr style=\"text-align: right;\">\n",
       "      <th></th>\n",
       "      <th>booking_id</th>\n",
       "      <th>property_id</th>\n",
       "      <th>booking_date</th>\n",
       "      <th>check_in_date</th>\n",
       "      <th>checkout_date</th>\n",
       "      <th>no_guests</th>\n",
       "      <th>room_category</th>\n",
       "      <th>booking_platform</th>\n",
       "      <th>ratings_given</th>\n",
       "      <th>booking_status</th>\n",
       "      <th>revenue_generated</th>\n",
       "      <th>revenue_realized</th>\n",
       "    </tr>\n",
       "  </thead>\n",
       "  <tbody>\n",
       "    <tr>\n",
       "      <th>137</th>\n",
       "      <td>May012216559RT41</td>\n",
       "      <td>16559</td>\n",
       "      <td>27-04-22</td>\n",
       "      <td>1/5/2022</td>\n",
       "      <td>7/5/2022</td>\n",
       "      <td>4.0</td>\n",
       "      <td>RT4</td>\n",
       "      <td>others</td>\n",
       "      <td>NaN</td>\n",
       "      <td>Checked Out</td>\n",
       "      <td>38760</td>\n",
       "      <td>38760</td>\n",
       "    </tr>\n",
       "    <tr>\n",
       "      <th>139</th>\n",
       "      <td>May012216559RT43</td>\n",
       "      <td>16559</td>\n",
       "      <td>1/5/2022</td>\n",
       "      <td>1/5/2022</td>\n",
       "      <td>2/5/2022</td>\n",
       "      <td>6.0</td>\n",
       "      <td>RT4</td>\n",
       "      <td>tripster</td>\n",
       "      <td>3.0</td>\n",
       "      <td>Checked Out</td>\n",
       "      <td>45220</td>\n",
       "      <td>45220</td>\n",
       "    </tr>\n",
       "    <tr>\n",
       "      <th>143</th>\n",
       "      <td>May012216559RT47</td>\n",
       "      <td>16559</td>\n",
       "      <td>28-04-22</td>\n",
       "      <td>1/5/2022</td>\n",
       "      <td>3/5/2022</td>\n",
       "      <td>3.0</td>\n",
       "      <td>RT4</td>\n",
       "      <td>others</td>\n",
       "      <td>5.0</td>\n",
       "      <td>Checked Out</td>\n",
       "      <td>35530</td>\n",
       "      <td>35530</td>\n",
       "    </tr>\n",
       "    <tr>\n",
       "      <th>149</th>\n",
       "      <td>May012216559RT413</td>\n",
       "      <td>16559</td>\n",
       "      <td>24-04-22</td>\n",
       "      <td>1/5/2022</td>\n",
       "      <td>7/5/2022</td>\n",
       "      <td>5.0</td>\n",
       "      <td>RT4</td>\n",
       "      <td>logtrip</td>\n",
       "      <td>NaN</td>\n",
       "      <td>Checked Out</td>\n",
       "      <td>41990</td>\n",
       "      <td>41990</td>\n",
       "    </tr>\n",
       "    <tr>\n",
       "      <th>222</th>\n",
       "      <td>May012216560RT45</td>\n",
       "      <td>16560</td>\n",
       "      <td>30-04-22</td>\n",
       "      <td>1/5/2022</td>\n",
       "      <td>3/5/2022</td>\n",
       "      <td>5.0</td>\n",
       "      <td>RT4</td>\n",
       "      <td>others</td>\n",
       "      <td>3.0</td>\n",
       "      <td>Checked Out</td>\n",
       "      <td>34580</td>\n",
       "      <td>34580</td>\n",
       "    </tr>\n",
       "    <tr>\n",
       "      <th>...</th>\n",
       "      <td>...</td>\n",
       "      <td>...</td>\n",
       "      <td>...</td>\n",
       "      <td>...</td>\n",
       "      <td>...</td>\n",
       "      <td>...</td>\n",
       "      <td>...</td>\n",
       "      <td>...</td>\n",
       "      <td>...</td>\n",
       "      <td>...</td>\n",
       "      <td>...</td>\n",
       "      <td>...</td>\n",
       "    </tr>\n",
       "    <tr>\n",
       "      <th>134328</th>\n",
       "      <td>Jul312219560RT49</td>\n",
       "      <td>19560</td>\n",
       "      <td>31-07-22</td>\n",
       "      <td>31-07-22</td>\n",
       "      <td>2/8/2022</td>\n",
       "      <td>6.0</td>\n",
       "      <td>RT4</td>\n",
       "      <td>direct online</td>\n",
       "      <td>5.0</td>\n",
       "      <td>Checked Out</td>\n",
       "      <td>39900</td>\n",
       "      <td>39900</td>\n",
       "    </tr>\n",
       "    <tr>\n",
       "      <th>134331</th>\n",
       "      <td>Jul312219560RT412</td>\n",
       "      <td>19560</td>\n",
       "      <td>31-07-22</td>\n",
       "      <td>31-07-22</td>\n",
       "      <td>1/8/2022</td>\n",
       "      <td>6.0</td>\n",
       "      <td>RT4</td>\n",
       "      <td>others</td>\n",
       "      <td>2.0</td>\n",
       "      <td>Checked Out</td>\n",
       "      <td>39900</td>\n",
       "      <td>39900</td>\n",
       "    </tr>\n",
       "    <tr>\n",
       "      <th>134467</th>\n",
       "      <td>Jul312219562RT45</td>\n",
       "      <td>19562</td>\n",
       "      <td>28-07-22</td>\n",
       "      <td>31-07-22</td>\n",
       "      <td>1/8/2022</td>\n",
       "      <td>6.0</td>\n",
       "      <td>RT4</td>\n",
       "      <td>makeyourtrip</td>\n",
       "      <td>4.0</td>\n",
       "      <td>Checked Out</td>\n",
       "      <td>39900</td>\n",
       "      <td>39900</td>\n",
       "    </tr>\n",
       "    <tr>\n",
       "      <th>134474</th>\n",
       "      <td>Jul312219562RT412</td>\n",
       "      <td>19562</td>\n",
       "      <td>25-07-22</td>\n",
       "      <td>31-07-22</td>\n",
       "      <td>6/8/2022</td>\n",
       "      <td>5.0</td>\n",
       "      <td>RT4</td>\n",
       "      <td>direct offline</td>\n",
       "      <td>5.0</td>\n",
       "      <td>Checked Out</td>\n",
       "      <td>37050</td>\n",
       "      <td>37050</td>\n",
       "    </tr>\n",
       "    <tr>\n",
       "      <th>134581</th>\n",
       "      <td>Jul312217564RT42</td>\n",
       "      <td>17564</td>\n",
       "      <td>31-07-22</td>\n",
       "      <td>31-07-22</td>\n",
       "      <td>1/8/2022</td>\n",
       "      <td>4.0</td>\n",
       "      <td>RT4</td>\n",
       "      <td>makeyourtrip</td>\n",
       "      <td>4.0</td>\n",
       "      <td>Checked Out</td>\n",
       "      <td>38760</td>\n",
       "      <td>38760</td>\n",
       "    </tr>\n",
       "  </tbody>\n",
       "</table>\n",
       "<p>1299 rows × 12 columns</p>\n",
       "</div>"
      ],
      "text/plain": [
       "               booking_id  property_id booking_date check_in_date  \\\n",
       "137      May012216559RT41        16559     27-04-22      1/5/2022   \n",
       "139      May012216559RT43        16559     1/5/2022      1/5/2022   \n",
       "143      May012216559RT47        16559     28-04-22      1/5/2022   \n",
       "149     May012216559RT413        16559     24-04-22      1/5/2022   \n",
       "222      May012216560RT45        16560     30-04-22      1/5/2022   \n",
       "...                   ...          ...          ...           ...   \n",
       "134328   Jul312219560RT49        19560     31-07-22      31-07-22   \n",
       "134331  Jul312219560RT412        19560     31-07-22      31-07-22   \n",
       "134467   Jul312219562RT45        19562     28-07-22      31-07-22   \n",
       "134474  Jul312219562RT412        19562     25-07-22      31-07-22   \n",
       "134581   Jul312217564RT42        17564     31-07-22      31-07-22   \n",
       "\n",
       "       checkout_date  no_guests room_category booking_platform  ratings_given  \\\n",
       "137         7/5/2022        4.0           RT4           others            NaN   \n",
       "139         2/5/2022        6.0           RT4         tripster            3.0   \n",
       "143         3/5/2022        3.0           RT4           others            5.0   \n",
       "149         7/5/2022        5.0           RT4          logtrip            NaN   \n",
       "222         3/5/2022        5.0           RT4           others            3.0   \n",
       "...              ...        ...           ...              ...            ...   \n",
       "134328      2/8/2022        6.0           RT4    direct online            5.0   \n",
       "134331      1/8/2022        6.0           RT4           others            2.0   \n",
       "134467      1/8/2022        6.0           RT4     makeyourtrip            4.0   \n",
       "134474      6/8/2022        5.0           RT4   direct offline            5.0   \n",
       "134581      1/8/2022        4.0           RT4     makeyourtrip            4.0   \n",
       "\n",
       "       booking_status  revenue_generated  revenue_realized  \n",
       "137       Checked Out              38760             38760  \n",
       "139       Checked Out              45220             45220  \n",
       "143       Checked Out              35530             35530  \n",
       "149       Checked Out              41990             41990  \n",
       "222       Checked Out              34580             34580  \n",
       "...               ...                ...               ...  \n",
       "134328    Checked Out              39900             39900  \n",
       "134331    Checked Out              39900             39900  \n",
       "134467    Checked Out              39900             39900  \n",
       "134474    Checked Out              37050             37050  \n",
       "134581    Checked Out              38760             38760  \n",
       "\n",
       "[1299 rows x 12 columns]"
      ]
     },
     "execution_count": 84,
     "metadata": {},
     "output_type": "execute_result"
    }
   ],
   "source": [
    "df_bookings[df_bookings.revenue_realized > max_limit]"
   ]
  },
  {
   "cell_type": "markdown",
   "id": "504952ae",
   "metadata": {},
   "source": [
    "<b>=></b> One observation we have in above dataframe is that all rooms that are RT4 is presidential suit. Now since RT4 is a luxurious room it is likely their rent will be higher. To make a fair analysis, we need to do data analysis only on RT4 room types"
   ]
  },
  {
   "cell_type": "code",
   "execution_count": 85,
   "id": "5fe1f505",
   "metadata": {},
   "outputs": [
    {
     "data": {
      "text/plain": [
       "count    16071.000000\n",
       "mean     23439.308444\n",
       "std       9048.599076\n",
       "min       7600.000000\n",
       "25%      19000.000000\n",
       "50%      26600.000000\n",
       "75%      32300.000000\n",
       "max      45220.000000\n",
       "Name: revenue_realized, dtype: float64"
      ]
     },
     "execution_count": 85,
     "metadata": {},
     "output_type": "execute_result"
    }
   ],
   "source": [
    "df_bookings[df_bookings.room_category == \"RT4\"].revenue_realized.describe()"
   ]
  },
  {
   "cell_type": "code",
   "execution_count": 86,
   "id": "c44bdef7",
   "metadata": {},
   "outputs": [
    {
     "data": {
      "text/plain": [
       "50583"
      ]
     },
     "execution_count": 86,
     "metadata": {},
     "output_type": "execute_result"
    }
   ],
   "source": [
    "#mean + 3*std.deviation\n",
    "23439+3*9048"
   ]
  },
  {
   "cell_type": "markdown",
   "id": "f8789406",
   "metadata": {},
   "source": [
    "<b>=></b> Here higher limit comes to be 50583 and in our dataframe above we can see that max value for revenue realized is 45220. Hence we can conclude that there is no outlier and we don't need to do any data cleaning on this particular column."
   ]
  },
  {
   "cell_type": "markdown",
   "id": "fdf93ddd",
   "metadata": {},
   "source": [
    "#### (4). Cleaning Null Values"
   ]
  },
  {
   "cell_type": "markdown",
   "id": "5acdef63",
   "metadata": {},
   "source": [
    "**checking for columns that contains null values**"
   ]
  },
  {
   "cell_type": "code",
   "execution_count": 88,
   "id": "a7f25697",
   "metadata": {},
   "outputs": [
    {
     "data": {
      "text/plain": [
       "(134573, 12)"
      ]
     },
     "execution_count": 88,
     "metadata": {},
     "output_type": "execute_result"
    }
   ],
   "source": [
    "df_bookings.shape"
   ]
  },
  {
   "cell_type": "code",
   "execution_count": 87,
   "id": "305eb545",
   "metadata": {},
   "outputs": [
    {
     "data": {
      "text/plain": [
       "booking_id               0\n",
       "property_id              0\n",
       "booking_date             0\n",
       "check_in_date            0\n",
       "checkout_date            0\n",
       "no_guests                0\n",
       "room_category            0\n",
       "booking_platform         0\n",
       "ratings_given        77897\n",
       "booking_status           0\n",
       "revenue_generated        0\n",
       "revenue_realized         0\n",
       "dtype: int64"
      ]
     },
     "execution_count": 87,
     "metadata": {},
     "output_type": "execute_result"
    }
   ],
   "source": [
    "df_bookings.isnull().sum()"
   ]
  },
  {
   "cell_type": "markdown",
   "id": "8e7dafc2",
   "metadata": {},
   "source": [
    "Total values in our dataframe is 134576. Out of that 77899 rows has null rating. Since there are many rows with null ratings, we should not filter these values. Also we should not replace this rating with a median or mean rating etc."
   ]
  },
  {
   "cell_type": "markdown",
   "id": "0a06e0b4",
   "metadata": {},
   "source": [
    "***\n",
    "### 3. Data Transformation\n",
    "***"
   ]
  },
  {
   "cell_type": "markdown",
   "id": "574c2165",
   "metadata": {},
   "source": [
    "**Create occupancy percentage column**"
   ]
  },
  {
   "cell_type": "code",
   "execution_count": 5,
   "id": "80a61a2a",
   "metadata": {},
   "outputs": [
    {
     "data": {
      "text/html": [
       "<div>\n",
       "<style scoped>\n",
       "    .dataframe tbody tr th:only-of-type {\n",
       "        vertical-align: middle;\n",
       "    }\n",
       "\n",
       "    .dataframe tbody tr th {\n",
       "        vertical-align: top;\n",
       "    }\n",
       "\n",
       "    .dataframe thead th {\n",
       "        text-align: right;\n",
       "    }\n",
       "</style>\n",
       "<table border=\"1\" class=\"dataframe\">\n",
       "  <thead>\n",
       "    <tr style=\"text-align: right;\">\n",
       "      <th></th>\n",
       "      <th>property_id</th>\n",
       "      <th>check_in_date</th>\n",
       "      <th>room_category</th>\n",
       "      <th>successful_bookings</th>\n",
       "      <th>capacity</th>\n",
       "    </tr>\n",
       "  </thead>\n",
       "  <tbody>\n",
       "    <tr>\n",
       "      <th>0</th>\n",
       "      <td>16559</td>\n",
       "      <td>1-May-22</td>\n",
       "      <td>RT1</td>\n",
       "      <td>25</td>\n",
       "      <td>30.0</td>\n",
       "    </tr>\n",
       "    <tr>\n",
       "      <th>1</th>\n",
       "      <td>19562</td>\n",
       "      <td>1-May-22</td>\n",
       "      <td>RT1</td>\n",
       "      <td>28</td>\n",
       "      <td>30.0</td>\n",
       "    </tr>\n",
       "    <tr>\n",
       "      <th>2</th>\n",
       "      <td>19563</td>\n",
       "      <td>1-May-22</td>\n",
       "      <td>RT1</td>\n",
       "      <td>23</td>\n",
       "      <td>30.0</td>\n",
       "    </tr>\n",
       "    <tr>\n",
       "      <th>3</th>\n",
       "      <td>17558</td>\n",
       "      <td>1-May-22</td>\n",
       "      <td>RT1</td>\n",
       "      <td>30</td>\n",
       "      <td>19.0</td>\n",
       "    </tr>\n",
       "  </tbody>\n",
       "</table>\n",
       "</div>"
      ],
      "text/plain": [
       "   property_id check_in_date room_category  successful_bookings  capacity\n",
       "0        16559      1-May-22           RT1                   25      30.0\n",
       "1        19562      1-May-22           RT1                   28      30.0\n",
       "2        19563      1-May-22           RT1                   23      30.0\n",
       "3        17558      1-May-22           RT1                   30      19.0"
      ]
     },
     "execution_count": 5,
     "metadata": {},
     "output_type": "execute_result"
    }
   ],
   "source": [
    "df_agg_booking.head(4)"
   ]
  },
  {
   "cell_type": "code",
   "execution_count": 8,
   "id": "bdf7ea6a",
   "metadata": {},
   "outputs": [
    {
     "data": {
      "text/plain": [
       "0.8333333333333334"
      ]
     },
     "execution_count": 8,
     "metadata": {},
     "output_type": "execute_result"
    }
   ],
   "source": [
    "25/30"
   ]
  },
  {
   "cell_type": "code",
   "execution_count": 9,
   "id": "9e61d49b",
   "metadata": {},
   "outputs": [],
   "source": [
    "df_agg_booking[\"occ_prcnt\"] = df_agg_booking[\"successful_bookings\"]/df_agg_booking[\"capacity\"]"
   ]
  },
  {
   "cell_type": "code",
   "execution_count": 10,
   "id": "d0268d0f",
   "metadata": {},
   "outputs": [
    {
     "data": {
      "text/html": [
       "<div>\n",
       "<style scoped>\n",
       "    .dataframe tbody tr th:only-of-type {\n",
       "        vertical-align: middle;\n",
       "    }\n",
       "\n",
       "    .dataframe tbody tr th {\n",
       "        vertical-align: top;\n",
       "    }\n",
       "\n",
       "    .dataframe thead th {\n",
       "        text-align: right;\n",
       "    }\n",
       "</style>\n",
       "<table border=\"1\" class=\"dataframe\">\n",
       "  <thead>\n",
       "    <tr style=\"text-align: right;\">\n",
       "      <th></th>\n",
       "      <th>property_id</th>\n",
       "      <th>check_in_date</th>\n",
       "      <th>room_category</th>\n",
       "      <th>successful_bookings</th>\n",
       "      <th>capacity</th>\n",
       "      <th>occ_prcnt</th>\n",
       "    </tr>\n",
       "  </thead>\n",
       "  <tbody>\n",
       "    <tr>\n",
       "      <th>0</th>\n",
       "      <td>16559</td>\n",
       "      <td>1-May-22</td>\n",
       "      <td>RT1</td>\n",
       "      <td>25</td>\n",
       "      <td>30.0</td>\n",
       "      <td>0.833333</td>\n",
       "    </tr>\n",
       "    <tr>\n",
       "      <th>1</th>\n",
       "      <td>19562</td>\n",
       "      <td>1-May-22</td>\n",
       "      <td>RT1</td>\n",
       "      <td>28</td>\n",
       "      <td>30.0</td>\n",
       "      <td>0.933333</td>\n",
       "    </tr>\n",
       "    <tr>\n",
       "      <th>2</th>\n",
       "      <td>19563</td>\n",
       "      <td>1-May-22</td>\n",
       "      <td>RT1</td>\n",
       "      <td>23</td>\n",
       "      <td>30.0</td>\n",
       "      <td>0.766667</td>\n",
       "    </tr>\n",
       "    <tr>\n",
       "      <th>3</th>\n",
       "      <td>17558</td>\n",
       "      <td>1-May-22</td>\n",
       "      <td>RT1</td>\n",
       "      <td>30</td>\n",
       "      <td>19.0</td>\n",
       "      <td>1.578947</td>\n",
       "    </tr>\n",
       "  </tbody>\n",
       "</table>\n",
       "</div>"
      ],
      "text/plain": [
       "   property_id check_in_date room_category  successful_bookings  capacity  \\\n",
       "0        16559      1-May-22           RT1                   25      30.0   \n",
       "1        19562      1-May-22           RT1                   28      30.0   \n",
       "2        19563      1-May-22           RT1                   23      30.0   \n",
       "3        17558      1-May-22           RT1                   30      19.0   \n",
       "\n",
       "   occ_prcnt  \n",
       "0   0.833333  \n",
       "1   0.933333  \n",
       "2   0.766667  \n",
       "3   1.578947  "
      ]
     },
     "execution_count": 10,
     "metadata": {},
     "output_type": "execute_result"
    }
   ],
   "source": [
    "df_agg_booking.head(4)"
   ]
  },
  {
   "cell_type": "code",
   "execution_count": 12,
   "id": "fd7b1f2b",
   "metadata": {},
   "outputs": [],
   "source": [
    "df_agg_booking[\"occ_prcnt\"] = df_agg_booking[\"occ_prcnt\"].apply(lambda x: round(x*100,2))"
   ]
  },
  {
   "cell_type": "code",
   "execution_count": 13,
   "id": "2269bfb6",
   "metadata": {},
   "outputs": [
    {
     "data": {
      "text/html": [
       "<div>\n",
       "<style scoped>\n",
       "    .dataframe tbody tr th:only-of-type {\n",
       "        vertical-align: middle;\n",
       "    }\n",
       "\n",
       "    .dataframe tbody tr th {\n",
       "        vertical-align: top;\n",
       "    }\n",
       "\n",
       "    .dataframe thead th {\n",
       "        text-align: right;\n",
       "    }\n",
       "</style>\n",
       "<table border=\"1\" class=\"dataframe\">\n",
       "  <thead>\n",
       "    <tr style=\"text-align: right;\">\n",
       "      <th></th>\n",
       "      <th>property_id</th>\n",
       "      <th>check_in_date</th>\n",
       "      <th>room_category</th>\n",
       "      <th>successful_bookings</th>\n",
       "      <th>capacity</th>\n",
       "      <th>occ_prcnt</th>\n",
       "    </tr>\n",
       "  </thead>\n",
       "  <tbody>\n",
       "    <tr>\n",
       "      <th>0</th>\n",
       "      <td>16559</td>\n",
       "      <td>1-May-22</td>\n",
       "      <td>RT1</td>\n",
       "      <td>25</td>\n",
       "      <td>30.0</td>\n",
       "      <td>83.33</td>\n",
       "    </tr>\n",
       "    <tr>\n",
       "      <th>1</th>\n",
       "      <td>19562</td>\n",
       "      <td>1-May-22</td>\n",
       "      <td>RT1</td>\n",
       "      <td>28</td>\n",
       "      <td>30.0</td>\n",
       "      <td>93.33</td>\n",
       "    </tr>\n",
       "    <tr>\n",
       "      <th>2</th>\n",
       "      <td>19563</td>\n",
       "      <td>1-May-22</td>\n",
       "      <td>RT1</td>\n",
       "      <td>23</td>\n",
       "      <td>30.0</td>\n",
       "      <td>76.67</td>\n",
       "    </tr>\n",
       "    <tr>\n",
       "      <th>3</th>\n",
       "      <td>17558</td>\n",
       "      <td>1-May-22</td>\n",
       "      <td>RT1</td>\n",
       "      <td>30</td>\n",
       "      <td>19.0</td>\n",
       "      <td>157.89</td>\n",
       "    </tr>\n",
       "  </tbody>\n",
       "</table>\n",
       "</div>"
      ],
      "text/plain": [
       "   property_id check_in_date room_category  successful_bookings  capacity  \\\n",
       "0        16559      1-May-22           RT1                   25      30.0   \n",
       "1        19562      1-May-22           RT1                   28      30.0   \n",
       "2        19563      1-May-22           RT1                   23      30.0   \n",
       "3        17558      1-May-22           RT1                   30      19.0   \n",
       "\n",
       "   occ_prcnt  \n",
       "0      83.33  \n",
       "1      93.33  \n",
       "2      76.67  \n",
       "3     157.89  "
      ]
     },
     "execution_count": 13,
     "metadata": {},
     "output_type": "execute_result"
    }
   ],
   "source": [
    "df_agg_booking.head(4)"
   ]
  },
  {
   "cell_type": "markdown",
   "id": "344d9709",
   "metadata": {},
   "source": [
    "***\n",
    "### 4. Insights Generation\n",
    "***"
   ]
  },
  {
   "cell_type": "markdown",
   "id": "0befdb76",
   "metadata": {},
   "source": [
    "**1. What is an average occupancy rate in each of the room categories?**"
   ]
  },
  {
   "cell_type": "code",
   "execution_count": 14,
   "id": "1d4f1198",
   "metadata": {},
   "outputs": [
    {
     "data": {
      "text/html": [
       "<div>\n",
       "<style scoped>\n",
       "    .dataframe tbody tr th:only-of-type {\n",
       "        vertical-align: middle;\n",
       "    }\n",
       "\n",
       "    .dataframe tbody tr th {\n",
       "        vertical-align: top;\n",
       "    }\n",
       "\n",
       "    .dataframe thead th {\n",
       "        text-align: right;\n",
       "    }\n",
       "</style>\n",
       "<table border=\"1\" class=\"dataframe\">\n",
       "  <thead>\n",
       "    <tr style=\"text-align: right;\">\n",
       "      <th></th>\n",
       "      <th>property_id</th>\n",
       "      <th>check_in_date</th>\n",
       "      <th>room_category</th>\n",
       "      <th>successful_bookings</th>\n",
       "      <th>capacity</th>\n",
       "      <th>occ_prcnt</th>\n",
       "    </tr>\n",
       "  </thead>\n",
       "  <tbody>\n",
       "    <tr>\n",
       "      <th>0</th>\n",
       "      <td>16559</td>\n",
       "      <td>1-May-22</td>\n",
       "      <td>RT1</td>\n",
       "      <td>25</td>\n",
       "      <td>30.0</td>\n",
       "      <td>83.33</td>\n",
       "    </tr>\n",
       "    <tr>\n",
       "      <th>1</th>\n",
       "      <td>19562</td>\n",
       "      <td>1-May-22</td>\n",
       "      <td>RT1</td>\n",
       "      <td>28</td>\n",
       "      <td>30.0</td>\n",
       "      <td>93.33</td>\n",
       "    </tr>\n",
       "    <tr>\n",
       "      <th>2</th>\n",
       "      <td>19563</td>\n",
       "      <td>1-May-22</td>\n",
       "      <td>RT1</td>\n",
       "      <td>23</td>\n",
       "      <td>30.0</td>\n",
       "      <td>76.67</td>\n",
       "    </tr>\n",
       "    <tr>\n",
       "      <th>3</th>\n",
       "      <td>17558</td>\n",
       "      <td>1-May-22</td>\n",
       "      <td>RT1</td>\n",
       "      <td>30</td>\n",
       "      <td>19.0</td>\n",
       "      <td>157.89</td>\n",
       "    </tr>\n",
       "    <tr>\n",
       "      <th>4</th>\n",
       "      <td>16558</td>\n",
       "      <td>1-May-22</td>\n",
       "      <td>RT1</td>\n",
       "      <td>18</td>\n",
       "      <td>19.0</td>\n",
       "      <td>94.74</td>\n",
       "    </tr>\n",
       "  </tbody>\n",
       "</table>\n",
       "</div>"
      ],
      "text/plain": [
       "   property_id check_in_date room_category  successful_bookings  capacity  \\\n",
       "0        16559      1-May-22           RT1                   25      30.0   \n",
       "1        19562      1-May-22           RT1                   28      30.0   \n",
       "2        19563      1-May-22           RT1                   23      30.0   \n",
       "3        17558      1-May-22           RT1                   30      19.0   \n",
       "4        16558      1-May-22           RT1                   18      19.0   \n",
       "\n",
       "   occ_prcnt  \n",
       "0      83.33  \n",
       "1      93.33  \n",
       "2      76.67  \n",
       "3     157.89  \n",
       "4      94.74  "
      ]
     },
     "execution_count": 14,
     "metadata": {},
     "output_type": "execute_result"
    }
   ],
   "source": [
    "df_agg_booking.head()"
   ]
  },
  {
   "cell_type": "code",
   "execution_count": 17,
   "id": "e583c588",
   "metadata": {},
   "outputs": [
    {
     "data": {
      "text/plain": [
       "room_category\n",
       "RT1    58.22\n",
       "RT2    58.04\n",
       "RT3    58.03\n",
       "RT4    59.30\n",
       "Name: occ_prcnt, dtype: float64"
      ]
     },
     "execution_count": 17,
     "metadata": {},
     "output_type": "execute_result"
    }
   ],
   "source": [
    "df_agg_booking.groupby(\"room_category\")[\"occ_prcnt\"].mean().round(2)"
   ]
  },
  {
   "cell_type": "code",
   "execution_count": 18,
   "id": "6e1a3b6e",
   "metadata": {},
   "outputs": [
    {
     "data": {
      "text/html": [
       "<div>\n",
       "<style scoped>\n",
       "    .dataframe tbody tr th:only-of-type {\n",
       "        vertical-align: middle;\n",
       "    }\n",
       "\n",
       "    .dataframe tbody tr th {\n",
       "        vertical-align: top;\n",
       "    }\n",
       "\n",
       "    .dataframe thead th {\n",
       "        text-align: right;\n",
       "    }\n",
       "</style>\n",
       "<table border=\"1\" class=\"dataframe\">\n",
       "  <thead>\n",
       "    <tr style=\"text-align: right;\">\n",
       "      <th></th>\n",
       "      <th>room_id</th>\n",
       "      <th>room_class</th>\n",
       "    </tr>\n",
       "  </thead>\n",
       "  <tbody>\n",
       "    <tr>\n",
       "      <th>0</th>\n",
       "      <td>RT1</td>\n",
       "      <td>Standard</td>\n",
       "    </tr>\n",
       "    <tr>\n",
       "      <th>1</th>\n",
       "      <td>RT2</td>\n",
       "      <td>Elite</td>\n",
       "    </tr>\n",
       "    <tr>\n",
       "      <th>2</th>\n",
       "      <td>RT3</td>\n",
       "      <td>Premium</td>\n",
       "    </tr>\n",
       "    <tr>\n",
       "      <th>3</th>\n",
       "      <td>RT4</td>\n",
       "      <td>Presidential</td>\n",
       "    </tr>\n",
       "  </tbody>\n",
       "</table>\n",
       "</div>"
      ],
      "text/plain": [
       "  room_id    room_class\n",
       "0     RT1      Standard\n",
       "1     RT2         Elite\n",
       "2     RT3       Premium\n",
       "3     RT4  Presidential"
      ]
     },
     "execution_count": 18,
     "metadata": {},
     "output_type": "execute_result"
    }
   ],
   "source": [
    "df_room.head()"
   ]
  },
  {
   "cell_type": "markdown",
   "id": "9b06aeb6",
   "metadata": {},
   "source": [
    "As this RT1,RT2 name is not specifically clear so we can make it more specific using merge function"
   ]
  },
  {
   "cell_type": "code",
   "execution_count": 25,
   "id": "644560af",
   "metadata": {
    "scrolled": true
   },
   "outputs": [
    {
     "data": {
      "text/html": [
       "<div>\n",
       "<style scoped>\n",
       "    .dataframe tbody tr th:only-of-type {\n",
       "        vertical-align: middle;\n",
       "    }\n",
       "\n",
       "    .dataframe tbody tr th {\n",
       "        vertical-align: top;\n",
       "    }\n",
       "\n",
       "    .dataframe thead th {\n",
       "        text-align: right;\n",
       "    }\n",
       "</style>\n",
       "<table border=\"1\" class=\"dataframe\">\n",
       "  <thead>\n",
       "    <tr style=\"text-align: right;\">\n",
       "      <th></th>\n",
       "      <th>property_id</th>\n",
       "      <th>check_in_date</th>\n",
       "      <th>room_category</th>\n",
       "      <th>successful_bookings</th>\n",
       "      <th>capacity</th>\n",
       "      <th>occ_prcnt</th>\n",
       "      <th>room_id</th>\n",
       "      <th>room_class</th>\n",
       "    </tr>\n",
       "  </thead>\n",
       "  <tbody>\n",
       "    <tr>\n",
       "      <th>9196</th>\n",
       "      <td>16559</td>\n",
       "      <td>31-Jul-22</td>\n",
       "      <td>RT4</td>\n",
       "      <td>13</td>\n",
       "      <td>18.0</td>\n",
       "      <td>72.22</td>\n",
       "      <td>RT4</td>\n",
       "      <td>Presidential</td>\n",
       "    </tr>\n",
       "    <tr>\n",
       "      <th>9197</th>\n",
       "      <td>17558</td>\n",
       "      <td>31-Jul-22</td>\n",
       "      <td>RT4</td>\n",
       "      <td>3</td>\n",
       "      <td>6.0</td>\n",
       "      <td>50.00</td>\n",
       "      <td>RT4</td>\n",
       "      <td>Presidential</td>\n",
       "    </tr>\n",
       "    <tr>\n",
       "      <th>9198</th>\n",
       "      <td>19563</td>\n",
       "      <td>31-Jul-22</td>\n",
       "      <td>RT4</td>\n",
       "      <td>3</td>\n",
       "      <td>6.0</td>\n",
       "      <td>50.00</td>\n",
       "      <td>RT4</td>\n",
       "      <td>Presidential</td>\n",
       "    </tr>\n",
       "    <tr>\n",
       "      <th>9199</th>\n",
       "      <td>17561</td>\n",
       "      <td>31-Jul-22</td>\n",
       "      <td>RT4</td>\n",
       "      <td>3</td>\n",
       "      <td>4.0</td>\n",
       "      <td>75.00</td>\n",
       "      <td>RT4</td>\n",
       "      <td>Presidential</td>\n",
       "    </tr>\n",
       "  </tbody>\n",
       "</table>\n",
       "</div>"
      ],
      "text/plain": [
       "      property_id check_in_date room_category  successful_bookings  capacity  \\\n",
       "9196        16559     31-Jul-22           RT4                   13      18.0   \n",
       "9197        17558     31-Jul-22           RT4                    3       6.0   \n",
       "9198        19563     31-Jul-22           RT4                    3       6.0   \n",
       "9199        17561     31-Jul-22           RT4                    3       4.0   \n",
       "\n",
       "      occ_prcnt room_id    room_class  \n",
       "9196      72.22     RT4  Presidential  \n",
       "9197      50.00     RT4  Presidential  \n",
       "9198      50.00     RT4  Presidential  \n",
       "9199      75.00     RT4  Presidential  "
      ]
     },
     "execution_count": 25,
     "metadata": {},
     "output_type": "execute_result"
    }
   ],
   "source": [
    "df = pd.merge(df_agg_booking,df_room,left_on=\"room_category\",right_on=\"room_id\")\n",
    "df.tail(4)"
   ]
  },
  {
   "cell_type": "markdown",
   "id": "2a23d520",
   "metadata": {},
   "source": [
    "Since above we have same columns like room_category and room_id, so we can drop one of the column using drop function"
   ]
  },
  {
   "cell_type": "code",
   "execution_count": 27,
   "id": "91fa96da",
   "metadata": {},
   "outputs": [
    {
     "data": {
      "text/html": [
       "<div>\n",
       "<style scoped>\n",
       "    .dataframe tbody tr th:only-of-type {\n",
       "        vertical-align: middle;\n",
       "    }\n",
       "\n",
       "    .dataframe tbody tr th {\n",
       "        vertical-align: top;\n",
       "    }\n",
       "\n",
       "    .dataframe thead th {\n",
       "        text-align: right;\n",
       "    }\n",
       "</style>\n",
       "<table border=\"1\" class=\"dataframe\">\n",
       "  <thead>\n",
       "    <tr style=\"text-align: right;\">\n",
       "      <th></th>\n",
       "      <th>property_id</th>\n",
       "      <th>check_in_date</th>\n",
       "      <th>room_category</th>\n",
       "      <th>successful_bookings</th>\n",
       "      <th>capacity</th>\n",
       "      <th>occ_prcnt</th>\n",
       "      <th>room_class</th>\n",
       "    </tr>\n",
       "  </thead>\n",
       "  <tbody>\n",
       "    <tr>\n",
       "      <th>0</th>\n",
       "      <td>16559</td>\n",
       "      <td>1-May-22</td>\n",
       "      <td>RT1</td>\n",
       "      <td>25</td>\n",
       "      <td>30.0</td>\n",
       "      <td>83.33</td>\n",
       "      <td>Standard</td>\n",
       "    </tr>\n",
       "    <tr>\n",
       "      <th>1</th>\n",
       "      <td>19562</td>\n",
       "      <td>1-May-22</td>\n",
       "      <td>RT1</td>\n",
       "      <td>28</td>\n",
       "      <td>30.0</td>\n",
       "      <td>93.33</td>\n",
       "      <td>Standard</td>\n",
       "    </tr>\n",
       "    <tr>\n",
       "      <th>2</th>\n",
       "      <td>19563</td>\n",
       "      <td>1-May-22</td>\n",
       "      <td>RT1</td>\n",
       "      <td>23</td>\n",
       "      <td>30.0</td>\n",
       "      <td>76.67</td>\n",
       "      <td>Standard</td>\n",
       "    </tr>\n",
       "    <tr>\n",
       "      <th>3</th>\n",
       "      <td>17558</td>\n",
       "      <td>1-May-22</td>\n",
       "      <td>RT1</td>\n",
       "      <td>30</td>\n",
       "      <td>19.0</td>\n",
       "      <td>157.89</td>\n",
       "      <td>Standard</td>\n",
       "    </tr>\n",
       "    <tr>\n",
       "      <th>4</th>\n",
       "      <td>16558</td>\n",
       "      <td>1-May-22</td>\n",
       "      <td>RT1</td>\n",
       "      <td>18</td>\n",
       "      <td>19.0</td>\n",
       "      <td>94.74</td>\n",
       "      <td>Standard</td>\n",
       "    </tr>\n",
       "    <tr>\n",
       "      <th>...</th>\n",
       "      <td>...</td>\n",
       "      <td>...</td>\n",
       "      <td>...</td>\n",
       "      <td>...</td>\n",
       "      <td>...</td>\n",
       "      <td>...</td>\n",
       "      <td>...</td>\n",
       "    </tr>\n",
       "    <tr>\n",
       "      <th>9195</th>\n",
       "      <td>16563</td>\n",
       "      <td>31-Jul-22</td>\n",
       "      <td>RT4</td>\n",
       "      <td>13</td>\n",
       "      <td>18.0</td>\n",
       "      <td>72.22</td>\n",
       "      <td>Presidential</td>\n",
       "    </tr>\n",
       "    <tr>\n",
       "      <th>9196</th>\n",
       "      <td>16559</td>\n",
       "      <td>31-Jul-22</td>\n",
       "      <td>RT4</td>\n",
       "      <td>13</td>\n",
       "      <td>18.0</td>\n",
       "      <td>72.22</td>\n",
       "      <td>Presidential</td>\n",
       "    </tr>\n",
       "    <tr>\n",
       "      <th>9197</th>\n",
       "      <td>17558</td>\n",
       "      <td>31-Jul-22</td>\n",
       "      <td>RT4</td>\n",
       "      <td>3</td>\n",
       "      <td>6.0</td>\n",
       "      <td>50.00</td>\n",
       "      <td>Presidential</td>\n",
       "    </tr>\n",
       "    <tr>\n",
       "      <th>9198</th>\n",
       "      <td>19563</td>\n",
       "      <td>31-Jul-22</td>\n",
       "      <td>RT4</td>\n",
       "      <td>3</td>\n",
       "      <td>6.0</td>\n",
       "      <td>50.00</td>\n",
       "      <td>Presidential</td>\n",
       "    </tr>\n",
       "    <tr>\n",
       "      <th>9199</th>\n",
       "      <td>17561</td>\n",
       "      <td>31-Jul-22</td>\n",
       "      <td>RT4</td>\n",
       "      <td>3</td>\n",
       "      <td>4.0</td>\n",
       "      <td>75.00</td>\n",
       "      <td>Presidential</td>\n",
       "    </tr>\n",
       "  </tbody>\n",
       "</table>\n",
       "<p>9200 rows × 7 columns</p>\n",
       "</div>"
      ],
      "text/plain": [
       "      property_id check_in_date room_category  successful_bookings  capacity  \\\n",
       "0           16559      1-May-22           RT1                   25      30.0   \n",
       "1           19562      1-May-22           RT1                   28      30.0   \n",
       "2           19563      1-May-22           RT1                   23      30.0   \n",
       "3           17558      1-May-22           RT1                   30      19.0   \n",
       "4           16558      1-May-22           RT1                   18      19.0   \n",
       "...           ...           ...           ...                  ...       ...   \n",
       "9195        16563     31-Jul-22           RT4                   13      18.0   \n",
       "9196        16559     31-Jul-22           RT4                   13      18.0   \n",
       "9197        17558     31-Jul-22           RT4                    3       6.0   \n",
       "9198        19563     31-Jul-22           RT4                    3       6.0   \n",
       "9199        17561     31-Jul-22           RT4                    3       4.0   \n",
       "\n",
       "      occ_prcnt    room_class  \n",
       "0         83.33      Standard  \n",
       "1         93.33      Standard  \n",
       "2         76.67      Standard  \n",
       "3        157.89      Standard  \n",
       "4         94.74      Standard  \n",
       "...         ...           ...  \n",
       "9195      72.22  Presidential  \n",
       "9196      72.22  Presidential  \n",
       "9197      50.00  Presidential  \n",
       "9198      50.00  Presidential  \n",
       "9199      75.00  Presidential  \n",
       "\n",
       "[9200 rows x 7 columns]"
      ]
     },
     "execution_count": 27,
     "metadata": {},
     "output_type": "execute_result"
    }
   ],
   "source": [
    "df.drop(\"room_id\",axis=1,inplace=True)\n",
    "df"
   ]
  },
  {
   "cell_type": "code",
   "execution_count": 28,
   "id": "08d108ee",
   "metadata": {},
   "outputs": [
    {
     "data": {
      "text/plain": [
       "room_class\n",
       "Elite           58.04\n",
       "Premium         58.03\n",
       "Presidential    59.30\n",
       "Standard        58.22\n",
       "Name: occ_prcnt, dtype: float64"
      ]
     },
     "execution_count": 28,
     "metadata": {},
     "output_type": "execute_result"
    }
   ],
   "source": [
    "df.groupby(\"room_class\")[\"occ_prcnt\"].mean().round(2)"
   ]
  },
  {
   "cell_type": "markdown",
   "id": "bbbaac54",
   "metadata": {},
   "source": [
    "**2. Average occupancy rate per city**"
   ]
  },
  {
   "cell_type": "code",
   "execution_count": 38,
   "id": "86fd977e",
   "metadata": {},
   "outputs": [
    {
     "data": {
      "text/html": [
       "<div>\n",
       "<style scoped>\n",
       "    .dataframe tbody tr th:only-of-type {\n",
       "        vertical-align: middle;\n",
       "    }\n",
       "\n",
       "    .dataframe tbody tr th {\n",
       "        vertical-align: top;\n",
       "    }\n",
       "\n",
       "    .dataframe thead th {\n",
       "        text-align: right;\n",
       "    }\n",
       "</style>\n",
       "<table border=\"1\" class=\"dataframe\">\n",
       "  <thead>\n",
       "    <tr style=\"text-align: right;\">\n",
       "      <th></th>\n",
       "      <th>property_id</th>\n",
       "      <th>check_in_date</th>\n",
       "      <th>room_category</th>\n",
       "      <th>successful_bookings</th>\n",
       "      <th>capacity</th>\n",
       "      <th>occ_prcnt</th>\n",
       "      <th>room_class</th>\n",
       "      <th>property_name</th>\n",
       "      <th>category</th>\n",
       "      <th>city</th>\n",
       "    </tr>\n",
       "  </thead>\n",
       "  <tbody>\n",
       "    <tr>\n",
       "      <th>0</th>\n",
       "      <td>16559</td>\n",
       "      <td>1-May-22</td>\n",
       "      <td>RT1</td>\n",
       "      <td>25</td>\n",
       "      <td>30.0</td>\n",
       "      <td>83.33</td>\n",
       "      <td>Standard</td>\n",
       "      <td>Atliq Exotica</td>\n",
       "      <td>Luxury</td>\n",
       "      <td>Mumbai</td>\n",
       "    </tr>\n",
       "    <tr>\n",
       "      <th>1</th>\n",
       "      <td>16559</td>\n",
       "      <td>2-May-22</td>\n",
       "      <td>RT1</td>\n",
       "      <td>20</td>\n",
       "      <td>30.0</td>\n",
       "      <td>66.67</td>\n",
       "      <td>Standard</td>\n",
       "      <td>Atliq Exotica</td>\n",
       "      <td>Luxury</td>\n",
       "      <td>Mumbai</td>\n",
       "    </tr>\n",
       "    <tr>\n",
       "      <th>2</th>\n",
       "      <td>16559</td>\n",
       "      <td>3-May-22</td>\n",
       "      <td>RT1</td>\n",
       "      <td>17</td>\n",
       "      <td>30.0</td>\n",
       "      <td>56.67</td>\n",
       "      <td>Standard</td>\n",
       "      <td>Atliq Exotica</td>\n",
       "      <td>Luxury</td>\n",
       "      <td>Mumbai</td>\n",
       "    </tr>\n",
       "    <tr>\n",
       "      <th>3</th>\n",
       "      <td>16559</td>\n",
       "      <td>4-May-22</td>\n",
       "      <td>RT1</td>\n",
       "      <td>21</td>\n",
       "      <td>30.0</td>\n",
       "      <td>70.00</td>\n",
       "      <td>Standard</td>\n",
       "      <td>Atliq Exotica</td>\n",
       "      <td>Luxury</td>\n",
       "      <td>Mumbai</td>\n",
       "    </tr>\n",
       "  </tbody>\n",
       "</table>\n",
       "</div>"
      ],
      "text/plain": [
       "   property_id check_in_date room_category  successful_bookings  capacity  \\\n",
       "0        16559      1-May-22           RT1                   25      30.0   \n",
       "1        16559      2-May-22           RT1                   20      30.0   \n",
       "2        16559      3-May-22           RT1                   17      30.0   \n",
       "3        16559      4-May-22           RT1                   21      30.0   \n",
       "\n",
       "   occ_prcnt room_class  property_name category    city  \n",
       "0      83.33   Standard  Atliq Exotica   Luxury  Mumbai  \n",
       "1      66.67   Standard  Atliq Exotica   Luxury  Mumbai  \n",
       "2      56.67   Standard  Atliq Exotica   Luxury  Mumbai  \n",
       "3      70.00   Standard  Atliq Exotica   Luxury  Mumbai  "
      ]
     },
     "execution_count": 38,
     "metadata": {},
     "output_type": "execute_result"
    }
   ],
   "source": [
    "df = pd.merge(df,df_hotel,on=\"property_id\")\n",
    "df.head(4)"
   ]
  },
  {
   "cell_type": "code",
   "execution_count": 53,
   "id": "fdf1d765",
   "metadata": {},
   "outputs": [
    {
     "data": {
      "text/plain": [
       "<AxesSubplot:xlabel='city'>"
      ]
     },
     "execution_count": 53,
     "metadata": {},
     "output_type": "execute_result"
    },
    {
     "data": {
      "image/png": "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\n",
      "text/plain": [
       "<Figure size 640x480 with 1 Axes>"
      ]
     },
     "metadata": {},
     "output_type": "display_data"
    }
   ],
   "source": [
    "df.groupby(\"city\")[\"occ_prcnt\"].mean().round(2).plot(kind=\"bar\",color=\"#5E40BE\")"
   ]
  },
  {
   "cell_type": "markdown",
   "id": "2065b630",
   "metadata": {},
   "source": [
    "**3. When occupancy rate is better in weekday or weekends?**"
   ]
  },
  {
   "cell_type": "code",
   "execution_count": 55,
   "id": "bd696da2",
   "metadata": {},
   "outputs": [
    {
     "data": {
      "text/html": [
       "<div>\n",
       "<style scoped>\n",
       "    .dataframe tbody tr th:only-of-type {\n",
       "        vertical-align: middle;\n",
       "    }\n",
       "\n",
       "    .dataframe tbody tr th {\n",
       "        vertical-align: top;\n",
       "    }\n",
       "\n",
       "    .dataframe thead th {\n",
       "        text-align: right;\n",
       "    }\n",
       "</style>\n",
       "<table border=\"1\" class=\"dataframe\">\n",
       "  <thead>\n",
       "    <tr style=\"text-align: right;\">\n",
       "      <th></th>\n",
       "      <th>property_id</th>\n",
       "      <th>check_in_date</th>\n",
       "      <th>room_category</th>\n",
       "      <th>successful_bookings</th>\n",
       "      <th>capacity</th>\n",
       "      <th>occ_prcnt</th>\n",
       "      <th>room_class</th>\n",
       "      <th>property_name</th>\n",
       "      <th>category</th>\n",
       "      <th>city</th>\n",
       "    </tr>\n",
       "  </thead>\n",
       "  <tbody>\n",
       "    <tr>\n",
       "      <th>0</th>\n",
       "      <td>16559</td>\n",
       "      <td>1-May-22</td>\n",
       "      <td>RT1</td>\n",
       "      <td>25</td>\n",
       "      <td>30.0</td>\n",
       "      <td>83.33</td>\n",
       "      <td>Standard</td>\n",
       "      <td>Atliq Exotica</td>\n",
       "      <td>Luxury</td>\n",
       "      <td>Mumbai</td>\n",
       "    </tr>\n",
       "    <tr>\n",
       "      <th>1</th>\n",
       "      <td>16559</td>\n",
       "      <td>2-May-22</td>\n",
       "      <td>RT1</td>\n",
       "      <td>20</td>\n",
       "      <td>30.0</td>\n",
       "      <td>66.67</td>\n",
       "      <td>Standard</td>\n",
       "      <td>Atliq Exotica</td>\n",
       "      <td>Luxury</td>\n",
       "      <td>Mumbai</td>\n",
       "    </tr>\n",
       "    <tr>\n",
       "      <th>2</th>\n",
       "      <td>16559</td>\n",
       "      <td>3-May-22</td>\n",
       "      <td>RT1</td>\n",
       "      <td>17</td>\n",
       "      <td>30.0</td>\n",
       "      <td>56.67</td>\n",
       "      <td>Standard</td>\n",
       "      <td>Atliq Exotica</td>\n",
       "      <td>Luxury</td>\n",
       "      <td>Mumbai</td>\n",
       "    </tr>\n",
       "    <tr>\n",
       "      <th>3</th>\n",
       "      <td>16559</td>\n",
       "      <td>4-May-22</td>\n",
       "      <td>RT1</td>\n",
       "      <td>21</td>\n",
       "      <td>30.0</td>\n",
       "      <td>70.00</td>\n",
       "      <td>Standard</td>\n",
       "      <td>Atliq Exotica</td>\n",
       "      <td>Luxury</td>\n",
       "      <td>Mumbai</td>\n",
       "    </tr>\n",
       "  </tbody>\n",
       "</table>\n",
       "</div>"
      ],
      "text/plain": [
       "   property_id check_in_date room_category  successful_bookings  capacity  \\\n",
       "0        16559      1-May-22           RT1                   25      30.0   \n",
       "1        16559      2-May-22           RT1                   20      30.0   \n",
       "2        16559      3-May-22           RT1                   17      30.0   \n",
       "3        16559      4-May-22           RT1                   21      30.0   \n",
       "\n",
       "   occ_prcnt room_class  property_name category    city  \n",
       "0      83.33   Standard  Atliq Exotica   Luxury  Mumbai  \n",
       "1      66.67   Standard  Atliq Exotica   Luxury  Mumbai  \n",
       "2      56.67   Standard  Atliq Exotica   Luxury  Mumbai  \n",
       "3      70.00   Standard  Atliq Exotica   Luxury  Mumbai  "
      ]
     },
     "execution_count": 55,
     "metadata": {},
     "output_type": "execute_result"
    }
   ],
   "source": [
    "df.head(4)"
   ]
  },
  {
   "cell_type": "code",
   "execution_count": 56,
   "id": "11b5cce2",
   "metadata": {},
   "outputs": [
    {
     "data": {
      "text/html": [
       "<div>\n",
       "<style scoped>\n",
       "    .dataframe tbody tr th:only-of-type {\n",
       "        vertical-align: middle;\n",
       "    }\n",
       "\n",
       "    .dataframe tbody tr th {\n",
       "        vertical-align: top;\n",
       "    }\n",
       "\n",
       "    .dataframe thead th {\n",
       "        text-align: right;\n",
       "    }\n",
       "</style>\n",
       "<table border=\"1\" class=\"dataframe\">\n",
       "  <thead>\n",
       "    <tr style=\"text-align: right;\">\n",
       "      <th></th>\n",
       "      <th>date</th>\n",
       "      <th>mmm yy</th>\n",
       "      <th>week no</th>\n",
       "      <th>day_type</th>\n",
       "    </tr>\n",
       "  </thead>\n",
       "  <tbody>\n",
       "    <tr>\n",
       "      <th>0</th>\n",
       "      <td>01-May-22</td>\n",
       "      <td>May 22</td>\n",
       "      <td>W 19</td>\n",
       "      <td>weekend</td>\n",
       "    </tr>\n",
       "    <tr>\n",
       "      <th>1</th>\n",
       "      <td>02-May-22</td>\n",
       "      <td>May 22</td>\n",
       "      <td>W 19</td>\n",
       "      <td>weekeday</td>\n",
       "    </tr>\n",
       "    <tr>\n",
       "      <th>2</th>\n",
       "      <td>03-May-22</td>\n",
       "      <td>May 22</td>\n",
       "      <td>W 19</td>\n",
       "      <td>weekeday</td>\n",
       "    </tr>\n",
       "    <tr>\n",
       "      <th>3</th>\n",
       "      <td>04-May-22</td>\n",
       "      <td>May 22</td>\n",
       "      <td>W 19</td>\n",
       "      <td>weekeday</td>\n",
       "    </tr>\n",
       "  </tbody>\n",
       "</table>\n",
       "</div>"
      ],
      "text/plain": [
       "        date  mmm yy week no  day_type\n",
       "0  01-May-22  May 22    W 19   weekend\n",
       "1  02-May-22  May 22    W 19  weekeday\n",
       "2  03-May-22  May 22    W 19  weekeday\n",
       "3  04-May-22  May 22    W 19  weekeday"
      ]
     },
     "execution_count": 56,
     "metadata": {},
     "output_type": "execute_result"
    }
   ],
   "source": [
    "df_date.head(4)"
   ]
  },
  {
   "cell_type": "markdown",
   "id": "3f34f7e7",
   "metadata": {},
   "source": [
    "Merge these above two dataframes together to know which day has better occupancy rate"
   ]
  },
  {
   "cell_type": "code",
   "execution_count": 71,
   "id": "adcebbfe",
   "metadata": {},
   "outputs": [
    {
     "data": {
      "text/html": [
       "<div>\n",
       "<style scoped>\n",
       "    .dataframe tbody tr th:only-of-type {\n",
       "        vertical-align: middle;\n",
       "    }\n",
       "\n",
       "    .dataframe tbody tr th {\n",
       "        vertical-align: top;\n",
       "    }\n",
       "\n",
       "    .dataframe thead th {\n",
       "        text-align: right;\n",
       "    }\n",
       "</style>\n",
       "<table border=\"1\" class=\"dataframe\">\n",
       "  <thead>\n",
       "    <tr style=\"text-align: right;\">\n",
       "      <th></th>\n",
       "      <th>property_id</th>\n",
       "      <th>check_in_date</th>\n",
       "      <th>room_category</th>\n",
       "      <th>successful_bookings</th>\n",
       "      <th>capacity</th>\n",
       "      <th>occ_prcnt</th>\n",
       "      <th>room_class</th>\n",
       "      <th>property_name</th>\n",
       "      <th>category</th>\n",
       "      <th>city</th>\n",
       "      <th>date</th>\n",
       "      <th>mmm yy</th>\n",
       "      <th>week no</th>\n",
       "      <th>day_type</th>\n",
       "    </tr>\n",
       "  </thead>\n",
       "  <tbody>\n",
       "    <tr>\n",
       "      <th>0</th>\n",
       "      <td>16559</td>\n",
       "      <td>10-May-22</td>\n",
       "      <td>RT1</td>\n",
       "      <td>18</td>\n",
       "      <td>30.0</td>\n",
       "      <td>60.00</td>\n",
       "      <td>Standard</td>\n",
       "      <td>Atliq Exotica</td>\n",
       "      <td>Luxury</td>\n",
       "      <td>Mumbai</td>\n",
       "      <td>10-May-22</td>\n",
       "      <td>May 22</td>\n",
       "      <td>W 20</td>\n",
       "      <td>weekeday</td>\n",
       "    </tr>\n",
       "    <tr>\n",
       "      <th>1</th>\n",
       "      <td>16559</td>\n",
       "      <td>10-May-22</td>\n",
       "      <td>RT2</td>\n",
       "      <td>25</td>\n",
       "      <td>41.0</td>\n",
       "      <td>60.98</td>\n",
       "      <td>Elite</td>\n",
       "      <td>Atliq Exotica</td>\n",
       "      <td>Luxury</td>\n",
       "      <td>Mumbai</td>\n",
       "      <td>10-May-22</td>\n",
       "      <td>May 22</td>\n",
       "      <td>W 20</td>\n",
       "      <td>weekeday</td>\n",
       "    </tr>\n",
       "    <tr>\n",
       "      <th>2</th>\n",
       "      <td>16559</td>\n",
       "      <td>10-May-22</td>\n",
       "      <td>RT3</td>\n",
       "      <td>20</td>\n",
       "      <td>32.0</td>\n",
       "      <td>62.50</td>\n",
       "      <td>Premium</td>\n",
       "      <td>Atliq Exotica</td>\n",
       "      <td>Luxury</td>\n",
       "      <td>Mumbai</td>\n",
       "      <td>10-May-22</td>\n",
       "      <td>May 22</td>\n",
       "      <td>W 20</td>\n",
       "      <td>weekeday</td>\n",
       "    </tr>\n",
       "  </tbody>\n",
       "</table>\n",
       "</div>"
      ],
      "text/plain": [
       "   property_id check_in_date room_category  successful_bookings  capacity  \\\n",
       "0        16559     10-May-22           RT1                   18      30.0   \n",
       "1        16559     10-May-22           RT2                   25      41.0   \n",
       "2        16559     10-May-22           RT3                   20      32.0   \n",
       "\n",
       "   occ_prcnt room_class  property_name category    city       date  mmm yy  \\\n",
       "0      60.00   Standard  Atliq Exotica   Luxury  Mumbai  10-May-22  May 22   \n",
       "1      60.98      Elite  Atliq Exotica   Luxury  Mumbai  10-May-22  May 22   \n",
       "2      62.50    Premium  Atliq Exotica   Luxury  Mumbai  10-May-22  May 22   \n",
       "\n",
       "  week no  day_type  \n",
       "0    W 20  weekeday  \n",
       "1    W 20  weekeday  \n",
       "2    W 20  weekeday  "
      ]
     },
     "execution_count": 71,
     "metadata": {},
     "output_type": "execute_result"
    }
   ],
   "source": [
    "df = pd.merge(df, df_date, left_on=\"check_in_date\", right_on=\"date\")\n",
    "df.head(3)"
   ]
  },
  {
   "cell_type": "code",
   "execution_count": 72,
   "id": "ccb9ec03",
   "metadata": {},
   "outputs": [
    {
     "data": {
      "text/plain": [
       "day_type\n",
       "weekeday    50.90\n",
       "weekend     72.39\n",
       "Name: occ_prcnt, dtype: float64"
      ]
     },
     "execution_count": 72,
     "metadata": {},
     "output_type": "execute_result"
    }
   ],
   "source": [
    "df.groupby(\"day_type\")[\"occ_prcnt\"].mean().round(2)"
   ]
  },
  {
   "cell_type": "markdown",
   "id": "f312575a",
   "metadata": {},
   "source": [
    "**4: In the month of June, what is the occupancy for different cities**"
   ]
  },
  {
   "cell_type": "code",
   "execution_count": 73,
   "id": "f486cc13",
   "metadata": {},
   "outputs": [
    {
     "data": {
      "text/plain": [
       "array(['May 22', 'Jun 22', 'Jul 22'], dtype=object)"
      ]
     },
     "execution_count": 73,
     "metadata": {},
     "output_type": "execute_result"
    }
   ],
   "source": [
    "df[\"mmm yy\"].unique()"
   ]
  },
  {
   "cell_type": "code",
   "execution_count": 78,
   "id": "96b04d2e",
   "metadata": {},
   "outputs": [
    {
     "data": {
      "text/html": [
       "<div>\n",
       "<style scoped>\n",
       "    .dataframe tbody tr th:only-of-type {\n",
       "        vertical-align: middle;\n",
       "    }\n",
       "\n",
       "    .dataframe tbody tr th {\n",
       "        vertical-align: top;\n",
       "    }\n",
       "\n",
       "    .dataframe thead th {\n",
       "        text-align: right;\n",
       "    }\n",
       "</style>\n",
       "<table border=\"1\" class=\"dataframe\">\n",
       "  <thead>\n",
       "    <tr style=\"text-align: right;\">\n",
       "      <th></th>\n",
       "      <th>property_id</th>\n",
       "      <th>check_in_date</th>\n",
       "      <th>room_category</th>\n",
       "      <th>successful_bookings</th>\n",
       "      <th>capacity</th>\n",
       "      <th>occ_prcnt</th>\n",
       "      <th>room_class</th>\n",
       "      <th>property_name</th>\n",
       "      <th>category</th>\n",
       "      <th>city</th>\n",
       "      <th>date</th>\n",
       "      <th>mmm yy</th>\n",
       "      <th>week no</th>\n",
       "      <th>day_type</th>\n",
       "    </tr>\n",
       "  </thead>\n",
       "  <tbody>\n",
       "    <tr>\n",
       "      <th>2200</th>\n",
       "      <td>16559</td>\n",
       "      <td>10-Jun-22</td>\n",
       "      <td>RT1</td>\n",
       "      <td>20</td>\n",
       "      <td>30.0</td>\n",
       "      <td>66.67</td>\n",
       "      <td>Standard</td>\n",
       "      <td>Atliq Exotica</td>\n",
       "      <td>Luxury</td>\n",
       "      <td>Mumbai</td>\n",
       "      <td>10-Jun-22</td>\n",
       "      <td>Jun 22</td>\n",
       "      <td>W 24</td>\n",
       "      <td>weekeday</td>\n",
       "    </tr>\n",
       "    <tr>\n",
       "      <th>2201</th>\n",
       "      <td>16559</td>\n",
       "      <td>10-Jun-22</td>\n",
       "      <td>RT2</td>\n",
       "      <td>26</td>\n",
       "      <td>41.0</td>\n",
       "      <td>63.41</td>\n",
       "      <td>Elite</td>\n",
       "      <td>Atliq Exotica</td>\n",
       "      <td>Luxury</td>\n",
       "      <td>Mumbai</td>\n",
       "      <td>10-Jun-22</td>\n",
       "      <td>Jun 22</td>\n",
       "      <td>W 24</td>\n",
       "      <td>weekeday</td>\n",
       "    </tr>\n",
       "    <tr>\n",
       "      <th>2202</th>\n",
       "      <td>16559</td>\n",
       "      <td>10-Jun-22</td>\n",
       "      <td>RT3</td>\n",
       "      <td>20</td>\n",
       "      <td>32.0</td>\n",
       "      <td>62.50</td>\n",
       "      <td>Premium</td>\n",
       "      <td>Atliq Exotica</td>\n",
       "      <td>Luxury</td>\n",
       "      <td>Mumbai</td>\n",
       "      <td>10-Jun-22</td>\n",
       "      <td>Jun 22</td>\n",
       "      <td>W 24</td>\n",
       "      <td>weekeday</td>\n",
       "    </tr>\n",
       "    <tr>\n",
       "      <th>2203</th>\n",
       "      <td>16559</td>\n",
       "      <td>10-Jun-22</td>\n",
       "      <td>RT4</td>\n",
       "      <td>11</td>\n",
       "      <td>18.0</td>\n",
       "      <td>61.11</td>\n",
       "      <td>Presidential</td>\n",
       "      <td>Atliq Exotica</td>\n",
       "      <td>Luxury</td>\n",
       "      <td>Mumbai</td>\n",
       "      <td>10-Jun-22</td>\n",
       "      <td>Jun 22</td>\n",
       "      <td>W 24</td>\n",
       "      <td>weekeday</td>\n",
       "    </tr>\n",
       "  </tbody>\n",
       "</table>\n",
       "</div>"
      ],
      "text/plain": [
       "      property_id check_in_date room_category  successful_bookings  capacity  \\\n",
       "2200        16559     10-Jun-22           RT1                   20      30.0   \n",
       "2201        16559     10-Jun-22           RT2                   26      41.0   \n",
       "2202        16559     10-Jun-22           RT3                   20      32.0   \n",
       "2203        16559     10-Jun-22           RT4                   11      18.0   \n",
       "\n",
       "      occ_prcnt    room_class  property_name category    city       date  \\\n",
       "2200      66.67      Standard  Atliq Exotica   Luxury  Mumbai  10-Jun-22   \n",
       "2201      63.41         Elite  Atliq Exotica   Luxury  Mumbai  10-Jun-22   \n",
       "2202      62.50       Premium  Atliq Exotica   Luxury  Mumbai  10-Jun-22   \n",
       "2203      61.11  Presidential  Atliq Exotica   Luxury  Mumbai  10-Jun-22   \n",
       "\n",
       "      mmm yy week no  day_type  \n",
       "2200  Jun 22    W 24  weekeday  \n",
       "2201  Jun 22    W 24  weekeday  \n",
       "2202  Jun 22    W 24  weekeday  \n",
       "2203  Jun 22    W 24  weekeday  "
      ]
     },
     "execution_count": 78,
     "metadata": {},
     "output_type": "execute_result"
    }
   ],
   "source": [
    "df_June = df[df[\"mmm yy\"] == \"Jun 22\" ]\n",
    "df_June.head(4)"
   ]
  },
  {
   "cell_type": "code",
   "execution_count": 102,
   "id": "f323d008",
   "metadata": {},
   "outputs": [
    {
     "data": {
      "text/plain": [
       "city\n",
       "Delhi        62.47\n",
       "Hyderabad    58.46\n",
       "Mumbai       58.38\n",
       "Bangalore    56.58\n",
       "Name: occ_prcnt, dtype: float64"
      ]
     },
     "execution_count": 102,
     "metadata": {},
     "output_type": "execute_result"
    }
   ],
   "source": [
    "june_occ_rate = df_June.groupby(\"city\")[\"occ_prcnt\"].mean().round(2).sort_values(ascending=False)\n",
    "june_occ_rate"
   ]
  },
  {
   "cell_type": "code",
   "execution_count": 106,
   "id": "729ab087",
   "metadata": {},
   "outputs": [
    {
     "data": {
      "text/plain": [
       "'Delhi'"
      ]
     },
     "execution_count": 106,
     "metadata": {},
     "output_type": "execute_result"
    }
   ],
   "source": [
    "max_index = june_occ_rate.idxmax()\n",
    "max_index"
   ]
  },
  {
   "cell_type": "code",
   "execution_count": 124,
   "id": "41cbd2ad",
   "metadata": {},
   "outputs": [],
   "source": [
    "colors = ['#FF0000' if city == max_index else '#5E40BE' for city in june_occ_rate.index]"
   ]
  },
  {
   "cell_type": "code",
   "execution_count": 139,
   "id": "c78a2694",
   "metadata": {},
   "outputs": [
    {
     "data": {
      "image/png": "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\n",
      "text/plain": [
       "<Figure size 640x480 with 1 Axes>"
      ]
     },
     "metadata": {},
     "output_type": "display_data"
    }
   ],
   "source": [
    "june_occ_rate.plot(kind='bar',color=colors)\n",
    "plt.show()"
   ]
  },
  {
   "cell_type": "markdown",
   "id": "a6efb019",
   "metadata": {},
   "source": [
    "**5. Appending new data of august month to existing data**"
   ]
  },
  {
   "cell_type": "code",
   "execution_count": 142,
   "id": "075f8208",
   "metadata": {},
   "outputs": [
    {
     "data": {
      "text/html": [
       "<div>\n",
       "<style scoped>\n",
       "    .dataframe tbody tr th:only-of-type {\n",
       "        vertical-align: middle;\n",
       "    }\n",
       "\n",
       "    .dataframe tbody tr th {\n",
       "        vertical-align: top;\n",
       "    }\n",
       "\n",
       "    .dataframe thead th {\n",
       "        text-align: right;\n",
       "    }\n",
       "</style>\n",
       "<table border=\"1\" class=\"dataframe\">\n",
       "  <thead>\n",
       "    <tr style=\"text-align: right;\">\n",
       "      <th></th>\n",
       "      <th>property_id</th>\n",
       "      <th>property_name</th>\n",
       "      <th>category</th>\n",
       "      <th>city</th>\n",
       "      <th>room_category</th>\n",
       "      <th>room_class</th>\n",
       "      <th>check_in_date</th>\n",
       "      <th>mmm yy</th>\n",
       "      <th>week no</th>\n",
       "      <th>day_type</th>\n",
       "      <th>successful_bookings</th>\n",
       "      <th>capacity</th>\n",
       "      <th>occ%</th>\n",
       "    </tr>\n",
       "  </thead>\n",
       "  <tbody>\n",
       "    <tr>\n",
       "      <th>0</th>\n",
       "      <td>16559</td>\n",
       "      <td>Atliq Exotica</td>\n",
       "      <td>Luxury</td>\n",
       "      <td>Mumbai</td>\n",
       "      <td>RT1</td>\n",
       "      <td>Standard</td>\n",
       "      <td>01-Aug-22</td>\n",
       "      <td>Aug-22</td>\n",
       "      <td>W 32</td>\n",
       "      <td>weekeday</td>\n",
       "      <td>30</td>\n",
       "      <td>30</td>\n",
       "      <td>100.00</td>\n",
       "    </tr>\n",
       "    <tr>\n",
       "      <th>1</th>\n",
       "      <td>19562</td>\n",
       "      <td>Atliq Bay</td>\n",
       "      <td>Luxury</td>\n",
       "      <td>Bangalore</td>\n",
       "      <td>RT1</td>\n",
       "      <td>Standard</td>\n",
       "      <td>01-Aug-22</td>\n",
       "      <td>Aug-22</td>\n",
       "      <td>W 32</td>\n",
       "      <td>weekeday</td>\n",
       "      <td>21</td>\n",
       "      <td>30</td>\n",
       "      <td>70.00</td>\n",
       "    </tr>\n",
       "    <tr>\n",
       "      <th>2</th>\n",
       "      <td>19563</td>\n",
       "      <td>Atliq Palace</td>\n",
       "      <td>Business</td>\n",
       "      <td>Bangalore</td>\n",
       "      <td>RT1</td>\n",
       "      <td>Standard</td>\n",
       "      <td>01-Aug-22</td>\n",
       "      <td>Aug-22</td>\n",
       "      <td>W 32</td>\n",
       "      <td>weekeday</td>\n",
       "      <td>23</td>\n",
       "      <td>30</td>\n",
       "      <td>76.67</td>\n",
       "    </tr>\n",
       "  </tbody>\n",
       "</table>\n",
       "</div>"
      ],
      "text/plain": [
       "   property_id  property_name  category       city room_category room_class  \\\n",
       "0        16559  Atliq Exotica    Luxury     Mumbai           RT1   Standard   \n",
       "1        19562      Atliq Bay    Luxury  Bangalore           RT1   Standard   \n",
       "2        19563   Atliq Palace  Business  Bangalore           RT1   Standard   \n",
       "\n",
       "  check_in_date  mmm yy week no  day_type  successful_bookings  capacity  \\\n",
       "0     01-Aug-22  Aug-22    W 32  weekeday                   30        30   \n",
       "1     01-Aug-22  Aug-22    W 32  weekeday                   21        30   \n",
       "2     01-Aug-22  Aug-22    W 32  weekeday                   23        30   \n",
       "\n",
       "     occ%  \n",
       "0  100.00  \n",
       "1   70.00  \n",
       "2   76.67  "
      ]
     },
     "execution_count": 142,
     "metadata": {},
     "output_type": "execute_result"
    }
   ],
   "source": [
    "df_august = pd.read_csv(\"datasets/new_data_august.csv\")\n",
    "df_august.head(3)"
   ]
  },
  {
   "cell_type": "code",
   "execution_count": 143,
   "id": "b18b5d5e",
   "metadata": {},
   "outputs": [
    {
     "data": {
      "text/plain": [
       "Index(['property_id', 'property_name', 'category', 'city', 'room_category',\n",
       "       'room_class', 'check_in_date', 'mmm yy', 'week no', 'day_type',\n",
       "       'successful_bookings', 'capacity', 'occ%'],\n",
       "      dtype='object')"
      ]
     },
     "execution_count": 143,
     "metadata": {},
     "output_type": "execute_result"
    }
   ],
   "source": [
    "df_august.columns"
   ]
  },
  {
   "cell_type": "code",
   "execution_count": 144,
   "id": "70e1d3eb",
   "metadata": {},
   "outputs": [
    {
     "data": {
      "text/plain": [
       "Index(['property_id', 'check_in_date', 'room_category', 'successful_bookings',\n",
       "       'capacity', 'occ_prcnt', 'room_class', 'property_name', 'category',\n",
       "       'city', 'date', 'mmm yy', 'week no', 'day_type'],\n",
       "      dtype='object')"
      ]
     },
     "execution_count": 144,
     "metadata": {},
     "output_type": "execute_result"
    }
   ],
   "source": [
    "df.columns"
   ]
  },
  {
   "cell_type": "code",
   "execution_count": 145,
   "id": "f2233314",
   "metadata": {},
   "outputs": [
    {
     "data": {
      "text/plain": [
       "(7, 13)"
      ]
     },
     "execution_count": 145,
     "metadata": {},
     "output_type": "execute_result"
    }
   ],
   "source": [
    "df_august.shape"
   ]
  },
  {
   "cell_type": "code",
   "execution_count": 146,
   "id": "c793c16d",
   "metadata": {},
   "outputs": [
    {
     "data": {
      "text/plain": [
       "(6500, 14)"
      ]
     },
     "execution_count": 146,
     "metadata": {},
     "output_type": "execute_result"
    }
   ],
   "source": [
    "df.shape"
   ]
  },
  {
   "cell_type": "code",
   "execution_count": null,
   "id": "08cdf645",
   "metadata": {},
   "outputs": [],
   "source": [
    "#concatinating two dataframes using concat method"
   ]
  },
  {
   "cell_type": "code",
   "execution_count": 150,
   "id": "0b100489",
   "metadata": {
    "scrolled": false
   },
   "outputs": [
    {
     "data": {
      "text/html": [
       "<div>\n",
       "<style scoped>\n",
       "    .dataframe tbody tr th:only-of-type {\n",
       "        vertical-align: middle;\n",
       "    }\n",
       "\n",
       "    .dataframe tbody tr th {\n",
       "        vertical-align: top;\n",
       "    }\n",
       "\n",
       "    .dataframe thead th {\n",
       "        text-align: right;\n",
       "    }\n",
       "</style>\n",
       "<table border=\"1\" class=\"dataframe\">\n",
       "  <thead>\n",
       "    <tr style=\"text-align: right;\">\n",
       "      <th></th>\n",
       "      <th>property_id</th>\n",
       "      <th>check_in_date</th>\n",
       "      <th>room_category</th>\n",
       "      <th>successful_bookings</th>\n",
       "      <th>capacity</th>\n",
       "      <th>occ_prcnt</th>\n",
       "      <th>room_class</th>\n",
       "      <th>property_name</th>\n",
       "      <th>category</th>\n",
       "      <th>city</th>\n",
       "      <th>date</th>\n",
       "      <th>mmm yy</th>\n",
       "      <th>week no</th>\n",
       "      <th>day_type</th>\n",
       "      <th>occ%</th>\n",
       "    </tr>\n",
       "  </thead>\n",
       "  <tbody>\n",
       "    <tr>\n",
       "      <th>6497</th>\n",
       "      <td>18560</td>\n",
       "      <td>31-Jul-22</td>\n",
       "      <td>RT2</td>\n",
       "      <td>34</td>\n",
       "      <td>40.0</td>\n",
       "      <td>85.00</td>\n",
       "      <td>Elite</td>\n",
       "      <td>Atliq City</td>\n",
       "      <td>Business</td>\n",
       "      <td>Hyderabad</td>\n",
       "      <td>31-Jul-22</td>\n",
       "      <td>Jul 22</td>\n",
       "      <td>W 32</td>\n",
       "      <td>weekend</td>\n",
       "      <td>NaN</td>\n",
       "    </tr>\n",
       "    <tr>\n",
       "      <th>6498</th>\n",
       "      <td>18560</td>\n",
       "      <td>31-Jul-22</td>\n",
       "      <td>RT3</td>\n",
       "      <td>17</td>\n",
       "      <td>24.0</td>\n",
       "      <td>70.83</td>\n",
       "      <td>Premium</td>\n",
       "      <td>Atliq City</td>\n",
       "      <td>Business</td>\n",
       "      <td>Hyderabad</td>\n",
       "      <td>31-Jul-22</td>\n",
       "      <td>Jul 22</td>\n",
       "      <td>W 32</td>\n",
       "      <td>weekend</td>\n",
       "      <td>NaN</td>\n",
       "    </tr>\n",
       "    <tr>\n",
       "      <th>6499</th>\n",
       "      <td>18560</td>\n",
       "      <td>31-Jul-22</td>\n",
       "      <td>RT4</td>\n",
       "      <td>12</td>\n",
       "      <td>15.0</td>\n",
       "      <td>80.00</td>\n",
       "      <td>Presidential</td>\n",
       "      <td>Atliq City</td>\n",
       "      <td>Business</td>\n",
       "      <td>Hyderabad</td>\n",
       "      <td>31-Jul-22</td>\n",
       "      <td>Jul 22</td>\n",
       "      <td>W 32</td>\n",
       "      <td>weekend</td>\n",
       "      <td>NaN</td>\n",
       "    </tr>\n",
       "    <tr>\n",
       "      <th>6500</th>\n",
       "      <td>16559</td>\n",
       "      <td>01-Aug-22</td>\n",
       "      <td>RT1</td>\n",
       "      <td>30</td>\n",
       "      <td>30.0</td>\n",
       "      <td>NaN</td>\n",
       "      <td>Standard</td>\n",
       "      <td>Atliq Exotica</td>\n",
       "      <td>Luxury</td>\n",
       "      <td>Mumbai</td>\n",
       "      <td>NaN</td>\n",
       "      <td>Aug-22</td>\n",
       "      <td>W 32</td>\n",
       "      <td>weekeday</td>\n",
       "      <td>100.00</td>\n",
       "    </tr>\n",
       "    <tr>\n",
       "      <th>6501</th>\n",
       "      <td>19562</td>\n",
       "      <td>01-Aug-22</td>\n",
       "      <td>RT1</td>\n",
       "      <td>21</td>\n",
       "      <td>30.0</td>\n",
       "      <td>NaN</td>\n",
       "      <td>Standard</td>\n",
       "      <td>Atliq Bay</td>\n",
       "      <td>Luxury</td>\n",
       "      <td>Bangalore</td>\n",
       "      <td>NaN</td>\n",
       "      <td>Aug-22</td>\n",
       "      <td>W 32</td>\n",
       "      <td>weekeday</td>\n",
       "      <td>70.00</td>\n",
       "    </tr>\n",
       "    <tr>\n",
       "      <th>6502</th>\n",
       "      <td>19563</td>\n",
       "      <td>01-Aug-22</td>\n",
       "      <td>RT1</td>\n",
       "      <td>23</td>\n",
       "      <td>30.0</td>\n",
       "      <td>NaN</td>\n",
       "      <td>Standard</td>\n",
       "      <td>Atliq Palace</td>\n",
       "      <td>Business</td>\n",
       "      <td>Bangalore</td>\n",
       "      <td>NaN</td>\n",
       "      <td>Aug-22</td>\n",
       "      <td>W 32</td>\n",
       "      <td>weekeday</td>\n",
       "      <td>76.67</td>\n",
       "    </tr>\n",
       "    <tr>\n",
       "      <th>6503</th>\n",
       "      <td>19558</td>\n",
       "      <td>01-Aug-22</td>\n",
       "      <td>RT1</td>\n",
       "      <td>30</td>\n",
       "      <td>40.0</td>\n",
       "      <td>NaN</td>\n",
       "      <td>Standard</td>\n",
       "      <td>Atliq Grands</td>\n",
       "      <td>Luxury</td>\n",
       "      <td>Bangalore</td>\n",
       "      <td>NaN</td>\n",
       "      <td>Aug-22</td>\n",
       "      <td>W 32</td>\n",
       "      <td>weekeday</td>\n",
       "      <td>75.00</td>\n",
       "    </tr>\n",
       "    <tr>\n",
       "      <th>6504</th>\n",
       "      <td>19560</td>\n",
       "      <td>01-Aug-22</td>\n",
       "      <td>RT1</td>\n",
       "      <td>20</td>\n",
       "      <td>26.0</td>\n",
       "      <td>NaN</td>\n",
       "      <td>Standard</td>\n",
       "      <td>Atliq City</td>\n",
       "      <td>Business</td>\n",
       "      <td>Bangalore</td>\n",
       "      <td>NaN</td>\n",
       "      <td>Aug-22</td>\n",
       "      <td>W 32</td>\n",
       "      <td>weekeday</td>\n",
       "      <td>76.92</td>\n",
       "    </tr>\n",
       "    <tr>\n",
       "      <th>6505</th>\n",
       "      <td>17561</td>\n",
       "      <td>01-Aug-22</td>\n",
       "      <td>RT1</td>\n",
       "      <td>18</td>\n",
       "      <td>26.0</td>\n",
       "      <td>NaN</td>\n",
       "      <td>Standard</td>\n",
       "      <td>Atliq Blu</td>\n",
       "      <td>Luxury</td>\n",
       "      <td>Mumbai</td>\n",
       "      <td>NaN</td>\n",
       "      <td>Aug-22</td>\n",
       "      <td>W 32</td>\n",
       "      <td>weekeday</td>\n",
       "      <td>69.23</td>\n",
       "    </tr>\n",
       "    <tr>\n",
       "      <th>6506</th>\n",
       "      <td>17564</td>\n",
       "      <td>01-Aug-22</td>\n",
       "      <td>RT1</td>\n",
       "      <td>10</td>\n",
       "      <td>16.0</td>\n",
       "      <td>NaN</td>\n",
       "      <td>Standard</td>\n",
       "      <td>Atliq Seasons</td>\n",
       "      <td>Business</td>\n",
       "      <td>Mumbai</td>\n",
       "      <td>NaN</td>\n",
       "      <td>Aug-22</td>\n",
       "      <td>W 32</td>\n",
       "      <td>weekeday</td>\n",
       "      <td>62.50</td>\n",
       "    </tr>\n",
       "  </tbody>\n",
       "</table>\n",
       "</div>"
      ],
      "text/plain": [
       "      property_id check_in_date room_category  successful_bookings  capacity  \\\n",
       "6497        18560     31-Jul-22           RT2                   34      40.0   \n",
       "6498        18560     31-Jul-22           RT3                   17      24.0   \n",
       "6499        18560     31-Jul-22           RT4                   12      15.0   \n",
       "6500        16559     01-Aug-22           RT1                   30      30.0   \n",
       "6501        19562     01-Aug-22           RT1                   21      30.0   \n",
       "6502        19563     01-Aug-22           RT1                   23      30.0   \n",
       "6503        19558     01-Aug-22           RT1                   30      40.0   \n",
       "6504        19560     01-Aug-22           RT1                   20      26.0   \n",
       "6505        17561     01-Aug-22           RT1                   18      26.0   \n",
       "6506        17564     01-Aug-22           RT1                   10      16.0   \n",
       "\n",
       "      occ_prcnt    room_class  property_name  category       city       date  \\\n",
       "6497      85.00         Elite     Atliq City  Business  Hyderabad  31-Jul-22   \n",
       "6498      70.83       Premium     Atliq City  Business  Hyderabad  31-Jul-22   \n",
       "6499      80.00  Presidential     Atliq City  Business  Hyderabad  31-Jul-22   \n",
       "6500        NaN      Standard  Atliq Exotica    Luxury     Mumbai        NaN   \n",
       "6501        NaN      Standard      Atliq Bay    Luxury  Bangalore        NaN   \n",
       "6502        NaN      Standard   Atliq Palace  Business  Bangalore        NaN   \n",
       "6503        NaN      Standard   Atliq Grands    Luxury  Bangalore        NaN   \n",
       "6504        NaN      Standard     Atliq City  Business  Bangalore        NaN   \n",
       "6505        NaN      Standard      Atliq Blu    Luxury     Mumbai        NaN   \n",
       "6506        NaN      Standard  Atliq Seasons  Business     Mumbai        NaN   \n",
       "\n",
       "      mmm yy week no  day_type    occ%  \n",
       "6497  Jul 22    W 32   weekend     NaN  \n",
       "6498  Jul 22    W 32   weekend     NaN  \n",
       "6499  Jul 22    W 32   weekend     NaN  \n",
       "6500  Aug-22    W 32  weekeday  100.00  \n",
       "6501  Aug-22    W 32  weekeday   70.00  \n",
       "6502  Aug-22    W 32  weekeday   76.67  \n",
       "6503  Aug-22    W 32  weekeday   75.00  \n",
       "6504  Aug-22    W 32  weekeday   76.92  \n",
       "6505  Aug-22    W 32  weekeday   69.23  \n",
       "6506  Aug-22    W 32  weekeday   62.50  "
      ]
     },
     "execution_count": 150,
     "metadata": {},
     "output_type": "execute_result"
    }
   ],
   "source": [
    "new_df = pd.concat([df,df_august],ignore_index=True,axis=0)\n",
    "new_df.tail(10)"
   ]
  },
  {
   "cell_type": "code",
   "execution_count": 149,
   "id": "120710e6",
   "metadata": {},
   "outputs": [
    {
     "data": {
      "text/plain": [
       "(6507, 15)"
      ]
     },
     "execution_count": 149,
     "metadata": {},
     "output_type": "execute_result"
    }
   ],
   "source": [
    "new_df.shape"
   ]
  },
  {
   "cell_type": "markdown",
   "id": "239d4129",
   "metadata": {},
   "source": [
    "**6. Print revenue realized per city**"
   ]
  },
  {
   "cell_type": "code",
   "execution_count": 151,
   "id": "6bec75cc",
   "metadata": {},
   "outputs": [
    {
     "data": {
      "text/html": [
       "<div>\n",
       "<style scoped>\n",
       "    .dataframe tbody tr th:only-of-type {\n",
       "        vertical-align: middle;\n",
       "    }\n",
       "\n",
       "    .dataframe tbody tr th {\n",
       "        vertical-align: top;\n",
       "    }\n",
       "\n",
       "    .dataframe thead th {\n",
       "        text-align: right;\n",
       "    }\n",
       "</style>\n",
       "<table border=\"1\" class=\"dataframe\">\n",
       "  <thead>\n",
       "    <tr style=\"text-align: right;\">\n",
       "      <th></th>\n",
       "      <th>booking_id</th>\n",
       "      <th>property_id</th>\n",
       "      <th>booking_date</th>\n",
       "      <th>check_in_date</th>\n",
       "      <th>checkout_date</th>\n",
       "      <th>no_guests</th>\n",
       "      <th>room_category</th>\n",
       "      <th>booking_platform</th>\n",
       "      <th>ratings_given</th>\n",
       "      <th>booking_status</th>\n",
       "      <th>revenue_generated</th>\n",
       "      <th>revenue_realized</th>\n",
       "    </tr>\n",
       "  </thead>\n",
       "  <tbody>\n",
       "    <tr>\n",
       "      <th>0</th>\n",
       "      <td>May012216558RT11</td>\n",
       "      <td>16558</td>\n",
       "      <td>27-04-22</td>\n",
       "      <td>1/5/2022</td>\n",
       "      <td>2/5/2022</td>\n",
       "      <td>-3.0</td>\n",
       "      <td>RT1</td>\n",
       "      <td>direct online</td>\n",
       "      <td>1.0</td>\n",
       "      <td>Checked Out</td>\n",
       "      <td>10010</td>\n",
       "      <td>10010</td>\n",
       "    </tr>\n",
       "    <tr>\n",
       "      <th>1</th>\n",
       "      <td>May012216558RT12</td>\n",
       "      <td>16558</td>\n",
       "      <td>30-04-22</td>\n",
       "      <td>1/5/2022</td>\n",
       "      <td>2/5/2022</td>\n",
       "      <td>2.0</td>\n",
       "      <td>RT1</td>\n",
       "      <td>others</td>\n",
       "      <td>NaN</td>\n",
       "      <td>Cancelled</td>\n",
       "      <td>9100</td>\n",
       "      <td>3640</td>\n",
       "    </tr>\n",
       "    <tr>\n",
       "      <th>2</th>\n",
       "      <td>May012216558RT13</td>\n",
       "      <td>16558</td>\n",
       "      <td>28-04-22</td>\n",
       "      <td>1/5/2022</td>\n",
       "      <td>4/5/2022</td>\n",
       "      <td>2.0</td>\n",
       "      <td>RT1</td>\n",
       "      <td>logtrip</td>\n",
       "      <td>5.0</td>\n",
       "      <td>Checked Out</td>\n",
       "      <td>9100000</td>\n",
       "      <td>9100</td>\n",
       "    </tr>\n",
       "    <tr>\n",
       "      <th>3</th>\n",
       "      <td>May012216558RT14</td>\n",
       "      <td>16558</td>\n",
       "      <td>28-04-22</td>\n",
       "      <td>1/5/2022</td>\n",
       "      <td>2/5/2022</td>\n",
       "      <td>-2.0</td>\n",
       "      <td>RT1</td>\n",
       "      <td>others</td>\n",
       "      <td>NaN</td>\n",
       "      <td>Cancelled</td>\n",
       "      <td>9100</td>\n",
       "      <td>3640</td>\n",
       "    </tr>\n",
       "  </tbody>\n",
       "</table>\n",
       "</div>"
      ],
      "text/plain": [
       "         booking_id  property_id booking_date check_in_date checkout_date  \\\n",
       "0  May012216558RT11        16558     27-04-22      1/5/2022      2/5/2022   \n",
       "1  May012216558RT12        16558     30-04-22      1/5/2022      2/5/2022   \n",
       "2  May012216558RT13        16558     28-04-22      1/5/2022      4/5/2022   \n",
       "3  May012216558RT14        16558     28-04-22      1/5/2022      2/5/2022   \n",
       "\n",
       "   no_guests room_category booking_platform  ratings_given booking_status  \\\n",
       "0       -3.0           RT1    direct online            1.0    Checked Out   \n",
       "1        2.0           RT1           others            NaN      Cancelled   \n",
       "2        2.0           RT1          logtrip            5.0    Checked Out   \n",
       "3       -2.0           RT1           others            NaN      Cancelled   \n",
       "\n",
       "   revenue_generated  revenue_realized  \n",
       "0              10010             10010  \n",
       "1               9100              3640  \n",
       "2            9100000              9100  \n",
       "3               9100              3640  "
      ]
     },
     "execution_count": 151,
     "metadata": {},
     "output_type": "execute_result"
    }
   ],
   "source": [
    "df_bookings.head(4)"
   ]
  },
  {
   "cell_type": "code",
   "execution_count": 152,
   "id": "a1fd5676",
   "metadata": {},
   "outputs": [
    {
     "data": {
      "text/html": [
       "<div>\n",
       "<style scoped>\n",
       "    .dataframe tbody tr th:only-of-type {\n",
       "        vertical-align: middle;\n",
       "    }\n",
       "\n",
       "    .dataframe tbody tr th {\n",
       "        vertical-align: top;\n",
       "    }\n",
       "\n",
       "    .dataframe thead th {\n",
       "        text-align: right;\n",
       "    }\n",
       "</style>\n",
       "<table border=\"1\" class=\"dataframe\">\n",
       "  <thead>\n",
       "    <tr style=\"text-align: right;\">\n",
       "      <th></th>\n",
       "      <th>property_id</th>\n",
       "      <th>property_name</th>\n",
       "      <th>category</th>\n",
       "      <th>city</th>\n",
       "    </tr>\n",
       "  </thead>\n",
       "  <tbody>\n",
       "    <tr>\n",
       "      <th>0</th>\n",
       "      <td>16558</td>\n",
       "      <td>Atliq Grands</td>\n",
       "      <td>Luxury</td>\n",
       "      <td>Delhi</td>\n",
       "    </tr>\n",
       "    <tr>\n",
       "      <th>1</th>\n",
       "      <td>16559</td>\n",
       "      <td>Atliq Exotica</td>\n",
       "      <td>Luxury</td>\n",
       "      <td>Mumbai</td>\n",
       "    </tr>\n",
       "    <tr>\n",
       "      <th>2</th>\n",
       "      <td>16560</td>\n",
       "      <td>Atliq City</td>\n",
       "      <td>Business</td>\n",
       "      <td>Delhi</td>\n",
       "    </tr>\n",
       "    <tr>\n",
       "      <th>3</th>\n",
       "      <td>16561</td>\n",
       "      <td>Atliq Blu</td>\n",
       "      <td>Luxury</td>\n",
       "      <td>Delhi</td>\n",
       "    </tr>\n",
       "  </tbody>\n",
       "</table>\n",
       "</div>"
      ],
      "text/plain": [
       "   property_id  property_name  category    city\n",
       "0        16558   Atliq Grands    Luxury   Delhi\n",
       "1        16559  Atliq Exotica    Luxury  Mumbai\n",
       "2        16560     Atliq City  Business   Delhi\n",
       "3        16561      Atliq Blu    Luxury   Delhi"
      ]
     },
     "execution_count": 152,
     "metadata": {},
     "output_type": "execute_result"
    }
   ],
   "source": [
    "df_hotel.head(4)"
   ]
  },
  {
   "cell_type": "code",
   "execution_count": 154,
   "id": "4e8cbe5a",
   "metadata": {},
   "outputs": [
    {
     "data": {
      "text/html": [
       "<div>\n",
       "<style scoped>\n",
       "    .dataframe tbody tr th:only-of-type {\n",
       "        vertical-align: middle;\n",
       "    }\n",
       "\n",
       "    .dataframe tbody tr th {\n",
       "        vertical-align: top;\n",
       "    }\n",
       "\n",
       "    .dataframe thead th {\n",
       "        text-align: right;\n",
       "    }\n",
       "</style>\n",
       "<table border=\"1\" class=\"dataframe\">\n",
       "  <thead>\n",
       "    <tr style=\"text-align: right;\">\n",
       "      <th></th>\n",
       "      <th>booking_id</th>\n",
       "      <th>property_id</th>\n",
       "      <th>booking_date</th>\n",
       "      <th>check_in_date</th>\n",
       "      <th>checkout_date</th>\n",
       "      <th>no_guests</th>\n",
       "      <th>room_category</th>\n",
       "      <th>booking_platform</th>\n",
       "      <th>ratings_given</th>\n",
       "      <th>booking_status</th>\n",
       "      <th>revenue_generated</th>\n",
       "      <th>revenue_realized</th>\n",
       "      <th>property_name</th>\n",
       "      <th>category</th>\n",
       "      <th>city</th>\n",
       "    </tr>\n",
       "  </thead>\n",
       "  <tbody>\n",
       "    <tr>\n",
       "      <th>0</th>\n",
       "      <td>May012216558RT11</td>\n",
       "      <td>16558</td>\n",
       "      <td>27-04-22</td>\n",
       "      <td>1/5/2022</td>\n",
       "      <td>2/5/2022</td>\n",
       "      <td>-3.0</td>\n",
       "      <td>RT1</td>\n",
       "      <td>direct online</td>\n",
       "      <td>1.0</td>\n",
       "      <td>Checked Out</td>\n",
       "      <td>10010</td>\n",
       "      <td>10010</td>\n",
       "      <td>Atliq Grands</td>\n",
       "      <td>Luxury</td>\n",
       "      <td>Delhi</td>\n",
       "    </tr>\n",
       "    <tr>\n",
       "      <th>1</th>\n",
       "      <td>May012216558RT12</td>\n",
       "      <td>16558</td>\n",
       "      <td>30-04-22</td>\n",
       "      <td>1/5/2022</td>\n",
       "      <td>2/5/2022</td>\n",
       "      <td>2.0</td>\n",
       "      <td>RT1</td>\n",
       "      <td>others</td>\n",
       "      <td>NaN</td>\n",
       "      <td>Cancelled</td>\n",
       "      <td>9100</td>\n",
       "      <td>3640</td>\n",
       "      <td>Atliq Grands</td>\n",
       "      <td>Luxury</td>\n",
       "      <td>Delhi</td>\n",
       "    </tr>\n",
       "    <tr>\n",
       "      <th>2</th>\n",
       "      <td>May012216558RT13</td>\n",
       "      <td>16558</td>\n",
       "      <td>28-04-22</td>\n",
       "      <td>1/5/2022</td>\n",
       "      <td>4/5/2022</td>\n",
       "      <td>2.0</td>\n",
       "      <td>RT1</td>\n",
       "      <td>logtrip</td>\n",
       "      <td>5.0</td>\n",
       "      <td>Checked Out</td>\n",
       "      <td>9100000</td>\n",
       "      <td>9100</td>\n",
       "      <td>Atliq Grands</td>\n",
       "      <td>Luxury</td>\n",
       "      <td>Delhi</td>\n",
       "    </tr>\n",
       "    <tr>\n",
       "      <th>3</th>\n",
       "      <td>May012216558RT14</td>\n",
       "      <td>16558</td>\n",
       "      <td>28-04-22</td>\n",
       "      <td>1/5/2022</td>\n",
       "      <td>2/5/2022</td>\n",
       "      <td>-2.0</td>\n",
       "      <td>RT1</td>\n",
       "      <td>others</td>\n",
       "      <td>NaN</td>\n",
       "      <td>Cancelled</td>\n",
       "      <td>9100</td>\n",
       "      <td>3640</td>\n",
       "      <td>Atliq Grands</td>\n",
       "      <td>Luxury</td>\n",
       "      <td>Delhi</td>\n",
       "    </tr>\n",
       "  </tbody>\n",
       "</table>\n",
       "</div>"
      ],
      "text/plain": [
       "         booking_id  property_id booking_date check_in_date checkout_date  \\\n",
       "0  May012216558RT11        16558     27-04-22      1/5/2022      2/5/2022   \n",
       "1  May012216558RT12        16558     30-04-22      1/5/2022      2/5/2022   \n",
       "2  May012216558RT13        16558     28-04-22      1/5/2022      4/5/2022   \n",
       "3  May012216558RT14        16558     28-04-22      1/5/2022      2/5/2022   \n",
       "\n",
       "   no_guests room_category booking_platform  ratings_given booking_status  \\\n",
       "0       -3.0           RT1    direct online            1.0    Checked Out   \n",
       "1        2.0           RT1           others            NaN      Cancelled   \n",
       "2        2.0           RT1          logtrip            5.0    Checked Out   \n",
       "3       -2.0           RT1           others            NaN      Cancelled   \n",
       "\n",
       "   revenue_generated  revenue_realized property_name category   city  \n",
       "0              10010             10010  Atliq Grands   Luxury  Delhi  \n",
       "1               9100              3640  Atliq Grands   Luxury  Delhi  \n",
       "2            9100000              9100  Atliq Grands   Luxury  Delhi  \n",
       "3               9100              3640  Atliq Grands   Luxury  Delhi  "
      ]
     },
     "execution_count": 154,
     "metadata": {},
     "output_type": "execute_result"
    }
   ],
   "source": [
    "df_bookings_all = pd.merge(df_bookings,df_hotel,on=\"property_id\")\n",
    "df_bookings_all.head(4)"
   ]
  },
  {
   "cell_type": "code",
   "execution_count": 157,
   "id": "562a4a34",
   "metadata": {},
   "outputs": [
    {
     "data": {
      "text/plain": [
       "city\n",
       "Mumbai       668640991\n",
       "Bangalore    420397050\n",
       "Hyderabad    325232870\n",
       "Delhi        294500318\n",
       "Name: revenue_realized, dtype: int64"
      ]
     },
     "execution_count": 157,
     "metadata": {},
     "output_type": "execute_result"
    }
   ],
   "source": [
    "df_bookings_all.groupby(\"city\")['revenue_realized'].sum().sort_values(ascending=False)"
   ]
  },
  {
   "cell_type": "markdown",
   "id": "b2da4dc9",
   "metadata": {},
   "source": [
    "**7. Month by Month Revenue**"
   ]
  },
  {
   "cell_type": "code",
   "execution_count": 162,
   "id": "6cad5b47",
   "metadata": {},
   "outputs": [
    {
     "data": {
      "text/html": [
       "<div>\n",
       "<style scoped>\n",
       "    .dataframe tbody tr th:only-of-type {\n",
       "        vertical-align: middle;\n",
       "    }\n",
       "\n",
       "    .dataframe tbody tr th {\n",
       "        vertical-align: top;\n",
       "    }\n",
       "\n",
       "    .dataframe thead th {\n",
       "        text-align: right;\n",
       "    }\n",
       "</style>\n",
       "<table border=\"1\" class=\"dataframe\">\n",
       "  <thead>\n",
       "    <tr style=\"text-align: right;\">\n",
       "      <th></th>\n",
       "      <th>booking_id</th>\n",
       "      <th>property_id</th>\n",
       "      <th>booking_date</th>\n",
       "      <th>check_in_date</th>\n",
       "      <th>checkout_date</th>\n",
       "      <th>no_guests</th>\n",
       "      <th>room_category</th>\n",
       "      <th>booking_platform</th>\n",
       "      <th>ratings_given</th>\n",
       "      <th>booking_status</th>\n",
       "      <th>revenue_generated</th>\n",
       "      <th>revenue_realized</th>\n",
       "      <th>property_name</th>\n",
       "      <th>category</th>\n",
       "      <th>city</th>\n",
       "    </tr>\n",
       "  </thead>\n",
       "  <tbody>\n",
       "    <tr>\n",
       "      <th>0</th>\n",
       "      <td>May012216558RT11</td>\n",
       "      <td>16558</td>\n",
       "      <td>27-04-22</td>\n",
       "      <td>1/5/2022</td>\n",
       "      <td>2/5/2022</td>\n",
       "      <td>-3.0</td>\n",
       "      <td>RT1</td>\n",
       "      <td>direct online</td>\n",
       "      <td>1.0</td>\n",
       "      <td>Checked Out</td>\n",
       "      <td>10010</td>\n",
       "      <td>10010</td>\n",
       "      <td>Atliq Grands</td>\n",
       "      <td>Luxury</td>\n",
       "      <td>Delhi</td>\n",
       "    </tr>\n",
       "    <tr>\n",
       "      <th>1</th>\n",
       "      <td>May012216558RT12</td>\n",
       "      <td>16558</td>\n",
       "      <td>30-04-22</td>\n",
       "      <td>1/5/2022</td>\n",
       "      <td>2/5/2022</td>\n",
       "      <td>2.0</td>\n",
       "      <td>RT1</td>\n",
       "      <td>others</td>\n",
       "      <td>NaN</td>\n",
       "      <td>Cancelled</td>\n",
       "      <td>9100</td>\n",
       "      <td>3640</td>\n",
       "      <td>Atliq Grands</td>\n",
       "      <td>Luxury</td>\n",
       "      <td>Delhi</td>\n",
       "    </tr>\n",
       "    <tr>\n",
       "      <th>2</th>\n",
       "      <td>May012216558RT13</td>\n",
       "      <td>16558</td>\n",
       "      <td>28-04-22</td>\n",
       "      <td>1/5/2022</td>\n",
       "      <td>4/5/2022</td>\n",
       "      <td>2.0</td>\n",
       "      <td>RT1</td>\n",
       "      <td>logtrip</td>\n",
       "      <td>5.0</td>\n",
       "      <td>Checked Out</td>\n",
       "      <td>9100000</td>\n",
       "      <td>9100</td>\n",
       "      <td>Atliq Grands</td>\n",
       "      <td>Luxury</td>\n",
       "      <td>Delhi</td>\n",
       "    </tr>\n",
       "    <tr>\n",
       "      <th>3</th>\n",
       "      <td>May012216558RT14</td>\n",
       "      <td>16558</td>\n",
       "      <td>28-04-22</td>\n",
       "      <td>1/5/2022</td>\n",
       "      <td>2/5/2022</td>\n",
       "      <td>-2.0</td>\n",
       "      <td>RT1</td>\n",
       "      <td>others</td>\n",
       "      <td>NaN</td>\n",
       "      <td>Cancelled</td>\n",
       "      <td>9100</td>\n",
       "      <td>3640</td>\n",
       "      <td>Atliq Grands</td>\n",
       "      <td>Luxury</td>\n",
       "      <td>Delhi</td>\n",
       "    </tr>\n",
       "  </tbody>\n",
       "</table>\n",
       "</div>"
      ],
      "text/plain": [
       "         booking_id  property_id booking_date check_in_date checkout_date  \\\n",
       "0  May012216558RT11        16558     27-04-22      1/5/2022      2/5/2022   \n",
       "1  May012216558RT12        16558     30-04-22      1/5/2022      2/5/2022   \n",
       "2  May012216558RT13        16558     28-04-22      1/5/2022      4/5/2022   \n",
       "3  May012216558RT14        16558     28-04-22      1/5/2022      2/5/2022   \n",
       "\n",
       "   no_guests room_category booking_platform  ratings_given booking_status  \\\n",
       "0       -3.0           RT1    direct online            1.0    Checked Out   \n",
       "1        2.0           RT1           others            NaN      Cancelled   \n",
       "2        2.0           RT1          logtrip            5.0    Checked Out   \n",
       "3       -2.0           RT1           others            NaN      Cancelled   \n",
       "\n",
       "   revenue_generated  revenue_realized property_name category   city  \n",
       "0              10010             10010  Atliq Grands   Luxury  Delhi  \n",
       "1               9100              3640  Atliq Grands   Luxury  Delhi  \n",
       "2            9100000              9100  Atliq Grands   Luxury  Delhi  \n",
       "3               9100              3640  Atliq Grands   Luxury  Delhi  "
      ]
     },
     "execution_count": 162,
     "metadata": {},
     "output_type": "execute_result"
    }
   ],
   "source": [
    "df_bookings_all.head(4)"
   ]
  },
  {
   "cell_type": "code",
   "execution_count": 164,
   "id": "48c158d3",
   "metadata": {
    "scrolled": true
   },
   "outputs": [
    {
     "data": {
      "text/html": [
       "<div>\n",
       "<style scoped>\n",
       "    .dataframe tbody tr th:only-of-type {\n",
       "        vertical-align: middle;\n",
       "    }\n",
       "\n",
       "    .dataframe tbody tr th {\n",
       "        vertical-align: top;\n",
       "    }\n",
       "\n",
       "    .dataframe thead th {\n",
       "        text-align: right;\n",
       "    }\n",
       "</style>\n",
       "<table border=\"1\" class=\"dataframe\">\n",
       "  <thead>\n",
       "    <tr style=\"text-align: right;\">\n",
       "      <th></th>\n",
       "      <th>date</th>\n",
       "      <th>mmm yy</th>\n",
       "      <th>week no</th>\n",
       "      <th>day_type</th>\n",
       "    </tr>\n",
       "  </thead>\n",
       "  <tbody>\n",
       "    <tr>\n",
       "      <th>0</th>\n",
       "      <td>01-May-22</td>\n",
       "      <td>May 22</td>\n",
       "      <td>W 19</td>\n",
       "      <td>weekend</td>\n",
       "    </tr>\n",
       "    <tr>\n",
       "      <th>1</th>\n",
       "      <td>02-May-22</td>\n",
       "      <td>May 22</td>\n",
       "      <td>W 19</td>\n",
       "      <td>weekeday</td>\n",
       "    </tr>\n",
       "    <tr>\n",
       "      <th>2</th>\n",
       "      <td>03-May-22</td>\n",
       "      <td>May 22</td>\n",
       "      <td>W 19</td>\n",
       "      <td>weekeday</td>\n",
       "    </tr>\n",
       "    <tr>\n",
       "      <th>3</th>\n",
       "      <td>04-May-22</td>\n",
       "      <td>May 22</td>\n",
       "      <td>W 19</td>\n",
       "      <td>weekeday</td>\n",
       "    </tr>\n",
       "  </tbody>\n",
       "</table>\n",
       "</div>"
      ],
      "text/plain": [
       "        date  mmm yy week no  day_type\n",
       "0  01-May-22  May 22    W 19   weekend\n",
       "1  02-May-22  May 22    W 19  weekeday\n",
       "2  03-May-22  May 22    W 19  weekeday\n",
       "3  04-May-22  May 22    W 19  weekeday"
      ]
     },
     "execution_count": 164,
     "metadata": {},
     "output_type": "execute_result"
    }
   ],
   "source": [
    "df_date.head(4)"
   ]
  },
  {
   "cell_type": "code",
   "execution_count": 166,
   "id": "e221fc95",
   "metadata": {},
   "outputs": [
    {
     "data": {
      "text/plain": [
       "array(['May 22', 'Jun 22', 'Jul 22'], dtype=object)"
      ]
     },
     "execution_count": 166,
     "metadata": {},
     "output_type": "execute_result"
    }
   ],
   "source": [
    "df_date[\"mmm yy\"].unique()"
   ]
  },
  {
   "cell_type": "code",
   "execution_count": 165,
   "id": "5412757a",
   "metadata": {},
   "outputs": [
    {
     "data": {
      "text/html": [
       "<div>\n",
       "<style scoped>\n",
       "    .dataframe tbody tr th:only-of-type {\n",
       "        vertical-align: middle;\n",
       "    }\n",
       "\n",
       "    .dataframe tbody tr th {\n",
       "        vertical-align: top;\n",
       "    }\n",
       "\n",
       "    .dataframe thead th {\n",
       "        text-align: right;\n",
       "    }\n",
       "</style>\n",
       "<table border=\"1\" class=\"dataframe\">\n",
       "  <thead>\n",
       "    <tr style=\"text-align: right;\">\n",
       "      <th></th>\n",
       "      <th>booking_id</th>\n",
       "      <th>property_id</th>\n",
       "      <th>booking_date</th>\n",
       "      <th>check_in_date</th>\n",
       "      <th>checkout_date</th>\n",
       "      <th>no_guests</th>\n",
       "      <th>room_category</th>\n",
       "      <th>booking_platform</th>\n",
       "      <th>ratings_given</th>\n",
       "      <th>booking_status</th>\n",
       "      <th>revenue_generated</th>\n",
       "      <th>revenue_realized</th>\n",
       "      <th>property_name</th>\n",
       "      <th>category</th>\n",
       "      <th>city</th>\n",
       "      <th>date</th>\n",
       "      <th>mmm yy</th>\n",
       "      <th>week no</th>\n",
       "      <th>day_type</th>\n",
       "    </tr>\n",
       "  </thead>\n",
       "  <tbody>\n",
       "  </tbody>\n",
       "</table>\n",
       "</div>"
      ],
      "text/plain": [
       "Empty DataFrame\n",
       "Columns: [booking_id, property_id, booking_date, check_in_date, checkout_date, no_guests, room_category, booking_platform, ratings_given, booking_status, revenue_generated, revenue_realized, property_name, category, city, date, mmm yy, week no, day_type]\n",
       "Index: []"
      ]
     },
     "execution_count": 165,
     "metadata": {},
     "output_type": "execute_result"
    }
   ],
   "source": [
    "pd.merge(df_bookings_all,df_date,left_on=\"check_in_date\",right_on=\"date\")"
   ]
  },
  {
   "cell_type": "code",
   "execution_count": 167,
   "id": "b4700361",
   "metadata": {},
   "outputs": [
    {
     "name": "stdout",
     "output_type": "stream",
     "text": [
      "<class 'pandas.core.frame.DataFrame'>\n",
      "Int64Index: 134590 entries, 0 to 134589\n",
      "Data columns (total 15 columns):\n",
      " #   Column             Non-Null Count   Dtype  \n",
      "---  ------             --------------   -----  \n",
      " 0   booking_id         134590 non-null  object \n",
      " 1   property_id        134590 non-null  int64  \n",
      " 2   booking_date       134590 non-null  object \n",
      " 3   check_in_date      134590 non-null  object \n",
      " 4   checkout_date      134590 non-null  object \n",
      " 5   no_guests          134587 non-null  float64\n",
      " 6   room_category      134590 non-null  object \n",
      " 7   booking_platform   134590 non-null  object \n",
      " 8   ratings_given      56683 non-null   float64\n",
      " 9   booking_status     134590 non-null  object \n",
      " 10  revenue_generated  134590 non-null  int64  \n",
      " 11  revenue_realized   134590 non-null  int64  \n",
      " 12  property_name      134590 non-null  object \n",
      " 13  category           134590 non-null  object \n",
      " 14  city               134590 non-null  object \n",
      "dtypes: float64(2), int64(3), object(10)\n",
      "memory usage: 20.5+ MB\n"
     ]
    }
   ],
   "source": [
    "df_bookings_all.info()"
   ]
  },
  {
   "cell_type": "code",
   "execution_count": 168,
   "id": "e4528e81",
   "metadata": {},
   "outputs": [
    {
     "name": "stdout",
     "output_type": "stream",
     "text": [
      "<class 'pandas.core.frame.DataFrame'>\n",
      "RangeIndex: 92 entries, 0 to 91\n",
      "Data columns (total 4 columns):\n",
      " #   Column    Non-Null Count  Dtype \n",
      "---  ------    --------------  ----- \n",
      " 0   date      92 non-null     object\n",
      " 1   mmm yy    92 non-null     object\n",
      " 2   week no   92 non-null     object\n",
      " 3   day_type  92 non-null     object\n",
      "dtypes: object(4)\n",
      "memory usage: 3.0+ KB\n"
     ]
    }
   ],
   "source": [
    "df_date.info()"
   ]
  },
  {
   "cell_type": "code",
   "execution_count": 170,
   "id": "11a54c80",
   "metadata": {},
   "outputs": [
    {
     "data": {
      "text/html": [
       "<div>\n",
       "<style scoped>\n",
       "    .dataframe tbody tr th:only-of-type {\n",
       "        vertical-align: middle;\n",
       "    }\n",
       "\n",
       "    .dataframe tbody tr th {\n",
       "        vertical-align: top;\n",
       "    }\n",
       "\n",
       "    .dataframe thead th {\n",
       "        text-align: right;\n",
       "    }\n",
       "</style>\n",
       "<table border=\"1\" class=\"dataframe\">\n",
       "  <thead>\n",
       "    <tr style=\"text-align: right;\">\n",
       "      <th></th>\n",
       "      <th>date</th>\n",
       "      <th>mmm yy</th>\n",
       "      <th>week no</th>\n",
       "      <th>day_type</th>\n",
       "    </tr>\n",
       "  </thead>\n",
       "  <tbody>\n",
       "    <tr>\n",
       "      <th>0</th>\n",
       "      <td>2022-05-01</td>\n",
       "      <td>May 22</td>\n",
       "      <td>W 19</td>\n",
       "      <td>weekend</td>\n",
       "    </tr>\n",
       "    <tr>\n",
       "      <th>1</th>\n",
       "      <td>2022-05-02</td>\n",
       "      <td>May 22</td>\n",
       "      <td>W 19</td>\n",
       "      <td>weekeday</td>\n",
       "    </tr>\n",
       "    <tr>\n",
       "      <th>2</th>\n",
       "      <td>2022-05-03</td>\n",
       "      <td>May 22</td>\n",
       "      <td>W 19</td>\n",
       "      <td>weekeday</td>\n",
       "    </tr>\n",
       "    <tr>\n",
       "      <th>3</th>\n",
       "      <td>2022-05-04</td>\n",
       "      <td>May 22</td>\n",
       "      <td>W 19</td>\n",
       "      <td>weekeday</td>\n",
       "    </tr>\n",
       "  </tbody>\n",
       "</table>\n",
       "</div>"
      ],
      "text/plain": [
       "        date  mmm yy week no  day_type\n",
       "0 2022-05-01  May 22    W 19   weekend\n",
       "1 2022-05-02  May 22    W 19  weekeday\n",
       "2 2022-05-03  May 22    W 19  weekeday\n",
       "3 2022-05-04  May 22    W 19  weekeday"
      ]
     },
     "execution_count": 170,
     "metadata": {},
     "output_type": "execute_result"
    }
   ],
   "source": [
    "df_date[\"date\"] = pd.to_datetime(df_date['date'])\n",
    "df_date.head(4)"
   ]
  },
  {
   "cell_type": "code",
   "execution_count": 172,
   "id": "4248fb94",
   "metadata": {},
   "outputs": [
    {
     "name": "stdout",
     "output_type": "stream",
     "text": [
      "<class 'pandas.core.frame.DataFrame'>\n",
      "RangeIndex: 92 entries, 0 to 91\n",
      "Data columns (total 4 columns):\n",
      " #   Column    Non-Null Count  Dtype         \n",
      "---  ------    --------------  -----         \n",
      " 0   date      92 non-null     datetime64[ns]\n",
      " 1   mmm yy    92 non-null     object        \n",
      " 2   week no   92 non-null     object        \n",
      " 3   day_type  92 non-null     object        \n",
      "dtypes: datetime64[ns](1), object(3)\n",
      "memory usage: 3.0+ KB\n"
     ]
    }
   ],
   "source": [
    "df_date.info()"
   ]
  },
  {
   "cell_type": "code",
   "execution_count": 174,
   "id": "e8dee4b9",
   "metadata": {},
   "outputs": [
    {
     "data": {
      "text/html": [
       "<div>\n",
       "<style scoped>\n",
       "    .dataframe tbody tr th:only-of-type {\n",
       "        vertical-align: middle;\n",
       "    }\n",
       "\n",
       "    .dataframe tbody tr th {\n",
       "        vertical-align: top;\n",
       "    }\n",
       "\n",
       "    .dataframe thead th {\n",
       "        text-align: right;\n",
       "    }\n",
       "</style>\n",
       "<table border=\"1\" class=\"dataframe\">\n",
       "  <thead>\n",
       "    <tr style=\"text-align: right;\">\n",
       "      <th></th>\n",
       "      <th>booking_id</th>\n",
       "      <th>property_id</th>\n",
       "      <th>booking_date</th>\n",
       "      <th>check_in_date</th>\n",
       "      <th>checkout_date</th>\n",
       "      <th>no_guests</th>\n",
       "      <th>room_category</th>\n",
       "      <th>booking_platform</th>\n",
       "      <th>ratings_given</th>\n",
       "      <th>booking_status</th>\n",
       "      <th>revenue_generated</th>\n",
       "      <th>revenue_realized</th>\n",
       "      <th>property_name</th>\n",
       "      <th>category</th>\n",
       "      <th>city</th>\n",
       "    </tr>\n",
       "  </thead>\n",
       "  <tbody>\n",
       "    <tr>\n",
       "      <th>0</th>\n",
       "      <td>May012216558RT11</td>\n",
       "      <td>16558</td>\n",
       "      <td>27-04-22</td>\n",
       "      <td>2022-01-05</td>\n",
       "      <td>2/5/2022</td>\n",
       "      <td>-3.0</td>\n",
       "      <td>RT1</td>\n",
       "      <td>direct online</td>\n",
       "      <td>1.0</td>\n",
       "      <td>Checked Out</td>\n",
       "      <td>10010</td>\n",
       "      <td>10010</td>\n",
       "      <td>Atliq Grands</td>\n",
       "      <td>Luxury</td>\n",
       "      <td>Delhi</td>\n",
       "    </tr>\n",
       "    <tr>\n",
       "      <th>1</th>\n",
       "      <td>May012216558RT12</td>\n",
       "      <td>16558</td>\n",
       "      <td>30-04-22</td>\n",
       "      <td>2022-01-05</td>\n",
       "      <td>2/5/2022</td>\n",
       "      <td>2.0</td>\n",
       "      <td>RT1</td>\n",
       "      <td>others</td>\n",
       "      <td>NaN</td>\n",
       "      <td>Cancelled</td>\n",
       "      <td>9100</td>\n",
       "      <td>3640</td>\n",
       "      <td>Atliq Grands</td>\n",
       "      <td>Luxury</td>\n",
       "      <td>Delhi</td>\n",
       "    </tr>\n",
       "    <tr>\n",
       "      <th>2</th>\n",
       "      <td>May012216558RT13</td>\n",
       "      <td>16558</td>\n",
       "      <td>28-04-22</td>\n",
       "      <td>2022-01-05</td>\n",
       "      <td>4/5/2022</td>\n",
       "      <td>2.0</td>\n",
       "      <td>RT1</td>\n",
       "      <td>logtrip</td>\n",
       "      <td>5.0</td>\n",
       "      <td>Checked Out</td>\n",
       "      <td>9100000</td>\n",
       "      <td>9100</td>\n",
       "      <td>Atliq Grands</td>\n",
       "      <td>Luxury</td>\n",
       "      <td>Delhi</td>\n",
       "    </tr>\n",
       "    <tr>\n",
       "      <th>3</th>\n",
       "      <td>May012216558RT14</td>\n",
       "      <td>16558</td>\n",
       "      <td>28-04-22</td>\n",
       "      <td>2022-01-05</td>\n",
       "      <td>2/5/2022</td>\n",
       "      <td>-2.0</td>\n",
       "      <td>RT1</td>\n",
       "      <td>others</td>\n",
       "      <td>NaN</td>\n",
       "      <td>Cancelled</td>\n",
       "      <td>9100</td>\n",
       "      <td>3640</td>\n",
       "      <td>Atliq Grands</td>\n",
       "      <td>Luxury</td>\n",
       "      <td>Delhi</td>\n",
       "    </tr>\n",
       "  </tbody>\n",
       "</table>\n",
       "</div>"
      ],
      "text/plain": [
       "         booking_id  property_id booking_date check_in_date checkout_date  \\\n",
       "0  May012216558RT11        16558     27-04-22    2022-01-05      2/5/2022   \n",
       "1  May012216558RT12        16558     30-04-22    2022-01-05      2/5/2022   \n",
       "2  May012216558RT13        16558     28-04-22    2022-01-05      4/5/2022   \n",
       "3  May012216558RT14        16558     28-04-22    2022-01-05      2/5/2022   \n",
       "\n",
       "   no_guests room_category booking_platform  ratings_given booking_status  \\\n",
       "0       -3.0           RT1    direct online            1.0    Checked Out   \n",
       "1        2.0           RT1           others            NaN      Cancelled   \n",
       "2        2.0           RT1          logtrip            5.0    Checked Out   \n",
       "3       -2.0           RT1           others            NaN      Cancelled   \n",
       "\n",
       "   revenue_generated  revenue_realized property_name category   city  \n",
       "0              10010             10010  Atliq Grands   Luxury  Delhi  \n",
       "1               9100              3640  Atliq Grands   Luxury  Delhi  \n",
       "2            9100000              9100  Atliq Grands   Luxury  Delhi  \n",
       "3               9100              3640  Atliq Grands   Luxury  Delhi  "
      ]
     },
     "execution_count": 174,
     "metadata": {},
     "output_type": "execute_result"
    }
   ],
   "source": [
    "df_bookings_all[\"check_in_date\"] = pd.to_datetime(df_bookings_all[\"check_in_date\"])\n",
    "df_bookings_all.head(4)"
   ]
  },
  {
   "cell_type": "code",
   "execution_count": 175,
   "id": "8159163a",
   "metadata": {},
   "outputs": [
    {
     "name": "stdout",
     "output_type": "stream",
     "text": [
      "<class 'pandas.core.frame.DataFrame'>\n",
      "Int64Index: 134590 entries, 0 to 134589\n",
      "Data columns (total 15 columns):\n",
      " #   Column             Non-Null Count   Dtype         \n",
      "---  ------             --------------   -----         \n",
      " 0   booking_id         134590 non-null  object        \n",
      " 1   property_id        134590 non-null  int64         \n",
      " 2   booking_date       134590 non-null  object        \n",
      " 3   check_in_date      134590 non-null  datetime64[ns]\n",
      " 4   checkout_date      134590 non-null  object        \n",
      " 5   no_guests          134587 non-null  float64       \n",
      " 6   room_category      134590 non-null  object        \n",
      " 7   booking_platform   134590 non-null  object        \n",
      " 8   ratings_given      56683 non-null   float64       \n",
      " 9   booking_status     134590 non-null  object        \n",
      " 10  revenue_generated  134590 non-null  int64         \n",
      " 11  revenue_realized   134590 non-null  int64         \n",
      " 12  property_name      134590 non-null  object        \n",
      " 13  category           134590 non-null  object        \n",
      " 14  city               134590 non-null  object        \n",
      "dtypes: datetime64[ns](1), float64(2), int64(3), object(9)\n",
      "memory usage: 20.5+ MB\n"
     ]
    }
   ],
   "source": [
    "df_bookings_all.info()"
   ]
  },
  {
   "cell_type": "code",
   "execution_count": 181,
   "id": "324dfb67",
   "metadata": {},
   "outputs": [
    {
     "data": {
      "text/html": [
       "<div>\n",
       "<style scoped>\n",
       "    .dataframe tbody tr th:only-of-type {\n",
       "        vertical-align: middle;\n",
       "    }\n",
       "\n",
       "    .dataframe tbody tr th {\n",
       "        vertical-align: top;\n",
       "    }\n",
       "\n",
       "    .dataframe thead th {\n",
       "        text-align: right;\n",
       "    }\n",
       "</style>\n",
       "<table border=\"1\" class=\"dataframe\">\n",
       "  <thead>\n",
       "    <tr style=\"text-align: right;\">\n",
       "      <th></th>\n",
       "      <th>booking_id</th>\n",
       "      <th>property_id</th>\n",
       "      <th>booking_date</th>\n",
       "      <th>check_in_date</th>\n",
       "      <th>checkout_date</th>\n",
       "      <th>no_guests</th>\n",
       "      <th>room_category</th>\n",
       "      <th>booking_platform</th>\n",
       "      <th>ratings_given</th>\n",
       "      <th>booking_status</th>\n",
       "      <th>revenue_generated</th>\n",
       "      <th>revenue_realized</th>\n",
       "      <th>property_name</th>\n",
       "      <th>category</th>\n",
       "      <th>city</th>\n",
       "      <th>date</th>\n",
       "      <th>mmm yy</th>\n",
       "      <th>week no</th>\n",
       "      <th>day_type</th>\n",
       "    </tr>\n",
       "  </thead>\n",
       "  <tbody>\n",
       "    <tr>\n",
       "      <th>0</th>\n",
       "      <td>May052216558RT11</td>\n",
       "      <td>16558</td>\n",
       "      <td>15-04-22</td>\n",
       "      <td>2022-05-05</td>\n",
       "      <td>7/5/2022</td>\n",
       "      <td>3.0</td>\n",
       "      <td>RT1</td>\n",
       "      <td>tripster</td>\n",
       "      <td>5.0</td>\n",
       "      <td>Checked Out</td>\n",
       "      <td>10010</td>\n",
       "      <td>10010</td>\n",
       "      <td>Atliq Grands</td>\n",
       "      <td>Luxury</td>\n",
       "      <td>Delhi</td>\n",
       "      <td>2022-05-05</td>\n",
       "      <td>May 22</td>\n",
       "      <td>W 19</td>\n",
       "      <td>weekeday</td>\n",
       "    </tr>\n",
       "    <tr>\n",
       "      <th>1</th>\n",
       "      <td>May052216558RT12</td>\n",
       "      <td>16558</td>\n",
       "      <td>30-04-22</td>\n",
       "      <td>2022-05-05</td>\n",
       "      <td>7/5/2022</td>\n",
       "      <td>2.0</td>\n",
       "      <td>RT1</td>\n",
       "      <td>others</td>\n",
       "      <td>NaN</td>\n",
       "      <td>Cancelled</td>\n",
       "      <td>9100</td>\n",
       "      <td>3640</td>\n",
       "      <td>Atliq Grands</td>\n",
       "      <td>Luxury</td>\n",
       "      <td>Delhi</td>\n",
       "      <td>2022-05-05</td>\n",
       "      <td>May 22</td>\n",
       "      <td>W 19</td>\n",
       "      <td>weekeday</td>\n",
       "    </tr>\n",
       "    <tr>\n",
       "      <th>2</th>\n",
       "      <td>May052216558RT13</td>\n",
       "      <td>16558</td>\n",
       "      <td>1/5/2022</td>\n",
       "      <td>2022-05-05</td>\n",
       "      <td>6/5/2022</td>\n",
       "      <td>3.0</td>\n",
       "      <td>RT1</td>\n",
       "      <td>direct offline</td>\n",
       "      <td>5.0</td>\n",
       "      <td>Checked Out</td>\n",
       "      <td>10010</td>\n",
       "      <td>10010</td>\n",
       "      <td>Atliq Grands</td>\n",
       "      <td>Luxury</td>\n",
       "      <td>Delhi</td>\n",
       "      <td>2022-05-05</td>\n",
       "      <td>May 22</td>\n",
       "      <td>W 19</td>\n",
       "      <td>weekeday</td>\n",
       "    </tr>\n",
       "  </tbody>\n",
       "</table>\n",
       "</div>"
      ],
      "text/plain": [
       "         booking_id  property_id booking_date check_in_date checkout_date  \\\n",
       "0  May052216558RT11        16558     15-04-22    2022-05-05      7/5/2022   \n",
       "1  May052216558RT12        16558     30-04-22    2022-05-05      7/5/2022   \n",
       "2  May052216558RT13        16558     1/5/2022    2022-05-05      6/5/2022   \n",
       "\n",
       "   no_guests room_category booking_platform  ratings_given booking_status  \\\n",
       "0        3.0           RT1         tripster            5.0    Checked Out   \n",
       "1        2.0           RT1           others            NaN      Cancelled   \n",
       "2        3.0           RT1   direct offline            5.0    Checked Out   \n",
       "\n",
       "   revenue_generated  revenue_realized property_name category   city  \\\n",
       "0              10010             10010  Atliq Grands   Luxury  Delhi   \n",
       "1               9100              3640  Atliq Grands   Luxury  Delhi   \n",
       "2              10010             10010  Atliq Grands   Luxury  Delhi   \n",
       "\n",
       "        date  mmm yy week no  day_type  \n",
       "0 2022-05-05  May 22    W 19  weekeday  \n",
       "1 2022-05-05  May 22    W 19  weekeday  \n",
       "2 2022-05-05  May 22    W 19  weekeday  "
      ]
     },
     "execution_count": 181,
     "metadata": {},
     "output_type": "execute_result"
    }
   ],
   "source": [
    "df_bookings_all = pd.merge(df_bookings_all, df_date, left_on=\"check_in_date\", right_on=\"date\")\n",
    "df_bookings_all.head(3)"
   ]
  },
  {
   "cell_type": "code",
   "execution_count": 183,
   "id": "4ea94ef2",
   "metadata": {},
   "outputs": [
    {
     "data": {
      "text/plain": [
       "mmm yy\n",
       "May 22    408375641\n",
       "Jul 22    390005772\n",
       "Jun 22    377191229\n",
       "Name: revenue_realized, dtype: int64"
      ]
     },
     "execution_count": 183,
     "metadata": {},
     "output_type": "execute_result"
    }
   ],
   "source": [
    "df_bookings_all.groupby('mmm yy')['revenue_realized'].sum().sort_values(ascending=False)"
   ]
  },
  {
   "cell_type": "markdown",
   "id": "fde64128",
   "metadata": {},
   "source": [
    "**8. Revenue realized per booking platform**"
   ]
  },
  {
   "cell_type": "code",
   "execution_count": 184,
   "id": "4906384d",
   "metadata": {},
   "outputs": [
    {
     "data": {
      "text/plain": [
       "array(['tripster', 'others', 'direct offline', 'makeyourtrip', 'logtrip',\n",
       "       'journey', 'direct online'], dtype=object)"
      ]
     },
     "execution_count": 184,
     "metadata": {},
     "output_type": "execute_result"
    }
   ],
   "source": [
    "df_bookings_all['booking_platform'].unique()"
   ]
  },
  {
   "cell_type": "code",
   "execution_count": 185,
   "id": "1d2582b3",
   "metadata": {},
   "outputs": [
    {
     "data": {
      "text/plain": [
       "booking_platform\n",
       "direct offline     59298844\n",
       "journey            71231599\n",
       "tripster           84865013\n",
       "direct online     117257653\n",
       "logtrip           129075081\n",
       "makeyourtrip      233132708\n",
       "others            480711744\n",
       "Name: revenue_realized, dtype: int64"
      ]
     },
     "execution_count": 185,
     "metadata": {},
     "output_type": "execute_result"
    }
   ],
   "source": [
    "grouped_data = df_bookings_all.groupby('booking_platform')['revenue_realized'].sum().sort_values()\n",
    "grouped_data"
   ]
  },
  {
   "cell_type": "code",
   "execution_count": 186,
   "id": "891542fd",
   "metadata": {},
   "outputs": [
    {
     "data": {
      "text/plain": [
       "'others'"
      ]
     },
     "execution_count": 186,
     "metadata": {},
     "output_type": "execute_result"
    }
   ],
   "source": [
    "max_index = grouped_data.idxmax()\n",
    "max_index"
   ]
  },
  {
   "cell_type": "code",
   "execution_count": 204,
   "id": "4bee0c64",
   "metadata": {},
   "outputs": [
    {
     "data": {
      "image/png": "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\n",
      "text/plain": [
       "<Figure size 640x480 with 1 Axes>"
      ]
     },
     "metadata": {},
     "output_type": "display_data"
    }
   ],
   "source": [
    "grouped_data.plot(kind =\"pie\", autopct ='%1.1f%%',startangle = 180, colors = plt.cm.Paired.colors,wedgeprops={'edgecolor': 'white', 'linewidth': 0.5}, explode =[0.05 if booking_platform == max_index else 0 for booking_platform in grouped_data.index ],shadow=True)\n",
    "plt.title(\"Revenue Distribution by Booking Platform\", fontsize=14, fontweight=\"bold\")\n",
    "plt.gca().set_ylabel(\"\")\n",
    "# plt.figure(figsize=(8, 8))\n",
    "plt.tight_layout()\n",
    "plt.show()"
   ]
  },
  {
   "cell_type": "code",
   "execution_count": null,
   "id": "db7e9caa",
   "metadata": {},
   "outputs": [],
   "source": []
  },
  {
   "cell_type": "code",
   "execution_count": null,
   "id": "543b8bd6",
   "metadata": {},
   "outputs": [],
   "source": []
  },
  {
   "cell_type": "code",
   "execution_count": null,
   "id": "d3e381af",
   "metadata": {},
   "outputs": [],
   "source": []
  },
  {
   "cell_type": "code",
   "execution_count": null,
   "id": "74877842",
   "metadata": {},
   "outputs": [],
   "source": []
  },
  {
   "cell_type": "code",
   "execution_count": null,
   "id": "aaaf3861",
   "metadata": {},
   "outputs": [],
   "source": []
  },
  {
   "cell_type": "code",
   "execution_count": null,
   "id": "0241a093",
   "metadata": {},
   "outputs": [],
   "source": []
  },
  {
   "cell_type": "code",
   "execution_count": null,
   "id": "b1913715",
   "metadata": {},
   "outputs": [],
   "source": []
  },
  {
   "cell_type": "code",
   "execution_count": null,
   "id": "d30ec3e1",
   "metadata": {},
   "outputs": [],
   "source": []
  },
  {
   "cell_type": "code",
   "execution_count": null,
   "id": "fb2b0d12",
   "metadata": {},
   "outputs": [],
   "source": []
  },
  {
   "cell_type": "code",
   "execution_count": null,
   "id": "ac357f6d",
   "metadata": {},
   "outputs": [],
   "source": []
  },
  {
   "cell_type": "code",
   "execution_count": null,
   "id": "74f5788e",
   "metadata": {},
   "outputs": [],
   "source": []
  },
  {
   "cell_type": "code",
   "execution_count": null,
   "id": "b3731155",
   "metadata": {},
   "outputs": [],
   "source": []
  },
  {
   "cell_type": "code",
   "execution_count": null,
   "id": "a5059266",
   "metadata": {},
   "outputs": [],
   "source": []
  },
  {
   "cell_type": "code",
   "execution_count": null,
   "id": "b7cf56cb",
   "metadata": {},
   "outputs": [],
   "source": []
  },
  {
   "cell_type": "code",
   "execution_count": null,
   "id": "5618d90a",
   "metadata": {},
   "outputs": [],
   "source": []
  },
  {
   "cell_type": "code",
   "execution_count": null,
   "id": "be9c25b7",
   "metadata": {},
   "outputs": [],
   "source": []
  },
  {
   "cell_type": "code",
   "execution_count": null,
   "id": "93e507e8",
   "metadata": {},
   "outputs": [],
   "source": []
  },
  {
   "cell_type": "code",
   "execution_count": null,
   "id": "606ce722",
   "metadata": {},
   "outputs": [],
   "source": []
  },
  {
   "cell_type": "code",
   "execution_count": null,
   "id": "159cb30c",
   "metadata": {},
   "outputs": [],
   "source": []
  },
  {
   "cell_type": "code",
   "execution_count": null,
   "id": "e40dcc88",
   "metadata": {},
   "outputs": [],
   "source": []
  },
  {
   "cell_type": "code",
   "execution_count": null,
   "id": "b136c18f",
   "metadata": {},
   "outputs": [],
   "source": []
  },
  {
   "cell_type": "code",
   "execution_count": null,
   "id": "e2da3b92",
   "metadata": {},
   "outputs": [],
   "source": []
  },
  {
   "cell_type": "code",
   "execution_count": null,
   "id": "c0757291",
   "metadata": {},
   "outputs": [],
   "source": []
  },
  {
   "cell_type": "code",
   "execution_count": null,
   "id": "9ef216d8",
   "metadata": {},
   "outputs": [],
   "source": []
  },
  {
   "cell_type": "code",
   "execution_count": null,
   "id": "a8554541",
   "metadata": {},
   "outputs": [],
   "source": []
  },
  {
   "cell_type": "code",
   "execution_count": null,
   "id": "b7556fcd",
   "metadata": {},
   "outputs": [],
   "source": []
  },
  {
   "cell_type": "code",
   "execution_count": null,
   "id": "daef7140",
   "metadata": {},
   "outputs": [],
   "source": []
  },
  {
   "cell_type": "code",
   "execution_count": null,
   "id": "f285ed70",
   "metadata": {},
   "outputs": [],
   "source": []
  },
  {
   "cell_type": "code",
   "execution_count": null,
   "id": "9ca74b3c",
   "metadata": {},
   "outputs": [],
   "source": []
  },
  {
   "cell_type": "code",
   "execution_count": null,
   "id": "5d2f7a8b",
   "metadata": {},
   "outputs": [],
   "source": []
  }
 ],
 "metadata": {
  "kernelspec": {
   "display_name": "Python 3 (ipykernel)",
   "language": "python",
   "name": "python3"
  },
  "language_info": {
   "codemirror_mode": {
    "name": "ipython",
    "version": 3
   },
   "file_extension": ".py",
   "mimetype": "text/x-python",
   "name": "python",
   "nbconvert_exporter": "python",
   "pygments_lexer": "ipython3",
   "version": "3.9.13"
  }
 },
 "nbformat": 4,
 "nbformat_minor": 5
}
